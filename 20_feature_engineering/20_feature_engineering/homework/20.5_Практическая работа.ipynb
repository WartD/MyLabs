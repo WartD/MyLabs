{
 "cells": [
  {
   "cell_type": "markdown",
   "id": "20d02d60",
   "metadata": {
    "id": "20d02d60"
   },
   "source": [
    "# Feature Engineering. Практическая работа"
   ]
  },
  {
   "cell_type": "markdown",
   "id": "zy6qaMPhyAZd",
   "metadata": {
    "id": "zy6qaMPhyAZd"
   },
   "source": [
    "Сдаётся на проверку."
   ]
  },
  {
   "cell_type": "markdown",
   "id": "df9d0fa3",
   "metadata": {
    "id": "df9d0fa3"
   },
   "source": [
    "## Цели практической работы\n",
    "\n",
    "Научиться: \n",
    "\n",
    "*   генерировать новые признаки; \n",
    "*   нормализовать и кодировать данные с помощью lambda-функций и библиотеки scikit-learn.\n"
   ]
  },
  {
   "cell_type": "markdown",
   "id": "c4a1bdf2",
   "metadata": {
    "id": "c4a1bdf2"
   },
   "source": [
    "## Что входит в практическую работу\n",
    "\n",
    "1. Построить признаки из строк.\n",
    "2. Преобразовать категориальные переменные.\n",
    "3. Стандартизировать данные.\n",
    "4. Использовать MinMaxScaler для нормализации данных.\n",
    "5. Создать признаки на основе дат.\n",
    "6. Сохранить датафрейм для этапа моделирования."
   ]
  },
  {
   "cell_type": "markdown",
   "id": "cefde751",
   "metadata": {
    "id": "cefde751"
   },
   "source": [
    "## Что оценивается\n",
    "- Программа выдаёт верный ответ на заданном наборе данных.\n",
    "- Описаны причины выбранного решения, если требуется.\n",
    "- Код читабелен: переменным даны осмысленные названия, соблюдены отступы и правила расстановки пробелов.\n",
    "- При построении графиков название и оси подписаны, выведена легенда, если требуется. \n",
    "- Репозиторий проекта содержит осмысленные коммиты, содержащие конкретные реализованные фичи, ветки названы согласно назначению, лишние файлы не хранятся в репозитории.\n",
    "- В репозитории проекта соблюдена иерархия директорий согласно списку модулей и содержащихся в них тем.\n",
    "- Репозиторий проекта содержит файлы с данными, полученными в результате выполнения практической работы.\n"
   ]
  },
  {
   "cell_type": "markdown",
   "id": "d8cc2cfd",
   "metadata": {
    "id": "d8cc2cfd"
   },
   "source": [
    "## Как отправить работу на проверку\n",
    "Сдайте практическую работу этого модуля через систему контроля версий Git сервиса Skillbox GitLab. После загрузки работы на проверку напишите об этом в личном кабинете своему проверяющему куратору.\n"
   ]
  },
  {
   "cell_type": "markdown",
   "id": "3092d4ea",
   "metadata": {
    "id": "3092d4ea",
    "tags": []
   },
   "source": [
    "## Задача\n",
    "\n",
    "Мы продолжим исследовать и готовить данные для этапа моделирования.\n",
    "\n",
    "Вам предстоит работать с небольшой выборкой из коллекции подержанных автомобилей, выставленных на продажу в Соединённых Штатах, представленной в файле `data/vehicles_dataset_upd.csv`. На этих данных вы построите первую модель классификации, определяющую категорию цены подержанного автомобиля в зависимости от характеристик транспортного средства.\n",
    "\n",
    "В этой практической работе вы продолжите генерировать дополнительные признаки и завершите подготовку датасета для этапа моделирования.\n",
    "\n",
    "## Описание датасета:\n",
    "- `id`— идентификатор записи;\n",
    "- `url`— URL-записи о продаже;\n",
    "- `region`— регион;\n",
    "- `region_url`— URL региона;\n",
    "- `price`— стоимость;\n",
    "- `year`— год выпуска;\n",
    "- `manufacturer`— производитель;\n",
    "- `model`— модель;\n",
    "- `condition`— состояние;\n",
    "- `cylinders`— количество цилиндров;\n",
    "- `fuel`— тип топлива;\n",
    "- `odometer`— количество пройденных миль;\n",
    "- `title_status`— статус;\n",
    "- `transmission`— коробка передач;\n",
    "- `VIN`— идентификационный номер;\n",
    "- `drive`— тип привода;\n",
    "- `size`— размер;\n",
    "- `type`— кузов;\n",
    "- `paint_color`— цвет;\n",
    "- `image_url`— URL изображения;\n",
    "- `description`— указанное описание;\n",
    "- `county`— страна;\n",
    "- `state`— штат;\n",
    "- `lat`— широта;\n",
    "- `long`— долгота;\n",
    "- `posting_date`— дата размещения объявления о продаже;\n",
    "- `price_category`— категория цены.\n"
   ]
  },
  {
   "cell_type": "code",
   "execution_count": 3,
   "id": "859c4d2b",
   "metadata": {
    "ExecuteTime": {
     "end_time": "2022-02-23T19:39:15.915860Z",
     "start_time": "2022-02-23T19:39:15.902436Z"
    },
    "execution": {
     "iopub.execute_input": "2023-09-20T06:58:24.193466Z",
     "iopub.status.busy": "2023-09-20T06:58:24.193097Z",
     "iopub.status.idle": "2023-09-20T06:58:24.196829Z",
     "shell.execute_reply": "2023-09-20T06:58:24.196304Z",
     "shell.execute_reply.started": "2023-09-20T06:58:24.193443Z"
    },
    "id": "859c4d2b",
    "tags": []
   },
   "outputs": [],
   "source": [
    "# Импортируйте необходимые библиотеки\n",
    "import pandas as pd\n",
    "import numpy as np\n",
    "from sklearn.preprocessing import OneHotEncoder\n",
    "from sklearn.preprocessing import StandardScaler\n",
    "from sklearn.preprocessing import MinMaxScaler"
   ]
  },
  {
   "cell_type": "markdown",
   "id": "a98b05f6",
   "metadata": {
    "id": "a98b05f6"
   },
   "source": [
    "### Задача 1. Построение признаков из строк\n",
    "\n",
    "1. Загрузите датасет из `data/vehicles_dataset_upd6.csv`, выведите первые пять записей и список колонок."
   ]
  },
  {
   "cell_type": "code",
   "execution_count": 4,
   "id": "d536ad11",
   "metadata": {
    "ExecuteTime": {
     "end_time": "2022-03-15T22:40:23.588946Z",
     "start_time": "2022-03-15T22:40:23.585461Z"
    },
    "execution": {
     "iopub.execute_input": "2023-09-20T06:58:25.295490Z",
     "iopub.status.busy": "2023-09-20T06:58:25.295100Z",
     "iopub.status.idle": "2023-09-20T06:58:25.897800Z",
     "shell.execute_reply": "2023-09-20T06:58:25.897286Z",
     "shell.execute_reply.started": "2023-09-20T06:58:25.295467Z"
    },
    "id": "d536ad11",
    "tags": []
   },
   "outputs": [
    {
     "data": {
      "text/html": [
       "<div>\n",
       "<style scoped>\n",
       "    .dataframe tbody tr th:only-of-type {\n",
       "        vertical-align: middle;\n",
       "    }\n",
       "\n",
       "    .dataframe tbody tr th {\n",
       "        vertical-align: top;\n",
       "    }\n",
       "\n",
       "    .dataframe thead th {\n",
       "        text-align: right;\n",
       "    }\n",
       "</style>\n",
       "<table border=\"1\" class=\"dataframe\">\n",
       "  <thead>\n",
       "    <tr style=\"text-align: right;\">\n",
       "      <th></th>\n",
       "      <th>id</th>\n",
       "      <th>url</th>\n",
       "      <th>region</th>\n",
       "      <th>region_url</th>\n",
       "      <th>price</th>\n",
       "      <th>year</th>\n",
       "      <th>manufacturer</th>\n",
       "      <th>model</th>\n",
       "      <th>fuel</th>\n",
       "      <th>odometer</th>\n",
       "      <th>...</th>\n",
       "      <th>is_jeep</th>\n",
       "      <th>is_honda</th>\n",
       "      <th>is_nissan</th>\n",
       "      <th>x0_diesel</th>\n",
       "      <th>x0_electric</th>\n",
       "      <th>x0_gas</th>\n",
       "      <th>x0_hybrid</th>\n",
       "      <th>x0_other</th>\n",
       "      <th>std_scaled_odometer</th>\n",
       "      <th>std_scaled_price</th>\n",
       "    </tr>\n",
       "  </thead>\n",
       "  <tbody>\n",
       "    <tr>\n",
       "      <th>0</th>\n",
       "      <td>7308295377</td>\n",
       "      <td>https://chattanooga.craigslist.org/ctd/d/chatt...</td>\n",
       "      <td>chattanooga</td>\n",
       "      <td>https://chattanooga.craigslist.org</td>\n",
       "      <td>54990</td>\n",
       "      <td>2020</td>\n",
       "      <td>ram</td>\n",
       "      <td>2500 crew cab big horn</td>\n",
       "      <td>diesel</td>\n",
       "      <td>27442</td>\n",
       "      <td>...</td>\n",
       "      <td>0</td>\n",
       "      <td>0</td>\n",
       "      <td>0</td>\n",
       "      <td>1.0</td>\n",
       "      <td>0.0</td>\n",
       "      <td>0.0</td>\n",
       "      <td>0.0</td>\n",
       "      <td>0.0</td>\n",
       "      <td>-1.079390</td>\n",
       "      <td>2.958509</td>\n",
       "    </tr>\n",
       "    <tr>\n",
       "      <th>1</th>\n",
       "      <td>7316380095</td>\n",
       "      <td>https://newjersey.craigslist.org/ctd/d/carlsta...</td>\n",
       "      <td>north jersey</td>\n",
       "      <td>https://newjersey.craigslist.org</td>\n",
       "      <td>16942</td>\n",
       "      <td>2016</td>\n",
       "      <td>ford</td>\n",
       "      <td>explorer 4wd 4dr xlt</td>\n",
       "      <td>other</td>\n",
       "      <td>60023</td>\n",
       "      <td>...</td>\n",
       "      <td>0</td>\n",
       "      <td>0</td>\n",
       "      <td>0</td>\n",
       "      <td>0.0</td>\n",
       "      <td>0.0</td>\n",
       "      <td>0.0</td>\n",
       "      <td>0.0</td>\n",
       "      <td>1.0</td>\n",
       "      <td>-0.560115</td>\n",
       "      <td>-0.085826</td>\n",
       "    </tr>\n",
       "    <tr>\n",
       "      <th>2</th>\n",
       "      <td>7313733749</td>\n",
       "      <td>https://reno.craigslist.org/ctd/d/atlanta-2017...</td>\n",
       "      <td>reno / tahoe</td>\n",
       "      <td>https://reno.craigslist.org</td>\n",
       "      <td>35590</td>\n",
       "      <td>2017</td>\n",
       "      <td>volkswagen</td>\n",
       "      <td>golf r hatchback</td>\n",
       "      <td>gas</td>\n",
       "      <td>14048</td>\n",
       "      <td>...</td>\n",
       "      <td>0</td>\n",
       "      <td>0</td>\n",
       "      <td>0</td>\n",
       "      <td>0.0</td>\n",
       "      <td>0.0</td>\n",
       "      <td>1.0</td>\n",
       "      <td>0.0</td>\n",
       "      <td>0.0</td>\n",
       "      <td>-1.292863</td>\n",
       "      <td>1.406256</td>\n",
       "    </tr>\n",
       "    <tr>\n",
       "      <th>3</th>\n",
       "      <td>7308210929</td>\n",
       "      <td>https://fayetteville.craigslist.org/ctd/d/rale...</td>\n",
       "      <td>fayetteville</td>\n",
       "      <td>https://fayetteville.craigslist.org</td>\n",
       "      <td>14500</td>\n",
       "      <td>2013</td>\n",
       "      <td>toyota</td>\n",
       "      <td>rav4</td>\n",
       "      <td>gas</td>\n",
       "      <td>117291</td>\n",
       "      <td>...</td>\n",
       "      <td>0</td>\n",
       "      <td>0</td>\n",
       "      <td>0</td>\n",
       "      <td>0.0</td>\n",
       "      <td>0.0</td>\n",
       "      <td>1.0</td>\n",
       "      <td>0.0</td>\n",
       "      <td>0.0</td>\n",
       "      <td>0.352621</td>\n",
       "      <td>-0.281218</td>\n",
       "    </tr>\n",
       "    <tr>\n",
       "      <th>4</th>\n",
       "      <td>7303797340</td>\n",
       "      <td>https://knoxville.craigslist.org/ctd/d/knoxvil...</td>\n",
       "      <td>knoxville</td>\n",
       "      <td>https://knoxville.craigslist.org</td>\n",
       "      <td>14590</td>\n",
       "      <td>2012</td>\n",
       "      <td>bmw</td>\n",
       "      <td>1 series 128i coupe 2d</td>\n",
       "      <td>other</td>\n",
       "      <td>80465</td>\n",
       "      <td>...</td>\n",
       "      <td>0</td>\n",
       "      <td>0</td>\n",
       "      <td>0</td>\n",
       "      <td>0.0</td>\n",
       "      <td>0.0</td>\n",
       "      <td>0.0</td>\n",
       "      <td>0.0</td>\n",
       "      <td>1.0</td>\n",
       "      <td>-0.234311</td>\n",
       "      <td>-0.274017</td>\n",
       "    </tr>\n",
       "  </tbody>\n",
       "</table>\n",
       "<p>5 rows × 45 columns</p>\n",
       "</div>"
      ],
      "text/plain": [
       "           id                                                url  \\\n",
       "0  7308295377  https://chattanooga.craigslist.org/ctd/d/chatt...   \n",
       "1  7316380095  https://newjersey.craigslist.org/ctd/d/carlsta...   \n",
       "2  7313733749  https://reno.craigslist.org/ctd/d/atlanta-2017...   \n",
       "3  7308210929  https://fayetteville.craigslist.org/ctd/d/rale...   \n",
       "4  7303797340  https://knoxville.craigslist.org/ctd/d/knoxvil...   \n",
       "\n",
       "         region                           region_url  price  year  \\\n",
       "0   chattanooga   https://chattanooga.craigslist.org  54990  2020   \n",
       "1  north jersey     https://newjersey.craigslist.org  16942  2016   \n",
       "2  reno / tahoe          https://reno.craigslist.org  35590  2017   \n",
       "3  fayetteville  https://fayetteville.craigslist.org  14500  2013   \n",
       "4     knoxville     https://knoxville.craigslist.org  14590  2012   \n",
       "\n",
       "  manufacturer                   model    fuel  odometer  ... is_jeep  \\\n",
       "0          ram  2500 crew cab big horn  diesel     27442  ...       0   \n",
       "1         ford    explorer 4wd 4dr xlt   other     60023  ...       0   \n",
       "2   volkswagen        golf r hatchback     gas     14048  ...       0   \n",
       "3       toyota                    rav4     gas    117291  ...       0   \n",
       "4          bmw  1 series 128i coupe 2d   other     80465  ...       0   \n",
       "\n",
       "  is_honda is_nissan x0_diesel x0_electric  x0_gas  x0_hybrid x0_other  \\\n",
       "0        0         0       1.0         0.0     0.0        0.0      0.0   \n",
       "1        0         0       0.0         0.0     0.0        0.0      1.0   \n",
       "2        0         0       0.0         0.0     1.0        0.0      0.0   \n",
       "3        0         0       0.0         0.0     1.0        0.0      0.0   \n",
       "4        0         0       0.0         0.0     0.0        0.0      1.0   \n",
       "\n",
       "  std_scaled_odometer std_scaled_price  \n",
       "0           -1.079390         2.958509  \n",
       "1           -0.560115        -0.085826  \n",
       "2           -1.292863         1.406256  \n",
       "3            0.352621        -0.281218  \n",
       "4           -0.234311        -0.274017  \n",
       "\n",
       "[5 rows x 45 columns]"
      ]
     },
     "execution_count": 4,
     "metadata": {},
     "output_type": "execute_result"
    }
   ],
   "source": [
    "# Ваш код здесь\n",
    "df = pd.read_csv('vehicles_dataset_upd6.csv', sep = ',')\n",
    "df.head(5)"
   ]
  },
  {
   "cell_type": "code",
   "execution_count": 48,
   "id": "8d916732-e81c-4163-9a00-1760b05e640f",
   "metadata": {
    "execution": {
     "iopub.execute_input": "2023-09-19T14:40:54.346038Z",
     "iopub.status.busy": "2023-09-19T14:40:54.345681Z",
     "iopub.status.idle": "2023-09-19T14:40:54.350625Z",
     "shell.execute_reply": "2023-09-19T14:40:54.350092Z",
     "shell.execute_reply.started": "2023-09-19T14:40:54.346015Z"
    },
    "tags": []
   },
   "outputs": [
    {
     "data": {
      "text/plain": [
       "Index(['id', 'url', 'region', 'region_url', 'price', 'year', 'manufacturer',\n",
       "       'model', 'fuel', 'odometer', 'title_status', 'transmission',\n",
       "       'image_url', 'description', 'state', 'lat', 'long', 'posting_date',\n",
       "       'price_category', 'date', 'odometer_km', 'odometer/price', 'region_new',\n",
       "       'region_corrected', 'manufacturer_model', 'desc_len', 'model_in_desc',\n",
       "       'price_k$', 'age_category', 'model_len', 'model_word_count', 'is_audi',\n",
       "       'is_ford', 'is_chevrolet', 'is_toyota', 'is_jeep', 'is_honda',\n",
       "       'is_nissan', 'x0_diesel', 'x0_electric', 'x0_gas', 'x0_hybrid',\n",
       "       'x0_other', 'std_scaled_odometer', 'std_scaled_price'],\n",
       "      dtype='object')"
      ]
     },
     "execution_count": 48,
     "metadata": {},
     "output_type": "execute_result"
    }
   ],
   "source": [
    "df.columns"
   ]
  },
  {
   "cell_type": "markdown",
   "id": "c46630e3",
   "metadata": {
    "id": "c46630e3"
   },
   "source": [
    "2. Выведите список значений и количество уникальных значений для модели автомобиля."
   ]
  },
  {
   "cell_type": "code",
   "execution_count": 5,
   "id": "12c123d6",
   "metadata": {
    "ExecuteTime": {
     "end_time": "2022-03-15T22:40:29.330321Z",
     "start_time": "2022-03-15T22:40:29.326988Z"
    },
    "execution": {
     "iopub.execute_input": "2023-09-20T06:58:29.075883Z",
     "iopub.status.busy": "2023-09-20T06:58:29.075534Z",
     "iopub.status.idle": "2023-09-20T06:58:29.082441Z",
     "shell.execute_reply": "2023-09-20T06:58:29.081838Z",
     "shell.execute_reply.started": "2023-09-20T06:58:29.075858Z"
    },
    "id": "12c123d6",
    "tags": []
   },
   "outputs": [
    {
     "name": "stdout",
     "output_type": "stream",
     "text": [
      "Значения 0          2500 crew cab big horn\n",
      "1            explorer 4wd 4dr xlt\n",
      "2                golf r hatchback\n",
      "3                            rav4\n",
      "4          1 series 128i coupe 2d\n",
      "                  ...            \n",
      "9614                         rav4\n",
      "9615                     wrangler\n",
      "9616    a3 2.0t premium plus pzev\n",
      "9617                      cayenne\n",
      "9618       1500 crew cab big horn\n",
      "Name: model, Length: 9619, dtype: object\n",
      "Колл-во уникальных значений 3341\n"
     ]
    }
   ],
   "source": [
    "# Ваш код здесь\n",
    "print('Значения',df.model)\n",
    "print('Колл-во уникальных значений', df.model.nunique())"
   ]
  },
  {
   "cell_type": "markdown",
   "id": "bcf1904b",
   "metadata": {
    "id": "bcf1904b"
   },
   "source": [
    "3. Количество уникальных значений велико. Попробуем их сократить, оставив только первое слово в наименовании модели. С помощью lambda-функции и преобразования над строками создайте новый признак `short_model`, содержащий только первое слово из наименования модели, выведите его и количество получившихся уникальных значений."
   ]
  },
  {
   "cell_type": "code",
   "execution_count": 6,
   "id": "6de1d535",
   "metadata": {
    "ExecuteTime": {
     "end_time": "2022-03-15T22:40:30.465505Z",
     "start_time": "2022-03-15T22:40:30.460032Z"
    },
    "execution": {
     "iopub.execute_input": "2023-09-20T06:58:32.223116Z",
     "iopub.status.busy": "2023-09-20T06:58:32.222769Z",
     "iopub.status.idle": "2023-09-20T06:58:32.232572Z",
     "shell.execute_reply": "2023-09-20T06:58:32.232026Z",
     "shell.execute_reply.started": "2023-09-20T06:58:32.223093Z"
    },
    "id": "6de1d535",
    "tags": []
   },
   "outputs": [
    {
     "name": "stdout",
     "output_type": "stream",
     "text": [
      "Значения 0           2500\n",
      "1       explorer\n",
      "2           golf\n",
      "3           rav4\n",
      "4              1\n",
      "          ...   \n",
      "9614        rav4\n",
      "9615    wrangler\n",
      "9616          a3\n",
      "9617     cayenne\n",
      "9618        1500\n",
      "Name: short_model, Length: 9619, dtype: object\n",
      "Колличетсво 943\n"
     ]
    }
   ],
   "source": [
    "# Ваш код здесь\n",
    "df['short_model'] = df['model'].apply(lambda x: x.split()[0])\n",
    "print('Значения', df.short_model)\n",
    "print('Колличетсво', df['short_model'].nunique())"
   ]
  },
  {
   "cell_type": "markdown",
   "id": "f8266e27",
   "metadata": {
    "ExecuteTime": {
     "end_time": "2022-01-28T23:12:51.463454Z",
     "start_time": "2022-01-28T23:12:51.458075Z"
    },
    "id": "f8266e27"
   },
   "source": [
    "### Задача 2. Преобразование категориальных переменных\n",
    "\n",
    "1. Для категориальных переменных `short_model`, `transmission`, `region`, `manufacturer`, `state`, `title_status`, `age_category` распечатайте наименование категории и количество уникальных значений в ней.\n"
   ]
  },
  {
   "cell_type": "code",
   "execution_count": 7,
   "id": "a839bd7c",
   "metadata": {
    "ExecuteTime": {
     "end_time": "2022-03-15T22:40:31.559424Z",
     "start_time": "2022-03-15T22:40:31.552170Z"
    },
    "execution": {
     "iopub.execute_input": "2023-09-20T06:58:35.820186Z",
     "iopub.status.busy": "2023-09-20T06:58:35.819952Z",
     "iopub.status.idle": "2023-09-20T06:58:35.829902Z",
     "shell.execute_reply": "2023-09-20T06:58:35.829334Z",
     "shell.execute_reply.started": "2023-09-20T06:58:35.820167Z"
    },
    "id": "a839bd7c",
    "tags": []
   },
   "outputs": [
    {
     "name": "stdout",
     "output_type": "stream",
     "text": [
      "Категория short_model колл-во значений 943\n",
      "Категория transmission колл-во значений 3\n",
      "Категория region колл-во значений 393\n",
      "Категория manufacturer колл-во значений 40\n",
      "Категория state колл-во значений 51\n",
      "Категория title_status колл-во значений 6\n",
      "Категория age_category колл-во значений 3\n"
     ]
    }
   ],
   "source": [
    "# Ваш код здесь\n",
    "categorial_columns = ['short_model', 'transmission', 'region', 'manufacturer', 'state', 'title_status', 'age_category']\n",
    "for column in categorial_columns:\n",
    "    nunique = df[column].nunique()\n",
    "    print('Категория', column, 'колл-во значений', nunique)"
   ]
  },
  {
   "cell_type": "markdown",
   "id": "6d22ddcd",
   "metadata": {
    "id": "6d22ddcd"
   },
   "source": [
    "2. Создайте датафрейм `data`, содержащий только выбранные категориальные переменные."
   ]
  },
  {
   "cell_type": "code",
   "execution_count": 8,
   "id": "c6fb4d53",
   "metadata": {
    "ExecuteTime": {
     "end_time": "2022-03-15T22:40:32.233510Z",
     "start_time": "2022-03-15T22:40:32.226777Z"
    },
    "execution": {
     "iopub.execute_input": "2023-09-20T06:58:38.810600Z",
     "iopub.status.busy": "2023-09-20T06:58:38.810214Z",
     "iopub.status.idle": "2023-09-20T06:58:38.825041Z",
     "shell.execute_reply": "2023-09-20T06:58:38.824512Z",
     "shell.execute_reply.started": "2023-09-20T06:58:38.810576Z"
    },
    "id": "c6fb4d53",
    "tags": []
   },
   "outputs": [
    {
     "data": {
      "text/html": [
       "<div>\n",
       "<style scoped>\n",
       "    .dataframe tbody tr th:only-of-type {\n",
       "        vertical-align: middle;\n",
       "    }\n",
       "\n",
       "    .dataframe tbody tr th {\n",
       "        vertical-align: top;\n",
       "    }\n",
       "\n",
       "    .dataframe thead th {\n",
       "        text-align: right;\n",
       "    }\n",
       "</style>\n",
       "<table border=\"1\" class=\"dataframe\">\n",
       "  <thead>\n",
       "    <tr style=\"text-align: right;\">\n",
       "      <th></th>\n",
       "      <th>short_model</th>\n",
       "      <th>transmission</th>\n",
       "      <th>region</th>\n",
       "      <th>manufacturer</th>\n",
       "      <th>state</th>\n",
       "      <th>title_status</th>\n",
       "      <th>age_category</th>\n",
       "    </tr>\n",
       "  </thead>\n",
       "  <tbody>\n",
       "    <tr>\n",
       "      <th>0</th>\n",
       "      <td>2500</td>\n",
       "      <td>other</td>\n",
       "      <td>chattanooga</td>\n",
       "      <td>ram</td>\n",
       "      <td>tn</td>\n",
       "      <td>clean</td>\n",
       "      <td>new</td>\n",
       "    </tr>\n",
       "    <tr>\n",
       "      <th>1</th>\n",
       "      <td>explorer</td>\n",
       "      <td>automatic</td>\n",
       "      <td>north jersey</td>\n",
       "      <td>ford</td>\n",
       "      <td>nj</td>\n",
       "      <td>clean</td>\n",
       "      <td>new</td>\n",
       "    </tr>\n",
       "    <tr>\n",
       "      <th>2</th>\n",
       "      <td>golf</td>\n",
       "      <td>other</td>\n",
       "      <td>reno / tahoe</td>\n",
       "      <td>volkswagen</td>\n",
       "      <td>ca</td>\n",
       "      <td>clean</td>\n",
       "      <td>new</td>\n",
       "    </tr>\n",
       "    <tr>\n",
       "      <th>3</th>\n",
       "      <td>rav4</td>\n",
       "      <td>automatic</td>\n",
       "      <td>fayetteville</td>\n",
       "      <td>toyota</td>\n",
       "      <td>nc</td>\n",
       "      <td>clean</td>\n",
       "      <td>average</td>\n",
       "    </tr>\n",
       "    <tr>\n",
       "      <th>4</th>\n",
       "      <td>1</td>\n",
       "      <td>other</td>\n",
       "      <td>knoxville</td>\n",
       "      <td>bmw</td>\n",
       "      <td>tn</td>\n",
       "      <td>clean</td>\n",
       "      <td>average</td>\n",
       "    </tr>\n",
       "    <tr>\n",
       "      <th>...</th>\n",
       "      <td>...</td>\n",
       "      <td>...</td>\n",
       "      <td>...</td>\n",
       "      <td>...</td>\n",
       "      <td>...</td>\n",
       "      <td>...</td>\n",
       "      <td>...</td>\n",
       "    </tr>\n",
       "    <tr>\n",
       "      <th>9614</th>\n",
       "      <td>rav4</td>\n",
       "      <td>automatic</td>\n",
       "      <td>chautauqua</td>\n",
       "      <td>toyota</td>\n",
       "      <td>ny</td>\n",
       "      <td>clean</td>\n",
       "      <td>old</td>\n",
       "    </tr>\n",
       "    <tr>\n",
       "      <th>9615</th>\n",
       "      <td>wrangler</td>\n",
       "      <td>other</td>\n",
       "      <td>binghamton</td>\n",
       "      <td>jeep</td>\n",
       "      <td>ny</td>\n",
       "      <td>clean</td>\n",
       "      <td>average</td>\n",
       "    </tr>\n",
       "    <tr>\n",
       "      <th>9616</th>\n",
       "      <td>a3</td>\n",
       "      <td>automatic</td>\n",
       "      <td>salem</td>\n",
       "      <td>audi</td>\n",
       "      <td>or</td>\n",
       "      <td>clean</td>\n",
       "      <td>average</td>\n",
       "    </tr>\n",
       "    <tr>\n",
       "      <th>9617</th>\n",
       "      <td>cayenne</td>\n",
       "      <td>automatic</td>\n",
       "      <td>madison</td>\n",
       "      <td>porsche</td>\n",
       "      <td>wi</td>\n",
       "      <td>clean</td>\n",
       "      <td>new</td>\n",
       "    </tr>\n",
       "    <tr>\n",
       "      <th>9618</th>\n",
       "      <td>1500</td>\n",
       "      <td>other</td>\n",
       "      <td>norfolk / hampton roads</td>\n",
       "      <td>ram</td>\n",
       "      <td>va</td>\n",
       "      <td>clean</td>\n",
       "      <td>new</td>\n",
       "    </tr>\n",
       "  </tbody>\n",
       "</table>\n",
       "<p>9619 rows × 7 columns</p>\n",
       "</div>"
      ],
      "text/plain": [
       "     short_model transmission                   region manufacturer state  \\\n",
       "0           2500        other              chattanooga          ram    tn   \n",
       "1       explorer    automatic             north jersey         ford    nj   \n",
       "2           golf        other             reno / tahoe   volkswagen    ca   \n",
       "3           rav4    automatic             fayetteville       toyota    nc   \n",
       "4              1        other                knoxville          bmw    tn   \n",
       "...          ...          ...                      ...          ...   ...   \n",
       "9614        rav4    automatic               chautauqua       toyota    ny   \n",
       "9615    wrangler        other               binghamton         jeep    ny   \n",
       "9616          a3    automatic                    salem         audi    or   \n",
       "9617     cayenne    automatic                  madison      porsche    wi   \n",
       "9618        1500        other  norfolk / hampton roads          ram    va   \n",
       "\n",
       "     title_status age_category  \n",
       "0           clean          new  \n",
       "1           clean          new  \n",
       "2           clean          new  \n",
       "3           clean      average  \n",
       "4           clean      average  \n",
       "...           ...          ...  \n",
       "9614        clean          old  \n",
       "9615        clean      average  \n",
       "9616        clean      average  \n",
       "9617        clean          new  \n",
       "9618        clean          new  \n",
       "\n",
       "[9619 rows x 7 columns]"
      ]
     },
     "execution_count": 8,
     "metadata": {},
     "output_type": "execute_result"
    }
   ],
   "source": [
    "# Ваш код здесь\n",
    "data = df[categorial_columns]\n",
    "data"
   ]
  },
  {
   "cell_type": "markdown",
   "id": "cac34814",
   "metadata": {
    "id": "cac34814"
   },
   "source": [
    "3. Создайте объект класса OneHotEncoder, который будет отвечать за преобразование. Уточните, что на выходе должна быть неразреженная матрица."
   ]
  },
  {
   "cell_type": "code",
   "execution_count": 9,
   "id": "5c64ca58",
   "metadata": {
    "ExecuteTime": {
     "end_time": "2022-03-15T22:40:33.034009Z",
     "start_time": "2022-03-15T22:40:33.028764Z"
    },
    "execution": {
     "iopub.execute_input": "2023-09-20T06:58:41.646516Z",
     "iopub.status.busy": "2023-09-20T06:58:41.646159Z",
     "iopub.status.idle": "2023-09-20T06:58:41.662051Z",
     "shell.execute_reply": "2023-09-20T06:58:41.661532Z",
     "shell.execute_reply.started": "2023-09-20T06:58:41.646490Z"
    },
    "id": "5c64ca58",
    "tags": []
   },
   "outputs": [
    {
     "data": {
      "text/plain": [
       "OneHotEncoder(sparse=False)"
      ]
     },
     "execution_count": 9,
     "metadata": {},
     "output_type": "execute_result"
    }
   ],
   "source": [
    "# Ваш код здесь\n",
    "ohe = OneHotEncoder(sparse=False)\n",
    "ohe"
   ]
  },
  {
   "cell_type": "markdown",
   "id": "26a44ecc",
   "metadata": {
    "id": "26a44ecc"
   },
   "source": [
    "4. Идентифицируйте параметры преобразования на датафрейме с категориальными переменными."
   ]
  },
  {
   "cell_type": "code",
   "execution_count": 10,
   "id": "295f2ffc",
   "metadata": {
    "ExecuteTime": {
     "end_time": "2022-03-15T22:40:33.874311Z",
     "start_time": "2022-03-15T22:40:33.871463Z"
    },
    "execution": {
     "iopub.execute_input": "2023-09-20T06:58:42.760986Z",
     "iopub.status.busy": "2023-09-20T06:58:42.760218Z",
     "iopub.status.idle": "2023-09-20T06:58:42.767669Z",
     "shell.execute_reply": "2023-09-20T06:58:42.767179Z",
     "shell.execute_reply.started": "2023-09-20T06:58:42.760911Z"
    },
    "id": "295f2ffc",
    "tags": []
   },
   "outputs": [
    {
     "data": {
      "text/plain": [
       "OneHotEncoder(sparse=False)"
      ]
     },
     "execution_count": 10,
     "metadata": {},
     "output_type": "execute_result"
    }
   ],
   "source": [
    "# Ваш код здесь\n",
    "ohe.fit(data)"
   ]
  },
  {
   "cell_type": "markdown",
   "id": "e5504b8d",
   "metadata": {
    "id": "e5504b8d"
   },
   "source": [
    "5. Примените преобразование для датафрейма с категориальными переменными и сохраните в новую переменную, распечатайте получившуюся матрицу и её размерность."
   ]
  },
  {
   "cell_type": "code",
   "execution_count": 11,
   "id": "10d8356c",
   "metadata": {
    "ExecuteTime": {
     "end_time": "2022-03-15T22:40:34.519702Z",
     "start_time": "2022-03-15T22:40:34.516796Z"
    },
    "execution": {
     "iopub.execute_input": "2023-09-20T06:58:44.102819Z",
     "iopub.status.busy": "2023-09-20T06:58:44.102466Z",
     "iopub.status.idle": "2023-09-20T06:58:44.181143Z",
     "shell.execute_reply": "2023-09-20T06:58:44.180599Z",
     "shell.execute_reply.started": "2023-09-20T06:58:44.102797Z"
    },
    "id": "10d8356c",
    "tags": []
   },
   "outputs": [
    {
     "data": {
      "text/plain": [
       "array([[0., 0., 0., ..., 0., 1., 0.],\n",
       "       [0., 0., 0., ..., 0., 1., 0.],\n",
       "       [0., 0., 0., ..., 0., 1., 0.],\n",
       "       ...,\n",
       "       [0., 0., 0., ..., 1., 0., 0.],\n",
       "       [0., 0., 0., ..., 0., 1., 0.],\n",
       "       [0., 0., 0., ..., 0., 1., 0.]])"
      ]
     },
     "execution_count": 11,
     "metadata": {},
     "output_type": "execute_result"
    }
   ],
   "source": [
    "# Ваш код здесь\n",
    "ohe_data = ohe.transform(data)\n",
    "ohe_data"
   ]
  },
  {
   "cell_type": "markdown",
   "id": "490cf3fa",
   "metadata": {
    "id": "490cf3fa"
   },
   "source": [
    "6. Выведите новые наименования признаков с помощью метода `get_feature_names_out`."
   ]
  },
  {
   "cell_type": "code",
   "execution_count": 13,
   "id": "a5ee48ea",
   "metadata": {
    "ExecuteTime": {
     "end_time": "2022-03-15T22:40:35.296004Z",
     "start_time": "2022-03-15T22:40:35.291879Z"
    },
    "execution": {
     "iopub.execute_input": "2023-09-20T07:06:26.484307Z",
     "iopub.status.busy": "2023-09-20T07:06:26.483936Z",
     "iopub.status.idle": "2023-09-20T07:06:26.490577Z",
     "shell.execute_reply": "2023-09-20T07:06:26.489675Z",
     "shell.execute_reply.started": "2023-09-20T07:06:26.484280Z"
    },
    "id": "a5ee48ea",
    "tags": []
   },
   "outputs": [
    {
     "data": {
      "text/plain": [
       "array(['x0_-benz', 'x0_1', 'x0_124', ..., 'x6_average', 'x6_new',\n",
       "       'x6_old'], dtype=object)"
      ]
     },
     "execution_count": 13,
     "metadata": {},
     "output_type": "execute_result"
    }
   ],
   "source": [
    "# Ваш код здесь\n",
    "ohe.get_feature_names()"
   ]
  },
  {
   "cell_type": "markdown",
   "id": "115aed73",
   "metadata": {
    "id": "115aed73"
   },
   "source": [
    "7. Добавьте в исходный датафрейм получившиеся новые признаки, выведите первые пять записей датафрейма и список колонок."
   ]
  },
  {
   "cell_type": "code",
   "execution_count": 81,
   "id": "0062ac07",
   "metadata": {
    "ExecuteTime": {
     "end_time": "2022-03-15T22:40:35.978083Z",
     "start_time": "2022-03-15T22:40:35.970249Z"
    },
    "execution": {
     "iopub.execute_input": "2023-09-20T07:26:54.224283Z",
     "iopub.status.busy": "2023-09-20T07:26:54.224063Z",
     "iopub.status.idle": "2023-09-20T07:26:54.483975Z",
     "shell.execute_reply": "2023-09-20T07:26:54.483419Z",
     "shell.execute_reply.started": "2023-09-20T07:26:54.224264Z"
    },
    "id": "0062ac07",
    "tags": []
   },
   "outputs": [
    {
     "data": {
      "text/html": [
       "<div>\n",
       "<style scoped>\n",
       "    .dataframe tbody tr th:only-of-type {\n",
       "        vertical-align: middle;\n",
       "    }\n",
       "\n",
       "    .dataframe tbody tr th {\n",
       "        vertical-align: top;\n",
       "    }\n",
       "\n",
       "    .dataframe thead th {\n",
       "        text-align: right;\n",
       "    }\n",
       "</style>\n",
       "<table border=\"1\" class=\"dataframe\">\n",
       "  <thead>\n",
       "    <tr style=\"text-align: right;\">\n",
       "      <th></th>\n",
       "      <th>short_model</th>\n",
       "      <th>transmission</th>\n",
       "      <th>region</th>\n",
       "      <th>manufacturer</th>\n",
       "      <th>state</th>\n",
       "      <th>title_status</th>\n",
       "      <th>age_category</th>\n",
       "      <th>short_model_-benz</th>\n",
       "      <th>short_model_1</th>\n",
       "      <th>short_model_124</th>\n",
       "      <th>...</th>\n",
       "      <th>state_wy</th>\n",
       "      <th>title_status_clean</th>\n",
       "      <th>title_status_lien</th>\n",
       "      <th>title_status_missing</th>\n",
       "      <th>title_status_parts only</th>\n",
       "      <th>title_status_rebuilt</th>\n",
       "      <th>title_status_salvage</th>\n",
       "      <th>age_category_average</th>\n",
       "      <th>age_category_new</th>\n",
       "      <th>age_category_old</th>\n",
       "    </tr>\n",
       "  </thead>\n",
       "  <tbody>\n",
       "    <tr>\n",
       "      <th>0</th>\n",
       "      <td>2500</td>\n",
       "      <td>other</td>\n",
       "      <td>chattanooga</td>\n",
       "      <td>ram</td>\n",
       "      <td>tn</td>\n",
       "      <td>clean</td>\n",
       "      <td>new</td>\n",
       "      <td>0.0</td>\n",
       "      <td>0.0</td>\n",
       "      <td>0.0</td>\n",
       "      <td>...</td>\n",
       "      <td>0.0</td>\n",
       "      <td>1.0</td>\n",
       "      <td>0.0</td>\n",
       "      <td>0.0</td>\n",
       "      <td>0.0</td>\n",
       "      <td>0.0</td>\n",
       "      <td>0.0</td>\n",
       "      <td>0.0</td>\n",
       "      <td>1.0</td>\n",
       "      <td>0.0</td>\n",
       "    </tr>\n",
       "    <tr>\n",
       "      <th>1</th>\n",
       "      <td>explorer</td>\n",
       "      <td>automatic</td>\n",
       "      <td>north jersey</td>\n",
       "      <td>ford</td>\n",
       "      <td>nj</td>\n",
       "      <td>clean</td>\n",
       "      <td>new</td>\n",
       "      <td>0.0</td>\n",
       "      <td>0.0</td>\n",
       "      <td>0.0</td>\n",
       "      <td>...</td>\n",
       "      <td>0.0</td>\n",
       "      <td>1.0</td>\n",
       "      <td>0.0</td>\n",
       "      <td>0.0</td>\n",
       "      <td>0.0</td>\n",
       "      <td>0.0</td>\n",
       "      <td>0.0</td>\n",
       "      <td>0.0</td>\n",
       "      <td>1.0</td>\n",
       "      <td>0.0</td>\n",
       "    </tr>\n",
       "    <tr>\n",
       "      <th>2</th>\n",
       "      <td>golf</td>\n",
       "      <td>other</td>\n",
       "      <td>reno / tahoe</td>\n",
       "      <td>volkswagen</td>\n",
       "      <td>ca</td>\n",
       "      <td>clean</td>\n",
       "      <td>new</td>\n",
       "      <td>0.0</td>\n",
       "      <td>0.0</td>\n",
       "      <td>0.0</td>\n",
       "      <td>...</td>\n",
       "      <td>0.0</td>\n",
       "      <td>1.0</td>\n",
       "      <td>0.0</td>\n",
       "      <td>0.0</td>\n",
       "      <td>0.0</td>\n",
       "      <td>0.0</td>\n",
       "      <td>0.0</td>\n",
       "      <td>0.0</td>\n",
       "      <td>1.0</td>\n",
       "      <td>0.0</td>\n",
       "    </tr>\n",
       "    <tr>\n",
       "      <th>3</th>\n",
       "      <td>rav4</td>\n",
       "      <td>automatic</td>\n",
       "      <td>fayetteville</td>\n",
       "      <td>toyota</td>\n",
       "      <td>nc</td>\n",
       "      <td>clean</td>\n",
       "      <td>average</td>\n",
       "      <td>0.0</td>\n",
       "      <td>0.0</td>\n",
       "      <td>0.0</td>\n",
       "      <td>...</td>\n",
       "      <td>0.0</td>\n",
       "      <td>1.0</td>\n",
       "      <td>0.0</td>\n",
       "      <td>0.0</td>\n",
       "      <td>0.0</td>\n",
       "      <td>0.0</td>\n",
       "      <td>0.0</td>\n",
       "      <td>1.0</td>\n",
       "      <td>0.0</td>\n",
       "      <td>0.0</td>\n",
       "    </tr>\n",
       "    <tr>\n",
       "      <th>4</th>\n",
       "      <td>1</td>\n",
       "      <td>other</td>\n",
       "      <td>knoxville</td>\n",
       "      <td>bmw</td>\n",
       "      <td>tn</td>\n",
       "      <td>clean</td>\n",
       "      <td>average</td>\n",
       "      <td>0.0</td>\n",
       "      <td>1.0</td>\n",
       "      <td>0.0</td>\n",
       "      <td>...</td>\n",
       "      <td>0.0</td>\n",
       "      <td>1.0</td>\n",
       "      <td>0.0</td>\n",
       "      <td>0.0</td>\n",
       "      <td>0.0</td>\n",
       "      <td>0.0</td>\n",
       "      <td>0.0</td>\n",
       "      <td>1.0</td>\n",
       "      <td>0.0</td>\n",
       "      <td>0.0</td>\n",
       "    </tr>\n",
       "  </tbody>\n",
       "</table>\n",
       "<p>5 rows × 1446 columns</p>\n",
       "</div>"
      ],
      "text/plain": [
       "  short_model transmission        region manufacturer state title_status  \\\n",
       "0        2500        other   chattanooga          ram    tn        clean   \n",
       "1    explorer    automatic  north jersey         ford    nj        clean   \n",
       "2        golf        other  reno / tahoe   volkswagen    ca        clean   \n",
       "3        rav4    automatic  fayetteville       toyota    nc        clean   \n",
       "4           1        other     knoxville          bmw    tn        clean   \n",
       "\n",
       "  age_category  short_model_-benz  short_model_1  short_model_124  ...  \\\n",
       "0          new                0.0            0.0              0.0  ...   \n",
       "1          new                0.0            0.0              0.0  ...   \n",
       "2          new                0.0            0.0              0.0  ...   \n",
       "3      average                0.0            0.0              0.0  ...   \n",
       "4      average                0.0            1.0              0.0  ...   \n",
       "\n",
       "   state_wy  title_status_clean  title_status_lien  title_status_missing  \\\n",
       "0       0.0                 1.0                0.0                   0.0   \n",
       "1       0.0                 1.0                0.0                   0.0   \n",
       "2       0.0                 1.0                0.0                   0.0   \n",
       "3       0.0                 1.0                0.0                   0.0   \n",
       "4       0.0                 1.0                0.0                   0.0   \n",
       "\n",
       "   title_status_parts only  title_status_rebuilt  title_status_salvage  \\\n",
       "0                      0.0                   0.0                   0.0   \n",
       "1                      0.0                   0.0                   0.0   \n",
       "2                      0.0                   0.0                   0.0   \n",
       "3                      0.0                   0.0                   0.0   \n",
       "4                      0.0                   0.0                   0.0   \n",
       "\n",
       "   age_category_average  age_category_new  age_category_old  \n",
       "0                   0.0               1.0               0.0  \n",
       "1                   0.0               1.0               0.0  \n",
       "2                   0.0               1.0               0.0  \n",
       "3                   1.0               0.0               0.0  \n",
       "4                   1.0               0.0               0.0  \n",
       "\n",
       "[5 rows x 1446 columns]"
      ]
     },
     "execution_count": 81,
     "metadata": {},
     "output_type": "execute_result"
    }
   ],
   "source": [
    "# Ваш код здесь\n",
    "data[ohe.get_feature_names_out()] = ohe_data\n",
    "data = pd.DataFrame(data)\n",
    "data.head(5)"
   ]
  },
  {
   "cell_type": "code",
   "execution_count": 82,
   "id": "09fd7124-4d3c-423c-87c5-c5d5fa79f86c",
   "metadata": {
    "execution": {
     "iopub.execute_input": "2023-09-20T07:27:21.975804Z",
     "iopub.status.busy": "2023-09-20T07:27:21.975542Z",
     "iopub.status.idle": "2023-09-20T07:27:22.082025Z",
     "shell.execute_reply": "2023-09-20T07:27:22.081423Z",
     "shell.execute_reply.started": "2023-09-20T07:27:21.975782Z"
    },
    "tags": []
   },
   "outputs": [],
   "source": [
    "df = pd.concat([df, data], axis=1, join='outer')"
   ]
  },
  {
   "cell_type": "markdown",
   "id": "4eddeddb",
   "metadata": {
    "id": "4eddeddb"
   },
   "source": [
    "8. Посмотрите на результат обратного преобразования получившейся матрицы в исходные признаки, используйте `inverse_transform`."
   ]
  },
  {
   "cell_type": "code",
   "execution_count": 14,
   "id": "0f2613e6",
   "metadata": {
    "ExecuteTime": {
     "end_time": "2022-03-15T22:40:45.647004Z",
     "start_time": "2022-03-15T22:40:45.641686Z"
    },
    "execution": {
     "iopub.execute_input": "2023-09-20T07:06:45.233243Z",
     "iopub.status.busy": "2023-09-20T07:06:45.232899Z",
     "iopub.status.idle": "2023-09-20T07:06:45.348421Z",
     "shell.execute_reply": "2023-09-20T07:06:45.347755Z",
     "shell.execute_reply.started": "2023-09-20T07:06:45.233217Z"
    },
    "id": "0f2613e6",
    "tags": []
   },
   "outputs": [
    {
     "data": {
      "text/plain": [
       "array([['2500', 'other', 'chattanooga', ..., 'tn', 'clean', 'new'],\n",
       "       ['explorer', 'automatic', 'north jersey', ..., 'nj', 'clean',\n",
       "        'new'],\n",
       "       ['golf', 'other', 'reno / tahoe', ..., 'ca', 'clean', 'new'],\n",
       "       ...,\n",
       "       ['a3', 'automatic', 'salem', ..., 'or', 'clean', 'average'],\n",
       "       ['cayenne', 'automatic', 'madison', ..., 'wi', 'clean', 'new'],\n",
       "       ['1500', 'other', 'norfolk / hampton roads', ..., 'va', 'clean',\n",
       "        'new']], dtype=object)"
      ]
     },
     "execution_count": 14,
     "metadata": {},
     "output_type": "execute_result"
    }
   ],
   "source": [
    "# Ваш код здесь\n",
    "ohe.inverse_transform(ohe_data)"
   ]
  },
  {
   "cell_type": "markdown",
   "id": "29bad2c6",
   "metadata": {
    "id": "29bad2c6"
   },
   "source": [
    "### Задача 3. Стандартизация данных\n",
    "\n",
    "1. Создайте переменную под количественные переменные `lat`, `long`, `year`, `odometer/price`, `desc_len`, `model_in_desc`, `model_len`, `model_word_count` и создайте датафрейм `data`, содержащий только выбранные количественные переменные.\n"
   ]
  },
  {
   "cell_type": "code",
   "execution_count": 15,
   "id": "ad704812",
   "metadata": {
    "ExecuteTime": {
     "end_time": "2022-03-15T22:40:45.881773Z",
     "start_time": "2022-03-15T22:40:45.875957Z"
    },
    "execution": {
     "iopub.execute_input": "2023-09-20T07:06:51.950129Z",
     "iopub.status.busy": "2023-09-20T07:06:51.949793Z",
     "iopub.status.idle": "2023-09-20T07:06:51.960149Z",
     "shell.execute_reply": "2023-09-20T07:06:51.959600Z",
     "shell.execute_reply.started": "2023-09-20T07:06:51.950106Z"
    },
    "id": "ad704812",
    "tags": []
   },
   "outputs": [
    {
     "data": {
      "text/html": [
       "<div>\n",
       "<style scoped>\n",
       "    .dataframe tbody tr th:only-of-type {\n",
       "        vertical-align: middle;\n",
       "    }\n",
       "\n",
       "    .dataframe tbody tr th {\n",
       "        vertical-align: top;\n",
       "    }\n",
       "\n",
       "    .dataframe thead th {\n",
       "        text-align: right;\n",
       "    }\n",
       "</style>\n",
       "<table border=\"1\" class=\"dataframe\">\n",
       "  <thead>\n",
       "    <tr style=\"text-align: right;\">\n",
       "      <th></th>\n",
       "      <th>lat</th>\n",
       "      <th>long</th>\n",
       "      <th>year</th>\n",
       "      <th>odometer/price</th>\n",
       "      <th>desc_len</th>\n",
       "      <th>model_in_desc</th>\n",
       "      <th>model_len</th>\n",
       "      <th>model_word_count</th>\n",
       "    </tr>\n",
       "  </thead>\n",
       "  <tbody>\n",
       "    <tr>\n",
       "      <th>0</th>\n",
       "      <td>35.060000</td>\n",
       "      <td>-85.250000</td>\n",
       "      <td>2020</td>\n",
       "      <td>0.499036</td>\n",
       "      <td>4482</td>\n",
       "      <td>0</td>\n",
       "      <td>22</td>\n",
       "      <td>5</td>\n",
       "    </tr>\n",
       "    <tr>\n",
       "      <th>1</th>\n",
       "      <td>40.821805</td>\n",
       "      <td>-74.061962</td>\n",
       "      <td>2016</td>\n",
       "      <td>3.542852</td>\n",
       "      <td>968</td>\n",
       "      <td>0</td>\n",
       "      <td>20</td>\n",
       "      <td>4</td>\n",
       "    </tr>\n",
       "    <tr>\n",
       "      <th>2</th>\n",
       "      <td>33.779214</td>\n",
       "      <td>-84.411811</td>\n",
       "      <td>2017</td>\n",
       "      <td>0.394718</td>\n",
       "      <td>4286</td>\n",
       "      <td>0</td>\n",
       "      <td>16</td>\n",
       "      <td>3</td>\n",
       "    </tr>\n",
       "    <tr>\n",
       "      <th>3</th>\n",
       "      <td>35.715954</td>\n",
       "      <td>-78.655304</td>\n",
       "      <td>2013</td>\n",
       "      <td>8.089034</td>\n",
       "      <td>3241</td>\n",
       "      <td>0</td>\n",
       "      <td>4</td>\n",
       "      <td>1</td>\n",
       "    </tr>\n",
       "    <tr>\n",
       "      <th>4</th>\n",
       "      <td>35.970000</td>\n",
       "      <td>-83.940000</td>\n",
       "      <td>2012</td>\n",
       "      <td>5.515079</td>\n",
       "      <td>4851</td>\n",
       "      <td>0</td>\n",
       "      <td>22</td>\n",
       "      <td>5</td>\n",
       "    </tr>\n",
       "  </tbody>\n",
       "</table>\n",
       "</div>"
      ],
      "text/plain": [
       "         lat       long  year  odometer/price  desc_len  model_in_desc  \\\n",
       "0  35.060000 -85.250000  2020        0.499036      4482              0   \n",
       "1  40.821805 -74.061962  2016        3.542852       968              0   \n",
       "2  33.779214 -84.411811  2017        0.394718      4286              0   \n",
       "3  35.715954 -78.655304  2013        8.089034      3241              0   \n",
       "4  35.970000 -83.940000  2012        5.515079      4851              0   \n",
       "\n",
       "   model_len  model_word_count  \n",
       "0         22                 5  \n",
       "1         20                 4  \n",
       "2         16                 3  \n",
       "3          4                 1  \n",
       "4         22                 5  "
      ]
     },
     "execution_count": 15,
     "metadata": {},
     "output_type": "execute_result"
    }
   ],
   "source": [
    "# Ваш код здесь\n",
    "col = ['lat', 'long', 'year', 'odometer/price', 'desc_len', 'model_in_desc', 'model_len', 'model_word_count']\n",
    "data1 = df[col]\n",
    "data1 = pd.DataFrame(data1)\n",
    "data1.head()"
   ]
  },
  {
   "cell_type": "markdown",
   "id": "3e3704a7",
   "metadata": {
    "id": "3e3704a7"
   },
   "source": [
    "2. Создайте объект `std_scaler` класса StandardScaler с параметрами по умолчанию, который будет отвечать за стандартизацию."
   ]
  },
  {
   "cell_type": "code",
   "execution_count": 16,
   "id": "7b8ab72c",
   "metadata": {
    "ExecuteTime": {
     "end_time": "2022-03-15T22:40:46.294618Z",
     "start_time": "2022-03-15T22:40:46.288462Z"
    },
    "execution": {
     "iopub.execute_input": "2023-09-20T07:06:55.148998Z",
     "iopub.status.busy": "2023-09-20T07:06:55.148626Z",
     "iopub.status.idle": "2023-09-20T07:06:55.153257Z",
     "shell.execute_reply": "2023-09-20T07:06:55.152706Z",
     "shell.execute_reply.started": "2023-09-20T07:06:55.148970Z"
    },
    "id": "7b8ab72c",
    "tags": []
   },
   "outputs": [
    {
     "data": {
      "text/plain": [
       "StandardScaler()"
      ]
     },
     "execution_count": 16,
     "metadata": {},
     "output_type": "execute_result"
    }
   ],
   "source": [
    "# Ваш код здесь\n",
    "std_scaler = StandardScaler()\n",
    "std_scaler"
   ]
  },
  {
   "cell_type": "markdown",
   "id": "1630cfa2",
   "metadata": {
    "id": "1630cfa2"
   },
   "source": [
    "3. Идентифицируйте параметры преобразования на датафрейме с количественными переменными."
   ]
  },
  {
   "cell_type": "code",
   "execution_count": 17,
   "id": "0cc2c08b",
   "metadata": {
    "ExecuteTime": {
     "end_time": "2022-03-15T22:40:46.338630Z",
     "start_time": "2022-03-15T22:40:46.333793Z"
    },
    "execution": {
     "iopub.execute_input": "2023-09-20T07:06:58.257098Z",
     "iopub.status.busy": "2023-09-20T07:06:58.256719Z",
     "iopub.status.idle": "2023-09-20T07:06:58.263380Z",
     "shell.execute_reply": "2023-09-20T07:06:58.262874Z",
     "shell.execute_reply.started": "2023-09-20T07:06:58.257064Z"
    },
    "id": "0cc2c08b",
    "tags": []
   },
   "outputs": [
    {
     "data": {
      "text/plain": [
       "StandardScaler()"
      ]
     },
     "execution_count": 17,
     "metadata": {},
     "output_type": "execute_result"
    }
   ],
   "source": [
    "# Ваш код здесь\n",
    "std_scaler.fit(data1)"
   ]
  },
  {
   "cell_type": "markdown",
   "id": "9ef7ff55",
   "metadata": {
    "id": "9ef7ff55"
   },
   "source": [
    "4. Примените преобразование для датафрейма с количественными переменными и сохраните в новую переменную, распечатайте получившуюся матрицу и её размерность."
   ]
  },
  {
   "cell_type": "code",
   "execution_count": 18,
   "id": "cd141505",
   "metadata": {
    "ExecuteTime": {
     "end_time": "2022-03-15T22:40:46.389565Z",
     "start_time": "2022-03-15T22:40:46.380037Z"
    },
    "execution": {
     "iopub.execute_input": "2023-09-20T07:06:59.540071Z",
     "iopub.status.busy": "2023-09-20T07:06:59.539713Z",
     "iopub.status.idle": "2023-09-20T07:06:59.548168Z",
     "shell.execute_reply": "2023-09-20T07:06:59.547643Z",
     "shell.execute_reply.started": "2023-09-20T07:06:59.540046Z"
    },
    "id": "cd141505",
    "tags": []
   },
   "outputs": [
    {
     "name": "stdout",
     "output_type": "stream",
     "text": [
      "[[-0.61917248  0.48424452  1.32239376 ... -0.15578836  1.16303238\n",
      "   1.91066901]\n",
      " [ 0.38801429  1.11079989  0.69597272 ... -0.15578836  0.93208734\n",
      "   1.23579936]\n",
      " [-0.84305905  0.531185    0.85257798 ... -0.15578836  0.47019727\n",
      "   0.56092971]\n",
      " ...\n",
      " [ 1.10542805 -1.62887477 -0.08705357 ... -0.15578836  1.50944993\n",
      "   1.91066901]\n",
      " [ 0.7739386   0.25195859  0.53936746 ... -0.15578836 -0.56905538\n",
      "  -0.78880959]\n",
      " [-0.33773799  0.98546471  0.85257798 ... -0.15578836  1.16303238\n",
      "   1.91066901]]\n",
      "(9619, 8)\n"
     ]
    }
   ],
   "source": [
    "# Ваш код здесь\n",
    "std_data1 = std_scaler.fit_transform(data1)\n",
    "print(std_data1)\n",
    "print(std_data1.shape)"
   ]
  },
  {
   "cell_type": "markdown",
   "id": "68d44f88",
   "metadata": {
    "ExecuteTime": {
     "end_time": "2022-03-13T11:12:57.421096Z",
     "start_time": "2022-03-13T11:12:57.414865Z"
    },
    "id": "68d44f88"
   },
   "source": [
    "5. Создайте наименования новых признаков по шаблону: `lat_std` для `lat` и так далее."
   ]
  },
  {
   "cell_type": "code",
   "execution_count": 19,
   "id": "013e66f2",
   "metadata": {
    "ExecuteTime": {
     "end_time": "2022-03-15T22:40:46.483299Z",
     "start_time": "2022-03-15T22:40:46.475050Z"
    },
    "execution": {
     "iopub.execute_input": "2023-09-20T07:07:03.371091Z",
     "iopub.status.busy": "2023-09-20T07:07:03.370755Z",
     "iopub.status.idle": "2023-09-20T07:07:03.375890Z",
     "shell.execute_reply": "2023-09-20T07:07:03.375380Z",
     "shell.execute_reply.started": "2023-09-20T07:07:03.371067Z"
    },
    "id": "013e66f2",
    "tags": []
   },
   "outputs": [
    {
     "data": {
      "text/plain": [
       "['lat_std',\n",
       " 'long_std',\n",
       " 'year_std',\n",
       " 'odometer/price_std',\n",
       " 'desc_len_std',\n",
       " 'model_in_desc_std',\n",
       " 'model_len_std',\n",
       " 'model_word_count_std']"
      ]
     },
     "execution_count": 19,
     "metadata": {},
     "output_type": "execute_result"
    }
   ],
   "source": [
    "# Ваш код здесь\n",
    "col = ['lat', 'long', 'year', 'odometer/price', 'desc_len', 'model_in_desc', 'model_len', 'model_word_count']\n",
    "new_col = []\n",
    "schema = \"{}_std\"\n",
    "for cols in col:\n",
    "    new_cols = schema.format(cols)\n",
    "    new_col.append(new_cols)\n",
    "new_col    "
   ]
  },
  {
   "cell_type": "markdown",
   "id": "490925bb",
   "metadata": {
    "ExecuteTime": {
     "end_time": "2022-03-13T11:13:15.167251Z",
     "start_time": "2022-03-13T11:13:15.161293Z"
    },
    "id": "490925bb"
   },
   "source": [
    "6. Добавьте в исходный датафрейм получившиеся новые признаки, выведите первые пять записей датафрейма и список колонок."
   ]
  },
  {
   "cell_type": "code",
   "execution_count": 20,
   "id": "6eb7c0dd",
   "metadata": {
    "ExecuteTime": {
     "end_time": "2022-03-15T22:40:46.528674Z",
     "start_time": "2022-03-15T22:40:46.520688Z"
    },
    "execution": {
     "iopub.execute_input": "2023-09-20T07:07:24.897354Z",
     "iopub.status.busy": "2023-09-20T07:07:24.897015Z",
     "iopub.status.idle": "2023-09-20T07:07:24.911771Z",
     "shell.execute_reply": "2023-09-20T07:07:24.911275Z",
     "shell.execute_reply.started": "2023-09-20T07:07:24.897331Z"
    },
    "id": "6eb7c0dd",
    "tags": []
   },
   "outputs": [
    {
     "data": {
      "text/html": [
       "<div>\n",
       "<style scoped>\n",
       "    .dataframe tbody tr th:only-of-type {\n",
       "        vertical-align: middle;\n",
       "    }\n",
       "\n",
       "    .dataframe tbody tr th {\n",
       "        vertical-align: top;\n",
       "    }\n",
       "\n",
       "    .dataframe thead th {\n",
       "        text-align: right;\n",
       "    }\n",
       "</style>\n",
       "<table border=\"1\" class=\"dataframe\">\n",
       "  <thead>\n",
       "    <tr style=\"text-align: right;\">\n",
       "      <th></th>\n",
       "      <th>lat</th>\n",
       "      <th>long</th>\n",
       "      <th>year</th>\n",
       "      <th>odometer/price</th>\n",
       "      <th>desc_len</th>\n",
       "      <th>model_in_desc</th>\n",
       "      <th>model_len</th>\n",
       "      <th>model_word_count</th>\n",
       "      <th>lat_std</th>\n",
       "      <th>long_std</th>\n",
       "      <th>year_std</th>\n",
       "      <th>odometer/price_std</th>\n",
       "      <th>desc_len_std</th>\n",
       "      <th>model_in_desc_std</th>\n",
       "      <th>model_len_std</th>\n",
       "      <th>model_word_count_std</th>\n",
       "    </tr>\n",
       "  </thead>\n",
       "  <tbody>\n",
       "    <tr>\n",
       "      <th>0</th>\n",
       "      <td>35.060000</td>\n",
       "      <td>-85.250000</td>\n",
       "      <td>2020</td>\n",
       "      <td>0.499036</td>\n",
       "      <td>4482</td>\n",
       "      <td>0</td>\n",
       "      <td>22</td>\n",
       "      <td>5</td>\n",
       "      <td>-0.619172</td>\n",
       "      <td>0.484245</td>\n",
       "      <td>1.322394</td>\n",
       "      <td>-0.510784</td>\n",
       "      <td>0.632075</td>\n",
       "      <td>-0.155788</td>\n",
       "      <td>1.163032</td>\n",
       "      <td>1.910669</td>\n",
       "    </tr>\n",
       "    <tr>\n",
       "      <th>1</th>\n",
       "      <td>40.821805</td>\n",
       "      <td>-74.061962</td>\n",
       "      <td>2016</td>\n",
       "      <td>3.542852</td>\n",
       "      <td>968</td>\n",
       "      <td>0</td>\n",
       "      <td>20</td>\n",
       "      <td>4</td>\n",
       "      <td>0.388014</td>\n",
       "      <td>1.110800</td>\n",
       "      <td>0.695973</td>\n",
       "      <td>-0.402947</td>\n",
       "      <td>-0.646781</td>\n",
       "      <td>-0.155788</td>\n",
       "      <td>0.932087</td>\n",
       "      <td>1.235799</td>\n",
       "    </tr>\n",
       "    <tr>\n",
       "      <th>2</th>\n",
       "      <td>33.779214</td>\n",
       "      <td>-84.411811</td>\n",
       "      <td>2017</td>\n",
       "      <td>0.394718</td>\n",
       "      <td>4286</td>\n",
       "      <td>0</td>\n",
       "      <td>16</td>\n",
       "      <td>3</td>\n",
       "      <td>-0.843059</td>\n",
       "      <td>0.531185</td>\n",
       "      <td>0.852578</td>\n",
       "      <td>-0.514480</td>\n",
       "      <td>0.560744</td>\n",
       "      <td>-0.155788</td>\n",
       "      <td>0.470197</td>\n",
       "      <td>0.560930</td>\n",
       "    </tr>\n",
       "    <tr>\n",
       "      <th>3</th>\n",
       "      <td>35.715954</td>\n",
       "      <td>-78.655304</td>\n",
       "      <td>2013</td>\n",
       "      <td>8.089034</td>\n",
       "      <td>3241</td>\n",
       "      <td>0</td>\n",
       "      <td>4</td>\n",
       "      <td>1</td>\n",
       "      <td>-0.504509</td>\n",
       "      <td>0.853562</td>\n",
       "      <td>0.226157</td>\n",
       "      <td>-0.241883</td>\n",
       "      <td>0.180435</td>\n",
       "      <td>-0.155788</td>\n",
       "      <td>-0.915473</td>\n",
       "      <td>-0.788810</td>\n",
       "    </tr>\n",
       "    <tr>\n",
       "      <th>4</th>\n",
       "      <td>35.970000</td>\n",
       "      <td>-83.940000</td>\n",
       "      <td>2012</td>\n",
       "      <td>5.515079</td>\n",
       "      <td>4851</td>\n",
       "      <td>0</td>\n",
       "      <td>22</td>\n",
       "      <td>5</td>\n",
       "      <td>-0.460101</td>\n",
       "      <td>0.557607</td>\n",
       "      <td>0.069552</td>\n",
       "      <td>-0.333074</td>\n",
       "      <td>0.766366</td>\n",
       "      <td>-0.155788</td>\n",
       "      <td>1.163032</td>\n",
       "      <td>1.910669</td>\n",
       "    </tr>\n",
       "  </tbody>\n",
       "</table>\n",
       "</div>"
      ],
      "text/plain": [
       "         lat       long  year  odometer/price  desc_len  model_in_desc  \\\n",
       "0  35.060000 -85.250000  2020        0.499036      4482              0   \n",
       "1  40.821805 -74.061962  2016        3.542852       968              0   \n",
       "2  33.779214 -84.411811  2017        0.394718      4286              0   \n",
       "3  35.715954 -78.655304  2013        8.089034      3241              0   \n",
       "4  35.970000 -83.940000  2012        5.515079      4851              0   \n",
       "\n",
       "   model_len  model_word_count   lat_std  long_std  year_std  \\\n",
       "0         22                 5 -0.619172  0.484245  1.322394   \n",
       "1         20                 4  0.388014  1.110800  0.695973   \n",
       "2         16                 3 -0.843059  0.531185  0.852578   \n",
       "3          4                 1 -0.504509  0.853562  0.226157   \n",
       "4         22                 5 -0.460101  0.557607  0.069552   \n",
       "\n",
       "   odometer/price_std  desc_len_std  model_in_desc_std  model_len_std  \\\n",
       "0           -0.510784      0.632075          -0.155788       1.163032   \n",
       "1           -0.402947     -0.646781          -0.155788       0.932087   \n",
       "2           -0.514480      0.560744          -0.155788       0.470197   \n",
       "3           -0.241883      0.180435          -0.155788      -0.915473   \n",
       "4           -0.333074      0.766366          -0.155788       1.163032   \n",
       "\n",
       "   model_word_count_std  \n",
       "0              1.910669  \n",
       "1              1.235799  \n",
       "2              0.560930  \n",
       "3             -0.788810  \n",
       "4              1.910669  "
      ]
     },
     "execution_count": 20,
     "metadata": {},
     "output_type": "execute_result"
    }
   ],
   "source": [
    "# Ваш код здесь\n",
    "data1[new_col] = std_data1\n",
    "data1 = pd.DataFrame(data1)\n",
    "data1.head(5)"
   ]
  },
  {
   "cell_type": "code",
   "execution_count": 83,
   "id": "5252af16-6454-4a65-83f6-7e82084a1f4a",
   "metadata": {
    "execution": {
     "iopub.execute_input": "2023-09-20T07:27:43.396622Z",
     "iopub.status.busy": "2023-09-20T07:27:43.396363Z",
     "iopub.status.idle": "2023-09-20T07:27:43.480988Z",
     "shell.execute_reply": "2023-09-20T07:27:43.480432Z",
     "shell.execute_reply.started": "2023-09-20T07:27:43.396601Z"
    }
   },
   "outputs": [],
   "source": [
    "df = pd.concat([df, data1], axis=1, join='outer')"
   ]
  },
  {
   "cell_type": "code",
   "execution_count": 21,
   "id": "65c9086c-52e4-491e-a9a2-0b6249fdc2d3",
   "metadata": {
    "execution": {
     "iopub.execute_input": "2023-09-20T07:07:29.815078Z",
     "iopub.status.busy": "2023-09-20T07:07:29.814844Z",
     "iopub.status.idle": "2023-09-20T07:07:29.820193Z",
     "shell.execute_reply": "2023-09-20T07:07:29.819720Z",
     "shell.execute_reply.started": "2023-09-20T07:07:29.815057Z"
    },
    "tags": []
   },
   "outputs": [
    {
     "data": {
      "text/plain": [
       "Index(['lat', 'long', 'year', 'odometer/price', 'desc_len', 'model_in_desc',\n",
       "       'model_len', 'model_word_count', 'lat_std', 'long_std', 'year_std',\n",
       "       'odometer/price_std', 'desc_len_std', 'model_in_desc_std',\n",
       "       'model_len_std', 'model_word_count_std'],\n",
       "      dtype='object')"
      ]
     },
     "execution_count": 21,
     "metadata": {},
     "output_type": "execute_result"
    }
   ],
   "source": [
    "data1.columns"
   ]
  },
  {
   "cell_type": "markdown",
   "id": "0a3146dd",
   "metadata": {
    "ExecuteTime": {
     "end_time": "2022-03-13T11:16:52.292837Z",
     "start_time": "2022-03-13T11:16:52.286868Z"
    },
    "id": "0a3146dd"
   },
   "source": [
    "### Задача 4. MinMax-нормализация данных\n",
    "\n",
    "1. Импортируйте MinMaxScaler из `sklearn.preprocessing`."
   ]
  },
  {
   "cell_type": "code",
   "execution_count": 22,
   "id": "3db8afba",
   "metadata": {
    "ExecuteTime": {
     "end_time": "2022-03-15T22:40:46.701361Z",
     "start_time": "2022-03-15T22:40:46.695192Z"
    },
    "execution": {
     "iopub.execute_input": "2023-09-20T07:07:32.553803Z",
     "iopub.status.busy": "2023-09-20T07:07:32.553477Z",
     "iopub.status.idle": "2023-09-20T07:07:32.556727Z",
     "shell.execute_reply": "2023-09-20T07:07:32.556163Z",
     "shell.execute_reply.started": "2023-09-20T07:07:32.553781Z"
    },
    "id": "3db8afba",
    "tags": []
   },
   "outputs": [],
   "source": [
    "# Ваш код здесь\n",
    "from sklearn.preprocessing import MinMaxScaler"
   ]
  },
  {
   "cell_type": "markdown",
   "id": "d471557f",
   "metadata": {
    "id": "d471557f"
   },
   "source": [
    "2. Создайте датафрейм, содержащий переменные `lat` и `long`."
   ]
  },
  {
   "cell_type": "code",
   "execution_count": 23,
   "id": "13859501",
   "metadata": {
    "ExecuteTime": {
     "end_time": "2022-03-15T22:40:46.732137Z",
     "start_time": "2022-03-15T22:40:46.725228Z"
    },
    "execution": {
     "iopub.execute_input": "2023-09-20T07:07:34.045798Z",
     "iopub.status.busy": "2023-09-20T07:07:34.045455Z",
     "iopub.status.idle": "2023-09-20T07:07:34.056456Z",
     "shell.execute_reply": "2023-09-20T07:07:34.055921Z",
     "shell.execute_reply.started": "2023-09-20T07:07:34.045773Z"
    },
    "id": "13859501",
    "tags": []
   },
   "outputs": [
    {
     "data": {
      "text/html": [
       "<div>\n",
       "<style scoped>\n",
       "    .dataframe tbody tr th:only-of-type {\n",
       "        vertical-align: middle;\n",
       "    }\n",
       "\n",
       "    .dataframe tbody tr th {\n",
       "        vertical-align: top;\n",
       "    }\n",
       "\n",
       "    .dataframe thead th {\n",
       "        text-align: right;\n",
       "    }\n",
       "</style>\n",
       "<table border=\"1\" class=\"dataframe\">\n",
       "  <thead>\n",
       "    <tr style=\"text-align: right;\">\n",
       "      <th></th>\n",
       "      <th>lat</th>\n",
       "      <th>long</th>\n",
       "    </tr>\n",
       "  </thead>\n",
       "  <tbody>\n",
       "    <tr>\n",
       "      <th>0</th>\n",
       "      <td>35.060000</td>\n",
       "      <td>-85.250000</td>\n",
       "    </tr>\n",
       "    <tr>\n",
       "      <th>1</th>\n",
       "      <td>40.821805</td>\n",
       "      <td>-74.061962</td>\n",
       "    </tr>\n",
       "    <tr>\n",
       "      <th>2</th>\n",
       "      <td>33.779214</td>\n",
       "      <td>-84.411811</td>\n",
       "    </tr>\n",
       "    <tr>\n",
       "      <th>3</th>\n",
       "      <td>35.715954</td>\n",
       "      <td>-78.655304</td>\n",
       "    </tr>\n",
       "    <tr>\n",
       "      <th>4</th>\n",
       "      <td>35.970000</td>\n",
       "      <td>-83.940000</td>\n",
       "    </tr>\n",
       "    <tr>\n",
       "      <th>...</th>\n",
       "      <td>...</td>\n",
       "      <td>...</td>\n",
       "    </tr>\n",
       "    <tr>\n",
       "      <th>9614</th>\n",
       "      <td>42.123900</td>\n",
       "      <td>-79.189500</td>\n",
       "    </tr>\n",
       "    <tr>\n",
       "      <th>9615</th>\n",
       "      <td>43.216990</td>\n",
       "      <td>-77.755610</td>\n",
       "    </tr>\n",
       "    <tr>\n",
       "      <th>9616</th>\n",
       "      <td>44.925908</td>\n",
       "      <td>-122.982753</td>\n",
       "    </tr>\n",
       "    <tr>\n",
       "      <th>9617</th>\n",
       "      <td>43.029559</td>\n",
       "      <td>-89.397796</td>\n",
       "    </tr>\n",
       "    <tr>\n",
       "      <th>9618</th>\n",
       "      <td>36.670000</td>\n",
       "      <td>-76.300000</td>\n",
       "    </tr>\n",
       "  </tbody>\n",
       "</table>\n",
       "<p>9619 rows × 2 columns</p>\n",
       "</div>"
      ],
      "text/plain": [
       "            lat        long\n",
       "0     35.060000  -85.250000\n",
       "1     40.821805  -74.061962\n",
       "2     33.779214  -84.411811\n",
       "3     35.715954  -78.655304\n",
       "4     35.970000  -83.940000\n",
       "...         ...         ...\n",
       "9614  42.123900  -79.189500\n",
       "9615  43.216990  -77.755610\n",
       "9616  44.925908 -122.982753\n",
       "9617  43.029559  -89.397796\n",
       "9618  36.670000  -76.300000\n",
       "\n",
       "[9619 rows x 2 columns]"
      ]
     },
     "execution_count": 23,
     "metadata": {},
     "output_type": "execute_result"
    }
   ],
   "source": [
    "# Ваш код здесь\n",
    "coll = ['lat', 'long']\n",
    "df1 = data1[coll]\n",
    "df1"
   ]
  },
  {
   "cell_type": "markdown",
   "id": "0599fc35",
   "metadata": {
    "id": "0599fc35"
   },
   "source": [
    "3. Повторите действия пунктов 2–6 из задачи 3 для добавления в исходный датафрейм признаков `lat_mm` и `long_mm`. Выведите получившийся датафрейм."
   ]
  },
  {
   "cell_type": "code",
   "execution_count": 24,
   "id": "26f2c546",
   "metadata": {
    "ExecuteTime": {
     "end_time": "2022-03-15T22:40:47.159782Z",
     "start_time": "2022-03-15T22:40:47.148971Z"
    },
    "execution": {
     "iopub.execute_input": "2023-09-20T07:07:37.324900Z",
     "iopub.status.busy": "2023-09-20T07:07:37.324469Z",
     "iopub.status.idle": "2023-09-20T07:07:37.329299Z",
     "shell.execute_reply": "2023-09-20T07:07:37.328754Z",
     "shell.execute_reply.started": "2023-09-20T07:07:37.324872Z"
    },
    "id": "26f2c546",
    "tags": []
   },
   "outputs": [
    {
     "data": {
      "text/plain": [
       "MinMaxScaler()"
      ]
     },
     "execution_count": 24,
     "metadata": {},
     "output_type": "execute_result"
    }
   ],
   "source": [
    "# Ваш код здесь\n",
    "minmax_scaler = MinMaxScaler()\n",
    "minmax_scaler"
   ]
  },
  {
   "cell_type": "code",
   "execution_count": 25,
   "id": "b0958f4a-8627-46f0-b097-e490bdc20ccb",
   "metadata": {
    "execution": {
     "iopub.execute_input": "2023-09-20T07:07:38.052797Z",
     "iopub.status.busy": "2023-09-20T07:07:38.052445Z",
     "iopub.status.idle": "2023-09-20T07:07:38.059056Z",
     "shell.execute_reply": "2023-09-20T07:07:38.058387Z",
     "shell.execute_reply.started": "2023-09-20T07:07:38.052773Z"
    },
    "tags": []
   },
   "outputs": [
    {
     "data": {
      "text/plain": [
       "MinMaxScaler()"
      ]
     },
     "execution_count": 25,
     "metadata": {},
     "output_type": "execute_result"
    }
   ],
   "source": [
    "minmax_scaler.fit(df1)"
   ]
  },
  {
   "cell_type": "code",
   "execution_count": 26,
   "id": "ee6c10f9-fe85-4797-a59c-f99511ad431a",
   "metadata": {
    "execution": {
     "iopub.execute_input": "2023-09-20T07:07:38.688605Z",
     "iopub.status.busy": "2023-09-20T07:07:38.688246Z",
     "iopub.status.idle": "2023-09-20T07:07:38.696211Z",
     "shell.execute_reply": "2023-09-20T07:07:38.695678Z",
     "shell.execute_reply.started": "2023-09-20T07:07:38.688575Z"
    },
    "tags": []
   },
   "outputs": [
    {
     "data": {
      "text/plain": [
       "array([[0.34176874, 0.28869912],\n",
       "       [0.4686646 , 0.33305517],\n",
       "       [0.31356118, 0.2920222 ],\n",
       "       ...,\n",
       "       [0.55905185, 0.13910399],\n",
       "       [0.51728736, 0.27225478],\n",
       "       [0.37722678, 0.32418225]])"
      ]
     },
     "execution_count": 26,
     "metadata": {},
     "output_type": "execute_result"
    }
   ],
   "source": [
    "minmax_df1 = minmax_scaler.fit_transform(df1)\n",
    "minmax_df1"
   ]
  },
  {
   "cell_type": "code",
   "execution_count": 27,
   "id": "5aa747cf-9a2a-4c08-93bd-70bd40abc254",
   "metadata": {
    "execution": {
     "iopub.execute_input": "2023-09-20T07:07:41.156056Z",
     "iopub.status.busy": "2023-09-20T07:07:41.155701Z",
     "iopub.status.idle": "2023-09-20T07:07:41.160890Z",
     "shell.execute_reply": "2023-09-20T07:07:41.160399Z",
     "shell.execute_reply.started": "2023-09-20T07:07:41.156030Z"
    },
    "tags": []
   },
   "outputs": [
    {
     "data": {
      "text/plain": [
       "['lat_mm', 'long_mm']"
      ]
     },
     "execution_count": 27,
     "metadata": {},
     "output_type": "execute_result"
    }
   ],
   "source": [
    "coll = ['lat', 'long']\n",
    "new_df1 = []\n",
    "schemas = \"{}_mm\"\n",
    "for col in coll:\n",
    "    new_df = schemas.format(col)\n",
    "    new_df1.append(new_df)\n",
    "new_df1    "
   ]
  },
  {
   "cell_type": "code",
   "execution_count": 29,
   "id": "9b5a5cd9-85ec-4cdc-9ef7-9ba450bdb740",
   "metadata": {
    "execution": {
     "iopub.execute_input": "2023-09-20T07:07:46.382219Z",
     "iopub.status.busy": "2023-09-20T07:07:46.381871Z",
     "iopub.status.idle": "2023-09-20T07:07:46.403412Z",
     "shell.execute_reply": "2023-09-20T07:07:46.402856Z",
     "shell.execute_reply.started": "2023-09-20T07:07:46.382190Z"
    },
    "tags": []
   },
   "outputs": [
    {
     "name": "stderr",
     "output_type": "stream",
     "text": [
      "/tmp/ipykernel_218/3201918375.py:1: SettingWithCopyWarning: \n",
      "A value is trying to be set on a copy of a slice from a DataFrame.\n",
      "Try using .loc[row_indexer,col_indexer] = value instead\n",
      "\n",
      "See the caveats in the documentation: https://pandas.pydata.org/pandas-docs/stable/user_guide/indexing.html#returning-a-view-versus-a-copy\n",
      "  df1[new_df1] = minmax_df1\n"
     ]
    },
    {
     "data": {
      "text/html": [
       "<div>\n",
       "<style scoped>\n",
       "    .dataframe tbody tr th:only-of-type {\n",
       "        vertical-align: middle;\n",
       "    }\n",
       "\n",
       "    .dataframe tbody tr th {\n",
       "        vertical-align: top;\n",
       "    }\n",
       "\n",
       "    .dataframe thead th {\n",
       "        text-align: right;\n",
       "    }\n",
       "</style>\n",
       "<table border=\"1\" class=\"dataframe\">\n",
       "  <thead>\n",
       "    <tr style=\"text-align: right;\">\n",
       "      <th></th>\n",
       "      <th>lat</th>\n",
       "      <th>long</th>\n",
       "      <th>lat_mm</th>\n",
       "      <th>long_mm</th>\n",
       "    </tr>\n",
       "  </thead>\n",
       "  <tbody>\n",
       "    <tr>\n",
       "      <th>0</th>\n",
       "      <td>35.060000</td>\n",
       "      <td>-85.250000</td>\n",
       "      <td>0.341769</td>\n",
       "      <td>0.288699</td>\n",
       "    </tr>\n",
       "    <tr>\n",
       "      <th>1</th>\n",
       "      <td>40.821805</td>\n",
       "      <td>-74.061962</td>\n",
       "      <td>0.468665</td>\n",
       "      <td>0.333055</td>\n",
       "    </tr>\n",
       "    <tr>\n",
       "      <th>2</th>\n",
       "      <td>33.779214</td>\n",
       "      <td>-84.411811</td>\n",
       "      <td>0.313561</td>\n",
       "      <td>0.292022</td>\n",
       "    </tr>\n",
       "    <tr>\n",
       "      <th>3</th>\n",
       "      <td>35.715954</td>\n",
       "      <td>-78.655304</td>\n",
       "      <td>0.356215</td>\n",
       "      <td>0.314844</td>\n",
       "    </tr>\n",
       "    <tr>\n",
       "      <th>4</th>\n",
       "      <td>35.970000</td>\n",
       "      <td>-83.940000</td>\n",
       "      <td>0.361810</td>\n",
       "      <td>0.293893</td>\n",
       "    </tr>\n",
       "  </tbody>\n",
       "</table>\n",
       "</div>"
      ],
      "text/plain": [
       "         lat       long    lat_mm   long_mm\n",
       "0  35.060000 -85.250000  0.341769  0.288699\n",
       "1  40.821805 -74.061962  0.468665  0.333055\n",
       "2  33.779214 -84.411811  0.313561  0.292022\n",
       "3  35.715954 -78.655304  0.356215  0.314844\n",
       "4  35.970000 -83.940000  0.361810  0.293893"
      ]
     },
     "execution_count": 29,
     "metadata": {},
     "output_type": "execute_result"
    }
   ],
   "source": [
    "df1[new_df1] = minmax_df1\n",
    "df1.head(5)"
   ]
  },
  {
   "cell_type": "markdown",
   "id": "71044c34",
   "metadata": {
    "id": "71044c34"
   },
   "source": [
    "4. Создайте переменную под географические признаки `lat`, `lat_std`, `lat_mm`, `long`, `long_std`, `long_mm` и выведите их. Посмотрите на различия в значениях для исходных признаков и нормализованных с помощью стандартизации и MinMax-преобразования. "
   ]
  },
  {
   "cell_type": "code",
   "execution_count": 30,
   "id": "27642284",
   "metadata": {
    "ExecuteTime": {
     "end_time": "2022-03-15T22:40:47.408669Z",
     "start_time": "2022-03-15T22:40:47.402057Z"
    },
    "execution": {
     "iopub.execute_input": "2023-09-20T07:07:58.460829Z",
     "iopub.status.busy": "2023-09-20T07:07:58.460497Z",
     "iopub.status.idle": "2023-09-20T07:07:58.475196Z",
     "shell.execute_reply": "2023-09-20T07:07:58.474747Z",
     "shell.execute_reply.started": "2023-09-20T07:07:58.460806Z"
    },
    "id": "27642284",
    "tags": []
   },
   "outputs": [
    {
     "data": {
      "text/html": [
       "<div>\n",
       "<style scoped>\n",
       "    .dataframe tbody tr th:only-of-type {\n",
       "        vertical-align: middle;\n",
       "    }\n",
       "\n",
       "    .dataframe tbody tr th {\n",
       "        vertical-align: top;\n",
       "    }\n",
       "\n",
       "    .dataframe thead th {\n",
       "        text-align: right;\n",
       "    }\n",
       "</style>\n",
       "<table border=\"1\" class=\"dataframe\">\n",
       "  <thead>\n",
       "    <tr style=\"text-align: right;\">\n",
       "      <th></th>\n",
       "      <th>lat</th>\n",
       "      <th>long</th>\n",
       "      <th>lat_std</th>\n",
       "      <th>long_std</th>\n",
       "      <th>lat_mm</th>\n",
       "      <th>long_mm</th>\n",
       "    </tr>\n",
       "  </thead>\n",
       "  <tbody>\n",
       "    <tr>\n",
       "      <th>0</th>\n",
       "      <td>35.060000</td>\n",
       "      <td>-85.250000</td>\n",
       "      <td>-0.619172</td>\n",
       "      <td>0.484245</td>\n",
       "      <td>0.341769</td>\n",
       "      <td>0.288699</td>\n",
       "    </tr>\n",
       "    <tr>\n",
       "      <th>1</th>\n",
       "      <td>40.821805</td>\n",
       "      <td>-74.061962</td>\n",
       "      <td>0.388014</td>\n",
       "      <td>1.110800</td>\n",
       "      <td>0.468665</td>\n",
       "      <td>0.333055</td>\n",
       "    </tr>\n",
       "    <tr>\n",
       "      <th>2</th>\n",
       "      <td>33.779214</td>\n",
       "      <td>-84.411811</td>\n",
       "      <td>-0.843059</td>\n",
       "      <td>0.531185</td>\n",
       "      <td>0.313561</td>\n",
       "      <td>0.292022</td>\n",
       "    </tr>\n",
       "    <tr>\n",
       "      <th>3</th>\n",
       "      <td>35.715954</td>\n",
       "      <td>-78.655304</td>\n",
       "      <td>-0.504509</td>\n",
       "      <td>0.853562</td>\n",
       "      <td>0.356215</td>\n",
       "      <td>0.314844</td>\n",
       "    </tr>\n",
       "    <tr>\n",
       "      <th>4</th>\n",
       "      <td>35.970000</td>\n",
       "      <td>-83.940000</td>\n",
       "      <td>-0.460101</td>\n",
       "      <td>0.557607</td>\n",
       "      <td>0.361810</td>\n",
       "      <td>0.293893</td>\n",
       "    </tr>\n",
       "    <tr>\n",
       "      <th>...</th>\n",
       "      <td>...</td>\n",
       "      <td>...</td>\n",
       "      <td>...</td>\n",
       "      <td>...</td>\n",
       "      <td>...</td>\n",
       "      <td>...</td>\n",
       "    </tr>\n",
       "    <tr>\n",
       "      <th>9614</th>\n",
       "      <td>42.123900</td>\n",
       "      <td>-79.189500</td>\n",
       "      <td>0.615626</td>\n",
       "      <td>0.823646</td>\n",
       "      <td>0.497341</td>\n",
       "      <td>0.312727</td>\n",
       "    </tr>\n",
       "    <tr>\n",
       "      <th>9615</th>\n",
       "      <td>43.216990</td>\n",
       "      <td>-77.755610</td>\n",
       "      <td>0.806702</td>\n",
       "      <td>0.903947</td>\n",
       "      <td>0.521415</td>\n",
       "      <td>0.318411</td>\n",
       "    </tr>\n",
       "    <tr>\n",
       "      <th>9616</th>\n",
       "      <td>44.925908</td>\n",
       "      <td>-122.982753</td>\n",
       "      <td>1.105428</td>\n",
       "      <td>-1.628875</td>\n",
       "      <td>0.559052</td>\n",
       "      <td>0.139104</td>\n",
       "    </tr>\n",
       "    <tr>\n",
       "      <th>9617</th>\n",
       "      <td>43.029559</td>\n",
       "      <td>-89.397796</td>\n",
       "      <td>0.773939</td>\n",
       "      <td>0.251959</td>\n",
       "      <td>0.517287</td>\n",
       "      <td>0.272255</td>\n",
       "    </tr>\n",
       "    <tr>\n",
       "      <th>9618</th>\n",
       "      <td>36.670000</td>\n",
       "      <td>-76.300000</td>\n",
       "      <td>-0.337738</td>\n",
       "      <td>0.985465</td>\n",
       "      <td>0.377227</td>\n",
       "      <td>0.324182</td>\n",
       "    </tr>\n",
       "  </tbody>\n",
       "</table>\n",
       "<p>9619 rows × 6 columns</p>\n",
       "</div>"
      ],
      "text/plain": [
       "            lat        long   lat_std  long_std    lat_mm   long_mm\n",
       "0     35.060000  -85.250000 -0.619172  0.484245  0.341769  0.288699\n",
       "1     40.821805  -74.061962  0.388014  1.110800  0.468665  0.333055\n",
       "2     33.779214  -84.411811 -0.843059  0.531185  0.313561  0.292022\n",
       "3     35.715954  -78.655304 -0.504509  0.853562  0.356215  0.314844\n",
       "4     35.970000  -83.940000 -0.460101  0.557607  0.361810  0.293893\n",
       "...         ...         ...       ...       ...       ...       ...\n",
       "9614  42.123900  -79.189500  0.615626  0.823646  0.497341  0.312727\n",
       "9615  43.216990  -77.755610  0.806702  0.903947  0.521415  0.318411\n",
       "9616  44.925908 -122.982753  1.105428 -1.628875  0.559052  0.139104\n",
       "9617  43.029559  -89.397796  0.773939  0.251959  0.517287  0.272255\n",
       "9618  36.670000  -76.300000 -0.337738  0.985465  0.377227  0.324182\n",
       "\n",
       "[9619 rows x 6 columns]"
      ]
     },
     "execution_count": 30,
     "metadata": {},
     "output_type": "execute_result"
    }
   ],
   "source": [
    "# Ваш код здесь\n",
    "df_geo= []\n",
    "df_geo = pd.DataFrame(df_geo)\n",
    "data1_geo = data1[['lat', 'long','lat_std', 'long_std']]\n",
    "df1_geo = df1[['lat_mm', 'long_mm']]\n",
    "df_geo = pd.concat([df_geo, data1_geo, df1_geo], axis=1)\n",
    "df_geo"
   ]
  },
  {
   "cell_type": "markdown",
   "id": "ef219d5f",
   "metadata": {
    "id": "ef219d5f"
   },
   "source": [
    "5. Выведите описательные статистики для всех географических признаков. Посмотрите на различия в статистиках для исходных признаков и нормализованных с помощью стандартизации и MinMax-преобразования."
   ]
  },
  {
   "cell_type": "code",
   "execution_count": 31,
   "id": "453b92ff",
   "metadata": {
    "ExecuteTime": {
     "end_time": "2022-03-15T22:40:47.738681Z",
     "start_time": "2022-03-15T22:40:47.730698Z"
    },
    "execution": {
     "iopub.execute_input": "2023-09-20T07:08:01.852137Z",
     "iopub.status.busy": "2023-09-20T07:08:01.851718Z",
     "iopub.status.idle": "2023-09-20T07:08:01.858030Z",
     "shell.execute_reply": "2023-09-20T07:08:01.857614Z",
     "shell.execute_reply.started": "2023-09-20T07:08:01.852114Z"
    },
    "id": "453b92ff",
    "tags": []
   },
   "outputs": [
    {
     "data": {
      "text/plain": [
       "StandardScaler()"
      ]
     },
     "execution_count": 31,
     "metadata": {},
     "output_type": "execute_result"
    }
   ],
   "source": [
    "# Ваш код здесь\n",
    "std_scaler.fit(df_geo)"
   ]
  },
  {
   "cell_type": "code",
   "execution_count": 32,
   "id": "f883b494-a3eb-4100-9820-55e24292b42a",
   "metadata": {
    "execution": {
     "iopub.execute_input": "2023-09-20T07:08:02.440481Z",
     "iopub.status.busy": "2023-09-20T07:08:02.440176Z",
     "iopub.status.idle": "2023-09-20T07:08:02.447398Z",
     "shell.execute_reply": "2023-09-20T07:08:02.446957Z",
     "shell.execute_reply.started": "2023-09-20T07:08:02.440458Z"
    },
    "tags": []
   },
   "outputs": [
    {
     "name": "stdout",
     "output_type": "stream",
     "text": [
      "[ 3.86020949e+01 -9.38968752e+01  2.10525709e-16 -4.49860200e-16\n",
      "  4.19778526e-01  2.54417749e-01]\n",
      "[3.27263136e+01 3.18851860e+02 1.00000000e+00 1.00000000e+00\n",
      " 1.58735813e-02 5.01172077e-03]\n"
     ]
    }
   ],
   "source": [
    "df_geo_std = std_scaler.fit_transform(df_geo)\n",
    "print(std_scaler.mean_)\n",
    "print(std_scaler.var_)"
   ]
  },
  {
   "cell_type": "markdown",
   "id": "efac5751",
   "metadata": {
    "id": "efac5751"
   },
   "source": [
    "6. Выведите матрицу корреляций для всех географических признаков, чтобы убедиться, что нормализация признаков сохранила свойства исходных признаков."
   ]
  },
  {
   "cell_type": "code",
   "execution_count": 33,
   "id": "10bcd5c8",
   "metadata": {
    "ExecuteTime": {
     "end_time": "2022-03-15T22:40:47.841822Z",
     "start_time": "2022-03-15T22:40:47.835737Z"
    },
    "execution": {
     "iopub.execute_input": "2023-09-20T07:08:06.202038Z",
     "iopub.status.busy": "2023-09-20T07:08:06.201680Z",
     "iopub.status.idle": "2023-09-20T07:08:07.898847Z",
     "shell.execute_reply": "2023-09-20T07:08:07.898233Z",
     "shell.execute_reply.started": "2023-09-20T07:08:06.202010Z"
    },
    "id": "10bcd5c8",
    "tags": []
   },
   "outputs": [
    {
     "data": {
      "text/plain": [
       "Text(0.5, 0, 'lat')"
      ]
     },
     "execution_count": 33,
     "metadata": {},
     "output_type": "execute_result"
    },
    {
     "data": {
      "image/png": "[encoded data removed]",
      "text/plain": [
       "<Figure size 1440x864 with 3 Axes>"
      ]
     },
     "metadata": {
      "needs_background": "light"
     },
     "output_type": "display_data"
    }
   ],
   "source": [
    "# Ваш код здесь\n",
    "import matplotlib.pyplot as plt\n",
    "fig, (ax1,ax2,ax3) = plt.subplots(nrows=3,ncols=1,figsize=(20,12))\n",
    "ax1.scatter(df_geo.lat,df_geo.long)\n",
    "ax1.set_title('Исходная')\n",
    "ax1.set_ylabel('long')\n",
    "ax1.set_xlabel('lat')\n",
    "\n",
    "ax2.scatter(df_geo.lat_std,df_geo.long_std)\n",
    "ax2.set_title('std')\n",
    "ax2.set_ylabel('long')\n",
    "ax2.set_xlabel('lat')\n",
    "\n",
    "ax3.scatter(df_geo.lat_mm,df_geo.long_mm)\n",
    "ax3.set_title('minmax')\n",
    "ax3.set_ylabel('long')\n",
    "ax3.set_xlabel('lat')"
   ]
  },
  {
   "cell_type": "markdown",
   "id": "f87792e8",
   "metadata": {
    "ExecuteTime": {
     "end_time": "2022-03-13T12:00:09.641795Z",
     "start_time": "2022-03-13T12:00:09.636474Z"
    },
    "id": "f87792e8"
   },
   "source": [
    "### Задача 5. Признаки на основе дат\n",
    "\n",
    "1. Выведите по отдельности колонки `posting_date` и `date`. "
   ]
  },
  {
   "cell_type": "code",
   "execution_count": 34,
   "id": "1cf0cc30",
   "metadata": {
    "ExecuteTime": {
     "end_time": "2022-03-15T22:40:48.879395Z",
     "start_time": "2022-03-15T22:40:48.875098Z"
    },
    "execution": {
     "iopub.execute_input": "2023-09-20T07:08:11.306525Z",
     "iopub.status.busy": "2023-09-20T07:08:11.306214Z",
     "iopub.status.idle": "2023-09-20T07:08:11.312688Z",
     "shell.execute_reply": "2023-09-20T07:08:11.312185Z",
     "shell.execute_reply.started": "2023-09-20T07:08:11.306501Z"
    },
    "id": "1cf0cc30",
    "tags": []
   },
   "outputs": [
    {
     "name": "stdout",
     "output_type": "stream",
     "text": [
      "0       2021-04-17T12:30:50-0400\n",
      "1       2021-05-03T15:40:21-0400\n",
      "2       2021-04-28T03:52:20-0700\n",
      "3       2021-04-17T10:08:57-0400\n",
      "4       2021-04-08T15:10:56-0400\n",
      "                  ...           \n",
      "9614    2021-04-10T16:33:57-0400\n",
      "9615    2021-05-03T09:36:30-0400\n",
      "9616    2021-04-22T12:14:01-0700\n",
      "9617    2021-04-14T09:14:42-0500\n",
      "9618    2021-04-24T13:50:49-0400\n",
      "Name: posting_date, Length: 9619, dtype: object\n",
      "0       2021-04-17 16:30:50+00:00\n",
      "1       2021-05-03 19:40:21+00:00\n",
      "2       2021-04-28 10:52:20+00:00\n",
      "3       2021-04-17 14:08:57+00:00\n",
      "4       2021-04-08 19:10:56+00:00\n",
      "                  ...            \n",
      "9614    2021-04-10 20:33:57+00:00\n",
      "9615    2021-05-03 13:36:30+00:00\n",
      "9616    2021-04-22 19:14:01+00:00\n",
      "9617    2021-04-14 14:14:42+00:00\n",
      "9618    2021-04-24 17:50:49+00:00\n",
      "Name: date, Length: 9619, dtype: object\n"
     ]
    }
   ],
   "source": [
    "# Ваш код здесь\n",
    "print(df.posting_date)\n",
    "print(df.date)"
   ]
  },
  {
   "cell_type": "markdown",
   "id": "a154545f",
   "metadata": {
    "id": "a154545f"
   },
   "source": [
    "2. Ранее преобразованная колонка `date` после сохранения в файл и загрузки из него содержит данные в строковом формате, поэтому измените её тип c помощью `pd.to_datetime`."
   ]
  },
  {
   "cell_type": "code",
   "execution_count": 35,
   "id": "a196635b",
   "metadata": {
    "ExecuteTime": {
     "end_time": "2022-03-15T22:49:02.356258Z",
     "start_time": "2022-03-15T22:49:02.315893Z"
    },
    "execution": {
     "iopub.execute_input": "2023-09-20T07:08:14.122101Z",
     "iopub.status.busy": "2023-09-20T07:08:14.121815Z",
     "iopub.status.idle": "2023-09-20T07:08:14.137441Z",
     "shell.execute_reply": "2023-09-20T07:08:14.137027Z",
     "shell.execute_reply.started": "2023-09-20T07:08:14.122079Z"
    },
    "id": "a196635b",
    "tags": []
   },
   "outputs": [],
   "source": [
    "# Ваш код здесь\n",
    "df['date'] = pd.to_datetime(df['date'])"
   ]
  },
  {
   "cell_type": "markdown",
   "id": "c9b3e6f1",
   "metadata": {
    "id": "c9b3e6f1"
   },
   "source": [
    "3. Несколькими способами извлеките номер месяца продажи автомобиля.\n",
    "\n",
    "3.1. Из переменной `posting_date` с помощью lambda-функции и операций над строками."
   ]
  },
  {
   "cell_type": "code",
   "execution_count": 36,
   "id": "7fb35f85",
   "metadata": {
    "ExecuteTime": {
     "end_time": "2022-03-15T22:40:51.380851Z",
     "start_time": "2022-03-15T22:40:51.369103Z"
    },
    "execution": {
     "iopub.execute_input": "2023-09-20T07:08:16.366596Z",
     "iopub.status.busy": "2023-09-20T07:08:16.366305Z",
     "iopub.status.idle": "2023-09-20T07:08:16.375639Z",
     "shell.execute_reply": "2023-09-20T07:08:16.375215Z",
     "shell.execute_reply.started": "2023-09-20T07:08:16.366572Z"
    },
    "id": "7fb35f85",
    "tags": []
   },
   "outputs": [
    {
     "data": {
      "text/plain": [
       "0       04\n",
       "1       05\n",
       "2       04\n",
       "3       04\n",
       "4       04\n",
       "        ..\n",
       "9614    04\n",
       "9615    05\n",
       "9616    04\n",
       "9617    04\n",
       "9618    04\n",
       "Name: posting_date, Length: 9619, dtype: object"
      ]
     },
     "execution_count": 36,
     "metadata": {},
     "output_type": "execute_result"
    }
   ],
   "source": [
    "# Ваш код здесь\n",
    "month1 = df['posting_date'].apply(lambda x: x.split('-')[1])\n",
    "month1"
   ]
  },
  {
   "cell_type": "markdown",
   "id": "3218fd7e",
   "metadata": {
    "id": "3218fd7e"
   },
   "source": [
    "3.2. Из переменной `date` с помощью lambda-функции и метода `month`."
   ]
  },
  {
   "cell_type": "code",
   "execution_count": 37,
   "id": "4fd839cb",
   "metadata": {
    "ExecuteTime": {
     "end_time": "2022-03-15T22:40:54.064285Z",
     "start_time": "2022-03-15T22:40:54.057551Z"
    },
    "execution": {
     "iopub.execute_input": "2023-09-20T07:08:18.815450Z",
     "iopub.status.busy": "2023-09-20T07:08:18.815141Z",
     "iopub.status.idle": "2023-09-20T07:08:18.821686Z",
     "shell.execute_reply": "2023-09-20T07:08:18.821202Z",
     "shell.execute_reply.started": "2023-09-20T07:08:18.815426Z"
    },
    "id": "4fd839cb",
    "tags": []
   },
   "outputs": [
    {
     "data": {
      "text/plain": [
       "0       4\n",
       "1       5\n",
       "2       4\n",
       "3       4\n",
       "4       4\n",
       "       ..\n",
       "9614    4\n",
       "9615    5\n",
       "9616    4\n",
       "9617    4\n",
       "9618    4\n",
       "Name: date, Length: 9619, dtype: int64"
      ]
     },
     "execution_count": 37,
     "metadata": {},
     "output_type": "execute_result"
    }
   ],
   "source": [
    "# Ваш код здесь\n",
    "month = df.date.apply(lambda x: x.month)\n",
    "month"
   ]
  },
  {
   "cell_type": "markdown",
   "id": "4000edd6",
   "metadata": {
    "ExecuteTime": {
     "end_time": "2022-03-13T12:25:21.228094Z",
     "start_time": "2022-03-13T12:25:21.223060Z"
    },
    "id": "4000edd6"
   },
   "source": [
    "3.3. Из переменной `date` с помощью `dt` и метода `month`."
   ]
  },
  {
   "cell_type": "code",
   "execution_count": 38,
   "id": "b4112009",
   "metadata": {
    "ExecuteTime": {
     "end_time": "2022-03-15T22:40:55.768506Z",
     "start_time": "2022-03-15T22:40:55.764567Z"
    },
    "execution": {
     "iopub.execute_input": "2023-09-20T07:08:20.280691Z",
     "iopub.status.busy": "2023-09-20T07:08:20.280367Z",
     "iopub.status.idle": "2023-09-20T07:08:20.286270Z",
     "shell.execute_reply": "2023-09-20T07:08:20.285851Z",
     "shell.execute_reply.started": "2023-09-20T07:08:20.280667Z"
    },
    "id": "b4112009",
    "tags": []
   },
   "outputs": [
    {
     "data": {
      "text/plain": [
       "0       4\n",
       "1       5\n",
       "2       4\n",
       "3       4\n",
       "4       4\n",
       "       ..\n",
       "9614    4\n",
       "9615    5\n",
       "9616    4\n",
       "9617    4\n",
       "9618    4\n",
       "Name: date, Length: 9619, dtype: int64"
      ]
     },
     "execution_count": 38,
     "metadata": {},
     "output_type": "execute_result"
    }
   ],
   "source": [
    "# Ваш код здесь\n",
    "df.date.dt.month"
   ]
  },
  {
   "cell_type": "markdown",
   "id": "4c79c093",
   "metadata": {
    "id": "4c79c093"
   },
   "source": [
    "4. Создайте любым из способов (3.2 или 3.3) признак `month`, обозначающий номер месяца размещения объявления о продаже автомобиля, и распечатайте его."
   ]
  },
  {
   "cell_type": "code",
   "execution_count": 78,
   "id": "a6f217a1",
   "metadata": {
    "ExecuteTime": {
     "end_time": "2022-03-15T22:40:55.808808Z",
     "start_time": "2022-03-15T22:40:55.801804Z"
    },
    "execution": {
     "iopub.execute_input": "2023-09-20T07:25:49.464247Z",
     "iopub.status.busy": "2023-09-20T07:25:49.463972Z",
     "iopub.status.idle": "2023-09-20T07:25:49.471267Z",
     "shell.execute_reply": "2023-09-20T07:25:49.470768Z",
     "shell.execute_reply.started": "2023-09-20T07:25:49.464226Z"
    },
    "id": "a6f217a1",
    "tags": []
   },
   "outputs": [
    {
     "data": {
      "text/plain": [
       "0       4\n",
       "1       5\n",
       "2       4\n",
       "3       4\n",
       "4       4\n",
       "       ..\n",
       "9614    4\n",
       "9615    5\n",
       "9616    4\n",
       "9617    4\n",
       "9618    4\n",
       "Name: date, Length: 9619, dtype: int64"
      ]
     },
     "execution_count": 78,
     "metadata": {},
     "output_type": "execute_result"
    }
   ],
   "source": [
    "# Ваш код здесь\n",
    "month = df['date'].apply(lambda x: x.month)\n",
    "month"
   ]
  },
  {
   "cell_type": "markdown",
   "id": "c855e481",
   "metadata": {
    "id": "c855e481"
   },
   "source": [
    "5. Создайте признак `dayofweek`, обозначающий день недели размещения объявления о продаже автомобиля, и распечатайте его."
   ]
  },
  {
   "cell_type": "code",
   "execution_count": 41,
   "id": "ceda59b0",
   "metadata": {
    "ExecuteTime": {
     "end_time": "2022-03-15T22:40:55.838752Z",
     "start_time": "2022-03-15T22:40:55.833582Z"
    },
    "execution": {
     "iopub.execute_input": "2023-09-20T07:08:31.799873Z",
     "iopub.status.busy": "2023-09-20T07:08:31.799581Z",
     "iopub.status.idle": "2023-09-20T07:08:31.815348Z",
     "shell.execute_reply": "2023-09-20T07:08:31.814970Z",
     "shell.execute_reply.started": "2023-09-20T07:08:31.799850Z"
    },
    "id": "ceda59b0",
    "tags": []
   },
   "outputs": [
    {
     "data": {
      "text/plain": [
       "0        Saturday\n",
       "1          Monday\n",
       "2       Wednesday\n",
       "3        Saturday\n",
       "4        Thursday\n",
       "          ...    \n",
       "9614     Saturday\n",
       "9615       Monday\n",
       "9616     Thursday\n",
       "9617    Wednesday\n",
       "9618     Saturday\n",
       "Name: date, Length: 9619, dtype: object"
      ]
     },
     "execution_count": 41,
     "metadata": {},
     "output_type": "execute_result"
    }
   ],
   "source": [
    "# Ваш код здесь\n",
    "days = ['Monday', 'Tuesday', 'Wednesday', 'Thursday', 'Friday', 'Saturday', 'Sunday']\n",
    "dayofweek = df['date'].apply(lambda x: days[x.weekday()])\n",
    "dayofweek"
   ]
  },
  {
   "cell_type": "markdown",
   "id": "53253b00",
   "metadata": {
    "id": "53253b00"
   },
   "source": [
    "6. Создайте признак `diff_years`, обозначающий количество лет между годом производства автомобиля и годом размещения объявления о продаже автомобиля, и распечатайте его. Дополнительные корректировки не применяйте."
   ]
  },
  {
   "cell_type": "code",
   "execution_count": 72,
   "id": "c5b0ec88",
   "metadata": {
    "ExecuteTime": {
     "end_time": "2022-03-15T22:40:56.791095Z",
     "start_time": "2022-03-15T22:40:56.787550Z"
    },
    "execution": {
     "iopub.execute_input": "2023-09-20T07:23:25.016360Z",
     "iopub.status.busy": "2023-09-20T07:23:25.016075Z",
     "iopub.status.idle": "2023-09-20T07:23:25.035841Z",
     "shell.execute_reply": "2023-09-20T07:23:25.035404Z",
     "shell.execute_reply.started": "2023-09-20T07:23:25.016337Z"
    },
    "id": "c5b0ec88",
    "tags": []
   },
   "outputs": [
    {
     "data": {
      "text/html": [
       "<div>\n",
       "<style scoped>\n",
       "    .dataframe tbody tr th:only-of-type {\n",
       "        vertical-align: middle;\n",
       "    }\n",
       "\n",
       "    .dataframe tbody tr th {\n",
       "        vertical-align: top;\n",
       "    }\n",
       "\n",
       "    .dataframe thead th {\n",
       "        text-align: right;\n",
       "    }\n",
       "</style>\n",
       "<table border=\"1\" class=\"dataframe\">\n",
       "  <thead>\n",
       "    <tr style=\"text-align: right;\">\n",
       "      <th></th>\n",
       "      <th>diff_years</th>\n",
       "    </tr>\n",
       "  </thead>\n",
       "  <tbody>\n",
       "    <tr>\n",
       "      <th>0</th>\n",
       "      <td>1</td>\n",
       "    </tr>\n",
       "    <tr>\n",
       "      <th>1</th>\n",
       "      <td>5</td>\n",
       "    </tr>\n",
       "    <tr>\n",
       "      <th>2</th>\n",
       "      <td>4</td>\n",
       "    </tr>\n",
       "    <tr>\n",
       "      <th>3</th>\n",
       "      <td>8</td>\n",
       "    </tr>\n",
       "    <tr>\n",
       "      <th>4</th>\n",
       "      <td>9</td>\n",
       "    </tr>\n",
       "    <tr>\n",
       "      <th>...</th>\n",
       "      <td>...</td>\n",
       "    </tr>\n",
       "    <tr>\n",
       "      <th>9614</th>\n",
       "      <td>19</td>\n",
       "    </tr>\n",
       "    <tr>\n",
       "      <th>9615</th>\n",
       "      <td>13</td>\n",
       "    </tr>\n",
       "    <tr>\n",
       "      <th>9616</th>\n",
       "      <td>10</td>\n",
       "    </tr>\n",
       "    <tr>\n",
       "      <th>9617</th>\n",
       "      <td>6</td>\n",
       "    </tr>\n",
       "    <tr>\n",
       "      <th>9618</th>\n",
       "      <td>4</td>\n",
       "    </tr>\n",
       "  </tbody>\n",
       "</table>\n",
       "<p>9619 rows × 1 columns</p>\n",
       "</div>"
      ],
      "text/plain": [
       "      diff_years\n",
       "0              1\n",
       "1              5\n",
       "2              4\n",
       "3              8\n",
       "4              9\n",
       "...          ...\n",
       "9614          19\n",
       "9615          13\n",
       "9616          10\n",
       "9617           6\n",
       "9618           4\n",
       "\n",
       "[9619 rows x 1 columns]"
      ]
     },
     "execution_count": 72,
     "metadata": {},
     "output_type": "execute_result"
    }
   ],
   "source": [
    "# Ваш код здесь\n",
    "df.year = pd.to_datetime(df['year'], format='%Y',utc=True)\n",
    "diff_years = (df['date'] - df['year']).dt.days // 365\n",
    "diff_years = diff_years.array.reshape(-1,1)\n",
    "diff_years = pd.DataFrame(diff_years)\n",
    "diff_years.columns = ['diff_years']\n",
    "diff_years"
   ]
  },
  {
   "cell_type": "markdown",
   "id": "d3a54316",
   "metadata": {
    "id": "d3a54316"
   },
   "source": [
    "7. Примените стандартизацию к новым признаками и сохраните результат в новые признаки вида `month_std`."
   ]
  },
  {
   "cell_type": "code",
   "execution_count": 71,
   "id": "8b2c2e19",
   "metadata": {
    "ExecuteTime": {
     "end_time": "2022-03-15T22:40:57.928930Z",
     "start_time": "2022-03-15T22:40:57.925925Z"
    },
    "execution": {
     "iopub.execute_input": "2023-09-20T07:23:22.070798Z",
     "iopub.status.busy": "2023-09-20T07:23:22.070520Z",
     "iopub.status.idle": "2023-09-20T07:23:22.081689Z",
     "shell.execute_reply": "2023-09-20T07:23:22.081287Z",
     "shell.execute_reply.started": "2023-09-20T07:23:22.070766Z"
    },
    "id": "8b2c2e19",
    "tags": []
   },
   "outputs": [
    {
     "data": {
      "text/html": [
       "<div>\n",
       "<style scoped>\n",
       "    .dataframe tbody tr th:only-of-type {\n",
       "        vertical-align: middle;\n",
       "    }\n",
       "\n",
       "    .dataframe tbody tr th {\n",
       "        vertical-align: top;\n",
       "    }\n",
       "\n",
       "    .dataframe thead th {\n",
       "        text-align: right;\n",
       "    }\n",
       "</style>\n",
       "<table border=\"1\" class=\"dataframe\">\n",
       "  <thead>\n",
       "    <tr style=\"text-align: right;\">\n",
       "      <th></th>\n",
       "      <th>diff_years_std</th>\n",
       "    </tr>\n",
       "  </thead>\n",
       "  <tbody>\n",
       "    <tr>\n",
       "      <th>0</th>\n",
       "      <td>-1.322394</td>\n",
       "    </tr>\n",
       "    <tr>\n",
       "      <th>1</th>\n",
       "      <td>-0.695973</td>\n",
       "    </tr>\n",
       "    <tr>\n",
       "      <th>2</th>\n",
       "      <td>-0.852578</td>\n",
       "    </tr>\n",
       "    <tr>\n",
       "      <th>3</th>\n",
       "      <td>-0.226157</td>\n",
       "    </tr>\n",
       "    <tr>\n",
       "      <th>4</th>\n",
       "      <td>-0.069552</td>\n",
       "    </tr>\n",
       "    <tr>\n",
       "      <th>...</th>\n",
       "      <td>...</td>\n",
       "    </tr>\n",
       "    <tr>\n",
       "      <th>9614</th>\n",
       "      <td>1.496501</td>\n",
       "    </tr>\n",
       "    <tr>\n",
       "      <th>9615</th>\n",
       "      <td>0.556869</td>\n",
       "    </tr>\n",
       "    <tr>\n",
       "      <th>9616</th>\n",
       "      <td>0.087054</td>\n",
       "    </tr>\n",
       "    <tr>\n",
       "      <th>9617</th>\n",
       "      <td>-0.539367</td>\n",
       "    </tr>\n",
       "    <tr>\n",
       "      <th>9618</th>\n",
       "      <td>-0.852578</td>\n",
       "    </tr>\n",
       "  </tbody>\n",
       "</table>\n",
       "<p>9619 rows × 1 columns</p>\n",
       "</div>"
      ],
      "text/plain": [
       "      diff_years_std\n",
       "0          -1.322394\n",
       "1          -0.695973\n",
       "2          -0.852578\n",
       "3          -0.226157\n",
       "4          -0.069552\n",
       "...              ...\n",
       "9614        1.496501\n",
       "9615        0.556869\n",
       "9616        0.087054\n",
       "9617       -0.539367\n",
       "9618       -0.852578\n",
       "\n",
       "[9619 rows x 1 columns]"
      ]
     },
     "execution_count": 71,
     "metadata": {},
     "output_type": "execute_result"
    }
   ],
   "source": [
    "# Ваш код здесь\n",
    "std_scaler = StandardScaler()\n",
    "std_scaler\n",
    "std_scaler.fit(diff_years)\n",
    "diff_years_std = std_scaler.fit_transform(diff_years)\n",
    "diff_years_std = pd.DataFrame(diff_years_std)\n",
    "diff_years_std.columns = ['diff_years_std']\n",
    "diff_years_std"
   ]
  },
  {
   "cell_type": "code",
   "execution_count": 84,
   "id": "46770df7-1cbd-4c2b-9391-8b0d33e85eff",
   "metadata": {
    "execution": {
     "iopub.execute_input": "2023-09-20T07:28:46.494258Z",
     "iopub.status.busy": "2023-09-20T07:28:46.493811Z",
     "iopub.status.idle": "2023-09-20T07:28:46.527529Z",
     "shell.execute_reply": "2023-09-20T07:28:46.527034Z",
     "shell.execute_reply.started": "2023-09-20T07:28:46.494237Z"
    },
    "tags": []
   },
   "outputs": [],
   "source": [
    "df = pd.concat([df, diff_years_std], axis=1, join='outer')"
   ]
  },
  {
   "cell_type": "code",
   "execution_count": 73,
   "id": "d699fedf-b43c-4e40-9f58-c309f9c2774a",
   "metadata": {
    "execution": {
     "iopub.execute_input": "2023-09-20T07:24:08.166090Z",
     "iopub.status.busy": "2023-09-20T07:24:08.165681Z",
     "iopub.status.idle": "2023-09-20T07:24:08.193652Z",
     "shell.execute_reply": "2023-09-20T07:24:08.193199Z",
     "shell.execute_reply.started": "2023-09-20T07:24:08.166050Z"
    },
    "tags": []
   },
   "outputs": [
    {
     "data": {
      "text/html": [
       "<div>\n",
       "<style scoped>\n",
       "    .dataframe tbody tr th:only-of-type {\n",
       "        vertical-align: middle;\n",
       "    }\n",
       "\n",
       "    .dataframe tbody tr th {\n",
       "        vertical-align: top;\n",
       "    }\n",
       "\n",
       "    .dataframe thead th {\n",
       "        text-align: right;\n",
       "    }\n",
       "</style>\n",
       "<table border=\"1\" class=\"dataframe\">\n",
       "  <thead>\n",
       "    <tr style=\"text-align: right;\">\n",
       "      <th></th>\n",
       "      <th>dayofweek_std</th>\n",
       "    </tr>\n",
       "  </thead>\n",
       "  <tbody>\n",
       "    <tr>\n",
       "      <th>0</th>\n",
       "      <td>1.120284</td>\n",
       "    </tr>\n",
       "    <tr>\n",
       "      <th>1</th>\n",
       "      <td>-1.374972</td>\n",
       "    </tr>\n",
       "    <tr>\n",
       "      <th>2</th>\n",
       "      <td>-0.376870</td>\n",
       "    </tr>\n",
       "    <tr>\n",
       "      <th>3</th>\n",
       "      <td>1.120284</td>\n",
       "    </tr>\n",
       "    <tr>\n",
       "      <th>4</th>\n",
       "      <td>0.122182</td>\n",
       "    </tr>\n",
       "    <tr>\n",
       "      <th>...</th>\n",
       "      <td>...</td>\n",
       "    </tr>\n",
       "    <tr>\n",
       "      <th>9614</th>\n",
       "      <td>1.120284</td>\n",
       "    </tr>\n",
       "    <tr>\n",
       "      <th>9615</th>\n",
       "      <td>-1.374972</td>\n",
       "    </tr>\n",
       "    <tr>\n",
       "      <th>9616</th>\n",
       "      <td>0.122182</td>\n",
       "    </tr>\n",
       "    <tr>\n",
       "      <th>9617</th>\n",
       "      <td>-0.376870</td>\n",
       "    </tr>\n",
       "    <tr>\n",
       "      <th>9618</th>\n",
       "      <td>1.120284</td>\n",
       "    </tr>\n",
       "  </tbody>\n",
       "</table>\n",
       "<p>9619 rows × 1 columns</p>\n",
       "</div>"
      ],
      "text/plain": [
       "      dayofweek_std\n",
       "0          1.120284\n",
       "1         -1.374972\n",
       "2         -0.376870\n",
       "3          1.120284\n",
       "4          0.122182\n",
       "...             ...\n",
       "9614       1.120284\n",
       "9615      -1.374972\n",
       "9616       0.122182\n",
       "9617      -0.376870\n",
       "9618       1.120284\n",
       "\n",
       "[9619 rows x 1 columns]"
      ]
     },
     "execution_count": 73,
     "metadata": {},
     "output_type": "execute_result"
    }
   ],
   "source": [
    "dayofweeks = df['date'].apply(lambda x: x.weekday())\n",
    "dayofweeks = dayofweeks.array.reshape(-1,1)\n",
    "dayofweeks = pd.DataFrame(dayofweeks)\n",
    "std_scaler = StandardScaler()\n",
    "std_scaler.fit(dayofweeks)\n",
    "dayofweek_std = std_scaler.fit_transform(dayofweeks)\n",
    "dayofweek_std = pd.DataFrame(dayofweek_std)\n",
    "dayofweek_std.columns = ['dayofweek_std']\n",
    "dayofweek_std"
   ]
  },
  {
   "cell_type": "code",
   "execution_count": 85,
   "id": "44ed07f6-7d83-4942-85c1-641c7bb51eb6",
   "metadata": {
    "execution": {
     "iopub.execute_input": "2023-09-20T07:29:02.312427Z",
     "iopub.status.busy": "2023-09-20T07:29:02.312149Z",
     "iopub.status.idle": "2023-09-20T07:29:02.344916Z",
     "shell.execute_reply": "2023-09-20T07:29:02.344443Z",
     "shell.execute_reply.started": "2023-09-20T07:29:02.312404Z"
    }
   },
   "outputs": [],
   "source": [
    "df = pd.concat([df, dayofweek_std], axis=1, join='outer')"
   ]
  },
  {
   "cell_type": "code",
   "execution_count": 79,
   "id": "f7116b3d-4f89-4c30-ab3c-4221b7f2c69f",
   "metadata": {
    "execution": {
     "iopub.execute_input": "2023-09-20T07:25:59.723431Z",
     "iopub.status.busy": "2023-09-20T07:25:59.723157Z",
     "iopub.status.idle": "2023-09-20T07:25:59.733548Z",
     "shell.execute_reply": "2023-09-20T07:25:59.733101Z",
     "shell.execute_reply.started": "2023-09-20T07:25:59.723408Z"
    },
    "tags": []
   },
   "outputs": [
    {
     "data": {
      "text/html": [
       "<div>\n",
       "<style scoped>\n",
       "    .dataframe tbody tr th:only-of-type {\n",
       "        vertical-align: middle;\n",
       "    }\n",
       "\n",
       "    .dataframe tbody tr th {\n",
       "        vertical-align: top;\n",
       "    }\n",
       "\n",
       "    .dataframe thead th {\n",
       "        text-align: right;\n",
       "    }\n",
       "</style>\n",
       "<table border=\"1\" class=\"dataframe\">\n",
       "  <thead>\n",
       "    <tr style=\"text-align: right;\">\n",
       "      <th></th>\n",
       "      <th>month_std</th>\n",
       "    </tr>\n",
       "  </thead>\n",
       "  <tbody>\n",
       "    <tr>\n",
       "      <th>0</th>\n",
       "      <td>-0.615846</td>\n",
       "    </tr>\n",
       "    <tr>\n",
       "      <th>1</th>\n",
       "      <td>1.623784</td>\n",
       "    </tr>\n",
       "    <tr>\n",
       "      <th>2</th>\n",
       "      <td>-0.615846</td>\n",
       "    </tr>\n",
       "    <tr>\n",
       "      <th>3</th>\n",
       "      <td>-0.615846</td>\n",
       "    </tr>\n",
       "    <tr>\n",
       "      <th>4</th>\n",
       "      <td>-0.615846</td>\n",
       "    </tr>\n",
       "    <tr>\n",
       "      <th>...</th>\n",
       "      <td>...</td>\n",
       "    </tr>\n",
       "    <tr>\n",
       "      <th>9614</th>\n",
       "      <td>-0.615846</td>\n",
       "    </tr>\n",
       "    <tr>\n",
       "      <th>9615</th>\n",
       "      <td>1.623784</td>\n",
       "    </tr>\n",
       "    <tr>\n",
       "      <th>9616</th>\n",
       "      <td>-0.615846</td>\n",
       "    </tr>\n",
       "    <tr>\n",
       "      <th>9617</th>\n",
       "      <td>-0.615846</td>\n",
       "    </tr>\n",
       "    <tr>\n",
       "      <th>9618</th>\n",
       "      <td>-0.615846</td>\n",
       "    </tr>\n",
       "  </tbody>\n",
       "</table>\n",
       "<p>9619 rows × 1 columns</p>\n",
       "</div>"
      ],
      "text/plain": [
       "      month_std\n",
       "0     -0.615846\n",
       "1      1.623784\n",
       "2     -0.615846\n",
       "3     -0.615846\n",
       "4     -0.615846\n",
       "...         ...\n",
       "9614  -0.615846\n",
       "9615   1.623784\n",
       "9616  -0.615846\n",
       "9617  -0.615846\n",
       "9618  -0.615846\n",
       "\n",
       "[9619 rows x 1 columns]"
      ]
     },
     "execution_count": 79,
     "metadata": {},
     "output_type": "execute_result"
    }
   ],
   "source": [
    "month = month.array.reshape(-1,1)\n",
    "std_scaler = StandardScaler()\n",
    "std_scaler\n",
    "std_scaler.fit(month)\n",
    "month_std = std_scaler.fit_transform(month)\n",
    "month_std = pd.DataFrame(month_std)\n",
    "month_std.columns = ['month_std']\n",
    "month_std"
   ]
  },
  {
   "cell_type": "code",
   "execution_count": 86,
   "id": "6ea80b72-b815-465e-bec3-d2976e76c0af",
   "metadata": {
    "execution": {
     "iopub.execute_input": "2023-09-20T07:29:16.920665Z",
     "iopub.status.busy": "2023-09-20T07:29:16.920075Z",
     "iopub.status.idle": "2023-09-20T07:29:16.957727Z",
     "shell.execute_reply": "2023-09-20T07:29:16.957184Z",
     "shell.execute_reply.started": "2023-09-20T07:29:16.920627Z"
    }
   },
   "outputs": [],
   "source": [
    "df = pd.concat([df, month_std], axis=1, join='outer')"
   ]
  },
  {
   "cell_type": "markdown",
   "id": "aba80393",
   "metadata": {
    "ExecuteTime": {
     "end_time": "2022-03-13T12:36:22.108423Z",
     "start_time": "2022-03-13T12:36:22.103687Z"
    },
    "id": "aba80393"
   },
   "source": [
    "### Задача 6. Сохранение датафрейма для этапа моделирования\n",
    "\n",
    "1. Удалите колонки, которые были исходными для формирования признаков, а также новые признаки, которые были добавлены с целью обучения.  Сохраните новый датафрейм в переменную `df_prepared`."
   ]
  },
  {
   "cell_type": "code",
   "execution_count": 90,
   "id": "58ab4836",
   "metadata": {
    "ExecuteTime": {
     "end_time": "2022-03-15T22:41:00.072365Z",
     "start_time": "2022-03-15T22:41:00.064841Z"
    },
    "execution": {
     "iopub.execute_input": "2023-09-20T07:34:29.938086Z",
     "iopub.status.busy": "2023-09-20T07:34:29.937823Z",
     "iopub.status.idle": "2023-09-20T07:34:32.363396Z",
     "shell.execute_reply": "2023-09-20T07:34:32.362898Z",
     "shell.execute_reply.started": "2023-09-20T07:34:29.938067Z"
    },
    "id": "58ab4836",
    "tags": []
   },
   "outputs": [
    {
     "name": "stdout",
     "output_type": "stream",
     "text": [
      "Колонка lat_mm не найдена\n",
      "Колонка long_mm не найдена\n",
      "Колонка month не найдена\n",
      "Колонка dayofweek не найдена\n",
      "Колонка diff_years не найдена\n"
     ]
    }
   ],
   "source": [
    "# Допишите код\n",
    "\n",
    "columns_for_drop = ['year', 'url', 'region', 'region_url', 'manufacturer',\n",
    "                    'model', 'fuel', 'odometer', 'title_status', 'transmission',\n",
    "                    'image_url', 'description', 'state', 'lat', 'long', 'posting_date',\n",
    "                    'odometer_km', 'odometer/price', 'region_new', 'region_corrected', 'manufacturer_model',\n",
    "                    'desc_len', 'model_in_desc', 'price_k$', 'age_category', 'model_len', 'model_word_count',\n",
    "                    'short_model', 'lat_mm', 'long_mm', 'date', 'std_scaled_price',\n",
    "                    'month', 'dayofweek', 'diff_years',\n",
    "                    'odometer/price_std']\n",
    "\n",
    "for col in columns_for_drop:\n",
    "    if col in df.columns:\n",
    "        df.drop(columns=col)\n",
    "    else:\n",
    "        print('Колонка', col, 'не найдена')\n"
   ]
  },
  {
   "cell_type": "markdown",
   "id": "f120eaaa",
   "metadata": {
    "id": "f120eaaa"
   },
   "source": [
    "2. Распечатайте оставшийся список колонок и размерность финального датафрейма."
   ]
  },
  {
   "cell_type": "code",
   "execution_count": 93,
   "id": "13fb36c3",
   "metadata": {
    "ExecuteTime": {
     "end_time": "2022-03-15T22:41:03.176389Z",
     "start_time": "2022-03-15T22:41:03.172474Z"
    },
    "execution": {
     "iopub.execute_input": "2023-09-20T07:36:23.414729Z",
     "iopub.status.busy": "2023-09-20T07:36:23.414467Z",
     "iopub.status.idle": "2023-09-20T07:36:23.418181Z",
     "shell.execute_reply": "2023-09-20T07:36:23.417700Z",
     "shell.execute_reply.started": "2023-09-20T07:36:23.414707Z"
    },
    "id": "13fb36c3",
    "tags": []
   },
   "outputs": [
    {
     "name": "stdout",
     "output_type": "stream",
     "text": [
      "Index(['id', 'url', 'region', 'region_url', 'price', 'year', 'manufacturer',\n",
      "       'model', 'fuel', 'odometer',\n",
      "       ...\n",
      "       'long_std', 'year_std', 'odometer/price_std', 'desc_len_std',\n",
      "       'model_in_desc_std', 'model_len_std', 'model_word_count_std',\n",
      "       'diff_years_std', 'dayofweek_std', 'month_std'],\n",
      "      dtype='object', length=1511)\n",
      "14534309\n"
     ]
    }
   ],
   "source": [
    "# Ваш код здесь\n",
    "print(df.columns)\n",
    "print(df.size)"
   ]
  },
  {
   "cell_type": "markdown",
   "id": "b62690ff",
   "metadata": {
    "id": "b62690ff"
   },
   "source": [
    "3. Запишите преобразованный датафрейм в файл `data/vehicles_dataset_prepared.csv`, индекс не сохраняйте."
   ]
  },
  {
   "cell_type": "code",
   "execution_count": 94,
   "id": "955e76dd",
   "metadata": {
    "ExecuteTime": {
     "end_time": "2022-03-15T22:41:08.021538Z",
     "start_time": "2022-03-15T22:41:08.016555Z"
    },
    "execution": {
     "iopub.execute_input": "2023-09-20T07:38:16.053113Z",
     "iopub.status.busy": "2023-09-20T07:38:16.052799Z",
     "iopub.status.idle": "2023-09-20T07:38:24.316693Z",
     "shell.execute_reply": "2023-09-20T07:38:24.316179Z",
     "shell.execute_reply.started": "2023-09-20T07:38:16.053089Z"
    },
    "id": "955e76dd"
   },
   "outputs": [],
   "source": [
    "# Ваш код здесь\n",
    "df.to_csv('vehicles_dataset_prepared.csv', index=False)"
   ]
  },
  {
   "cell_type": "markdown",
   "id": "6e4960b4",
   "metadata": {
    "id": "6e4960b4"
   },
   "source": [
    "## Описание преобразованного датасета:\n",
    "- `id`— идентификатор записи;\n",
    "- `is_manufacturer_name`— признак производителя автомобиля;\n",
    "\n",
    "- `region_*`— регион;\n",
    "- `x0_*`— тип топлива;\n",
    "- `manufacturer_*`— производитель;\n",
    "- `short_model_*`— сокращённая модель автомобиля;\n",
    "- `title_status_*`— статус;\n",
    "- `transmission_*`— коробка передач;\n",
    "- `state_*`— штат;\n",
    "- `age_category_*`— возрастная категория автомобиля;\n",
    "\n",
    "- `std_scaled_odometer`— количество пройденных миль (после стандартизации);\n",
    "- `year_std`— год выпуска (после стандартизации);\n",
    "- `lat_std`— широта (после стандартизации);\n",
    "- `long_std`— долгота (после стандартизации);\n",
    "- `odometer/price_std`— отношение стоимости к пробегу автомобиля (после стандартизации);\n",
    "- `desc_len_std`— количество символов в тексте объявления о продаже (после стандартизации);\n",
    "- `model_in_desc_std`— количество наименований модели автомобиля в тексте объявления о продаже (после стандартизации);\n",
    "- `model_len_std`— длина наименования автомобиля (после стандартизации);\n",
    "- `model_word_count_std`— количество слов в наименовании автомобиля (после стандартизации);\n",
    "- `month_std`— номер месяца размещения объявления о продаже автомобиля (после стандартизации);\n",
    "- `dayofweek_std`— день недели размещения объявления о продаже автомобиля (после стандартизации);\n",
    "- `diff_years_std`— количество лет между годом производства автомобиля и годом размещения объявления о продаже автомобиля (после стандартизации);\n",
    "\n",
    "- `price`— стоимость;\n",
    "- `price_category`– категория цены."
   ]
  }
 ],
 "metadata": {
  "colab": {
   "collapsed_sections": [],
   "provenance": []
  },
  "kernelspec": {
   "display_name": "Python 3.8.8",
   "language": "python",
   "name": "python38"
  },
  "language_info": {
   "codemirror_mode": {
    "name": "ipython",
    "version": 3
   },
   "file_extension": ".py",
   "mimetype": "text/x-python",
   "name": "python",
   "nbconvert_exporter": "python",
   "pygments_lexer": "ipython3",
   "version": "3.8.8"
  },
  "toc": {
   "base_numbering": 1,
   "nav_menu": {},
   "number_sections": true,
   "sideBar": true,
   "skip_h1_title": false,
   "title_cell": "Table of Contents",
   "title_sidebar": "Contents",
   "toc_cell": false,
   "toc_position": {},
   "toc_section_display": true,
   "toc_window_display": false
  }
 },
 "nbformat": 4,
 "nbformat_minor": 5
}
