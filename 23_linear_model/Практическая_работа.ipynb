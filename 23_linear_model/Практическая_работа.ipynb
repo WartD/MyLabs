{
 "cells": [
  {
   "cell_type": "markdown",
   "metadata": {
    "id": "4tc7YC6O8Ev1"
   },
   "source": [
    "## Практическая работа"
   ]
  },
  {
   "cell_type": "markdown",
   "metadata": {
    "id": "vSt7qQM58QEB"
   },
   "source": [
    "В этой практической работе пять обязательных задач.\n",
    "\n",
    "*Обязательные задачи* помогут проверить, что вы действительно усвоили материал модуля. Сдайте их на проверку.\n",
    "\n",
    "Удачи!"
   ]
  },
  {
   "cell_type": "markdown",
   "metadata": {
    "id": "WwzP6BdQ8jbE"
   },
   "source": [
    "Цели практической работы: \n",
    "\n",
    "\n",
    "1.   Потренироваться в обучении модели линейной регрессии.\n",
    "2.   Потренироваться в обучении модели логистической регрессии. \n",
    "3.   Потренироваться в обучении модели многослойного персептрона.\n",
    "\n",
    "\n",
    "\n"
   ]
  },
  {
   "cell_type": "markdown",
   "metadata": {
    "id": "fGPUx8Nh8l0F"
   },
   "source": [
    "Что оценивается:\n",
    "\n",
    "*   Все пункты и критерии приёмки по каждому заданию выполнены.\n",
    "*   Код оформлен и работает корректно.\n",
    "\n",
    "\n",
    "\n"
   ]
  },
  {
   "cell_type": "markdown",
   "metadata": {
    "id": "IP-cDDXr-WD0"
   },
   "source": [
    "Как отправить работу на проверку:\n",
    "\n",
    "Сдайте практическую работу этого модуля через систему контроля версий Git сервиса Skillbox GitLab. После загрузки работы на проверку напишите об этом в личном кабинете своему куратору."
   ]
  },
  {
   "cell_type": "markdown",
   "metadata": {
    "id": "dH3j5hM1qCUw"
   },
   "source": [
    "В этом задании вам нужно построить модель классификации, определяющую категорию цены/цену подержанного автомобиля в зависимости от характеристик транспортного средства. \n",
    "\n",
    "Мы будем использовать датасет из коллекции подержанных автомобилей, выставленных на продажу в Соединенных Штатах. Он уже подготовлен, без выбросов и с категориальными фичами, преобразованными с помощью one hot encoding, и количественными фичами, стандартизированными с помощью скейлеров.\n"
   ]
  },
  {
   "cell_type": "markdown",
   "metadata": {
    "id": "jKgw4zyS8uOJ"
   },
   "source": [
    "### Описание датасета:\n",
    "- `id`: идентификатор записи;\n",
    "- `is_manufacturer_name`: признак производителя автомобиля;\n",
    "\n",
    "- `region_*`: регион;\n",
    "- `x0_*`: тип топлива;\n",
    "- `manufacturer_*`: производитель;\n",
    "- `short_model_*`: сокращённая модель автомобиля;\n",
    "- `title_status_*`: статус;\n",
    "- `transmission_*`: коробка передач;\n",
    "- `state_*`: штат;\n",
    "- `age_category_*`: возрастная категория автомобиля;\n",
    "\n",
    "- `std_scaled_odometer`: количество пройденных миль (после стандартизации);\n",
    "- `year_std`: год выпуска (после стандартизации);\n",
    "- `lat_std`: широта (после стандартизации);\n",
    "- `long_std`: долгота (после стандартизации);\n",
    "- `odometer/price_std`: отношение стоимости к пробегу автомобиля (после стандартизации);\n",
    "- `desc_len_std`: количество символов в тексте объявления о продаже (после стандартизации);\n",
    "- `model_in_desc_std`: количество наименований модели автомобиля в тексте объявления о продаже (после стандартизации);\n",
    "- `model_len_std`: длина наименования автомобиля (после стандартизации);\n",
    "- `model_word_count_std`: количество слов в наименовании автомобиля (после стандартизации);\n",
    "- `month_std`: номер месяца размещения объявления о продаже автомобиля (после стандартизации);\n",
    "- `dayofweek_std`: день недели размещения объявления о продаже автомобиля (после стандартизации);\n",
    "- `diff_years_std`: количество лет между годом производства автомобиля и годом размещения объявления о продаже автомобиля (после стандартизации);\n",
    "\n",
    "- `price`: стоимость;\n",
    "- `price_category`: категория цены."
   ]
  },
  {
   "cell_type": "markdown",
   "metadata": {
    "id": "f8cwJq0l8oyM"
   },
   "source": [
    "## Обязательные задачи"
   ]
  },
  {
   "cell_type": "code",
   "execution_count": 1,
   "metadata": {
    "execution": {
     "iopub.execute_input": "2023-09-25T14:29:08.154513Z",
     "iopub.status.busy": "2023-09-25T14:29:08.154199Z",
     "iopub.status.idle": "2023-09-25T14:29:08.158418Z",
     "shell.execute_reply": "2023-09-25T14:29:08.157965Z",
     "shell.execute_reply.started": "2023-09-25T14:29:08.154490Z"
    },
    "id": "k-oAmtZi9R8U",
    "tags": []
   },
   "outputs": [],
   "source": [
    "import matplotlib.pyplot as plt\n",
    "import numpy as np\n",
    "import pandas as pd\n",
    "from sklearn.model_selection import GridSearchCV\n",
    "from sklearn.linear_model import LogisticRegression, LinearRegression\n",
    "from sklearn.metrics import accuracy_score, confusion_matrix, mean_absolute_error\n",
    "from sklearn.model_selection import train_test_split \n",
    "from sklearn.neural_network import MLPClassifier"
   ]
  },
  {
   "cell_type": "code",
   "execution_count": 2,
   "metadata": {
    "colab": {
     "base_uri": "https://localhost:8080/",
     "height": 299
    },
    "execution": {
     "iopub.execute_input": "2023-09-25T14:29:08.842750Z",
     "iopub.status.busy": "2023-09-25T14:29:08.842450Z",
     "iopub.status.idle": "2023-09-25T14:29:10.127492Z",
     "shell.execute_reply": "2023-09-25T14:29:10.127103Z",
     "shell.execute_reply.started": "2023-09-25T14:29:08.842725Z"
    },
    "id": "a4gi-XV1Jkwc",
    "outputId": "3ba30067-9c82-4b3b-aec1-80b22491ba33",
    "tags": []
   },
   "outputs": [
    {
     "data": {
      "text/html": [
       "<div>\n",
       "<style scoped>\n",
       "    .dataframe tbody tr th:only-of-type {\n",
       "        vertical-align: middle;\n",
       "    }\n",
       "\n",
       "    .dataframe tbody tr th {\n",
       "        vertical-align: top;\n",
       "    }\n",
       "\n",
       "    .dataframe thead th {\n",
       "        text-align: right;\n",
       "    }\n",
       "</style>\n",
       "<table border=\"1\" class=\"dataframe\">\n",
       "  <thead>\n",
       "    <tr style=\"text-align: right;\">\n",
       "      <th></th>\n",
       "      <th>id</th>\n",
       "      <th>price</th>\n",
       "      <th>price_category</th>\n",
       "      <th>is_audi</th>\n",
       "      <th>is_ford</th>\n",
       "      <th>is_chevrolet</th>\n",
       "      <th>is_toyota</th>\n",
       "      <th>x0_diesel</th>\n",
       "      <th>x0_electric</th>\n",
       "      <th>x0_gas</th>\n",
       "      <th>...</th>\n",
       "      <th>long_std</th>\n",
       "      <th>year_std</th>\n",
       "      <th>odometer/price_std</th>\n",
       "      <th>desc_len_std</th>\n",
       "      <th>model_in_desc_std</th>\n",
       "      <th>model_len_std</th>\n",
       "      <th>model_word_count_std</th>\n",
       "      <th>month_std</th>\n",
       "      <th>dayofweek_std</th>\n",
       "      <th>diff_years_std</th>\n",
       "    </tr>\n",
       "  </thead>\n",
       "  <tbody>\n",
       "    <tr>\n",
       "      <th>0</th>\n",
       "      <td>7308295377</td>\n",
       "      <td>54990</td>\n",
       "      <td>high</td>\n",
       "      <td>0</td>\n",
       "      <td>0</td>\n",
       "      <td>0</td>\n",
       "      <td>0</td>\n",
       "      <td>1.0</td>\n",
       "      <td>0.0</td>\n",
       "      <td>0.0</td>\n",
       "      <td>...</td>\n",
       "      <td>0.484245</td>\n",
       "      <td>1.322394</td>\n",
       "      <td>-0.510784</td>\n",
       "      <td>0.632075</td>\n",
       "      <td>-0.155788</td>\n",
       "      <td>1.163032</td>\n",
       "      <td>1.910669</td>\n",
       "      <td>-0.615846</td>\n",
       "      <td>1.120284</td>\n",
       "      <td>-1.322394</td>\n",
       "    </tr>\n",
       "    <tr>\n",
       "      <th>1</th>\n",
       "      <td>7316380095</td>\n",
       "      <td>16942</td>\n",
       "      <td>medium</td>\n",
       "      <td>0</td>\n",
       "      <td>1</td>\n",
       "      <td>0</td>\n",
       "      <td>0</td>\n",
       "      <td>0.0</td>\n",
       "      <td>0.0</td>\n",
       "      <td>0.0</td>\n",
       "      <td>...</td>\n",
       "      <td>1.110800</td>\n",
       "      <td>0.695973</td>\n",
       "      <td>-0.402947</td>\n",
       "      <td>-0.646781</td>\n",
       "      <td>-0.155788</td>\n",
       "      <td>0.932087</td>\n",
       "      <td>1.235799</td>\n",
       "      <td>1.623784</td>\n",
       "      <td>-1.374972</td>\n",
       "      <td>-0.695973</td>\n",
       "    </tr>\n",
       "    <tr>\n",
       "      <th>2</th>\n",
       "      <td>7313733749</td>\n",
       "      <td>35590</td>\n",
       "      <td>high</td>\n",
       "      <td>0</td>\n",
       "      <td>0</td>\n",
       "      <td>0</td>\n",
       "      <td>0</td>\n",
       "      <td>0.0</td>\n",
       "      <td>0.0</td>\n",
       "      <td>1.0</td>\n",
       "      <td>...</td>\n",
       "      <td>0.531185</td>\n",
       "      <td>0.852578</td>\n",
       "      <td>-0.514480</td>\n",
       "      <td>0.560744</td>\n",
       "      <td>-0.155788</td>\n",
       "      <td>0.470197</td>\n",
       "      <td>0.560930</td>\n",
       "      <td>-0.615846</td>\n",
       "      <td>-0.376870</td>\n",
       "      <td>-0.852578</td>\n",
       "    </tr>\n",
       "    <tr>\n",
       "      <th>3</th>\n",
       "      <td>7308210929</td>\n",
       "      <td>14500</td>\n",
       "      <td>medium</td>\n",
       "      <td>0</td>\n",
       "      <td>0</td>\n",
       "      <td>0</td>\n",
       "      <td>1</td>\n",
       "      <td>0.0</td>\n",
       "      <td>0.0</td>\n",
       "      <td>1.0</td>\n",
       "      <td>...</td>\n",
       "      <td>0.853562</td>\n",
       "      <td>0.226157</td>\n",
       "      <td>-0.241883</td>\n",
       "      <td>0.180435</td>\n",
       "      <td>-0.155788</td>\n",
       "      <td>-0.915473</td>\n",
       "      <td>-0.788810</td>\n",
       "      <td>-0.615846</td>\n",
       "      <td>1.120284</td>\n",
       "      <td>-0.226157</td>\n",
       "    </tr>\n",
       "    <tr>\n",
       "      <th>4</th>\n",
       "      <td>7303797340</td>\n",
       "      <td>14590</td>\n",
       "      <td>medium</td>\n",
       "      <td>0</td>\n",
       "      <td>0</td>\n",
       "      <td>0</td>\n",
       "      <td>0</td>\n",
       "      <td>0.0</td>\n",
       "      <td>0.0</td>\n",
       "      <td>0.0</td>\n",
       "      <td>...</td>\n",
       "      <td>0.557607</td>\n",
       "      <td>0.069552</td>\n",
       "      <td>-0.333074</td>\n",
       "      <td>0.766366</td>\n",
       "      <td>-0.155788</td>\n",
       "      <td>1.163032</td>\n",
       "      <td>1.910669</td>\n",
       "      <td>-0.615846</td>\n",
       "      <td>0.122182</td>\n",
       "      <td>-0.069552</td>\n",
       "    </tr>\n",
       "  </tbody>\n",
       "</table>\n",
       "<p>5 rows × 1463 columns</p>\n",
       "</div>"
      ],
      "text/plain": [
       "           id  price price_category  is_audi  is_ford  is_chevrolet  \\\n",
       "0  7308295377  54990           high        0        0             0   \n",
       "1  7316380095  16942         medium        0        1             0   \n",
       "2  7313733749  35590           high        0        0             0   \n",
       "3  7308210929  14500         medium        0        0             0   \n",
       "4  7303797340  14590         medium        0        0             0   \n",
       "\n",
       "   is_toyota  x0_diesel  x0_electric  x0_gas  ...  long_std  year_std  \\\n",
       "0          0        1.0          0.0     0.0  ...  0.484245  1.322394   \n",
       "1          0        0.0          0.0     0.0  ...  1.110800  0.695973   \n",
       "2          0        0.0          0.0     1.0  ...  0.531185  0.852578   \n",
       "3          1        0.0          0.0     1.0  ...  0.853562  0.226157   \n",
       "4          0        0.0          0.0     0.0  ...  0.557607  0.069552   \n",
       "\n",
       "   odometer/price_std  desc_len_std  model_in_desc_std  model_len_std  \\\n",
       "0           -0.510784      0.632075          -0.155788       1.163032   \n",
       "1           -0.402947     -0.646781          -0.155788       0.932087   \n",
       "2           -0.514480      0.560744          -0.155788       0.470197   \n",
       "3           -0.241883      0.180435          -0.155788      -0.915473   \n",
       "4           -0.333074      0.766366          -0.155788       1.163032   \n",
       "\n",
       "   model_word_count_std  month_std  dayofweek_std  diff_years_std  \n",
       "0              1.910669  -0.615846       1.120284       -1.322394  \n",
       "1              1.235799   1.623784      -1.374972       -0.695973  \n",
       "2              0.560930  -0.615846      -0.376870       -0.852578  \n",
       "3             -0.788810  -0.615846       1.120284       -0.226157  \n",
       "4              1.910669  -0.615846       0.122182       -0.069552  \n",
       "\n",
       "[5 rows x 1463 columns]"
      ]
     },
     "execution_count": 2,
     "metadata": {},
     "output_type": "execute_result"
    }
   ],
   "source": [
    "df = pd.read_csv('vehicles_dataset_prepared.csv')\n",
    "df.head()"
   ]
  },
  {
   "cell_type": "markdown",
   "metadata": {
    "id": "VMmY9Xa-JdRj"
   },
   "source": [
    "**Задача 0. Линейная регрессия**\n",
    "\n",
    "Вспомните задачу по предсказанию стоимости поддержанного автомобиля. Попробуем обучить модель линейной регрессии для предсказания цены автомобиля (колонка `price`). Для этого проделайте следующие шаги:\n",
    "\n",
    "- Подготовьте данные: удалите колонки, которые косвенно содержат информацию о целевой переменной (`odometer/price_std`, `price_category`).\n",
    "- Разделите выборку на треин и тест в отношении 70/30.\n",
    "- Обучите модель линейной регрессии с дефолтными параметрами.\n",
    "- Посчитайте значение метрики mae на тестовой выборке для линейной регрессии.\n",
    "- Выведите получившиеся коэффициенты линейной регрессии при каждом параметре обучающей выборки с помощью метода `coef_`. Есть ли коэффициенты, которые равны нулю? Если есть, выведите названия фичей с нулевым коэффициентом\n",
    "- Удалите фичи, коэффициенты которых равны нулю. И переобучите модель. Убедитесь, что значение метрики не изменилось.\n",
    "\n"
   ]
  },
  {
   "cell_type": "code",
   "execution_count": 3,
   "metadata": {
    "execution": {
     "iopub.execute_input": "2023-09-25T14:29:12.661282Z",
     "iopub.status.busy": "2023-09-25T14:29:12.660981Z",
     "iopub.status.idle": "2023-09-25T14:29:42.599660Z",
     "shell.execute_reply": "2023-09-25T14:29:42.598593Z",
     "shell.execute_reply.started": "2023-09-25T14:29:12.661258Z"
    },
    "id": "i1tH2p0nopsf",
    "tags": []
   },
   "outputs": [
    {
     "data": {
      "text/plain": [
       "4600.341115781948"
      ]
     },
     "execution_count": 3,
     "metadata": {},
     "output_type": "execute_result"
    }
   ],
   "source": [
    "# Ваш код здесь\n",
    "df_prepared = df.copy()\n",
    "df_prepared = df_prepared.drop(['price_category', 'odometer/price_std'], axis=1)\n",
    "train,test = train_test_split(df_prepared,test_size = 0.3, random_state=42)\n",
    "lr = LinearRegression()\n",
    "lr.fit(train.drop(['price'], axis=1), train.price)\n",
    "pred = lr.predict(test.drop(['price'], axis=1))\n",
    "mean_absolute_error(test.price, pred)"
   ]
  },
  {
   "cell_type": "code",
   "execution_count": 4,
   "metadata": {
    "execution": {
     "iopub.execute_input": "2023-09-25T14:29:42.691312Z",
     "iopub.status.busy": "2023-09-25T14:29:42.691039Z",
     "iopub.status.idle": "2023-09-25T14:29:42.769566Z",
     "shell.execute_reply": "2023-09-25T14:29:42.769185Z",
     "shell.execute_reply.started": "2023-09-25T14:29:42.691291Z"
    },
    "jupyter": {
     "outputs_hidden": true
    },
    "tags": []
   },
   "outputs": [
    {
     "data": {
      "text/plain": [
       "['id',\n",
       " 'is_audi',\n",
       " 'is_ford',\n",
       " 'is_chevrolet',\n",
       " 'is_toyota',\n",
       " 'x0_diesel',\n",
       " 'x0_electric',\n",
       " 'x0_gas',\n",
       " 'x0_hybrid',\n",
       " 'x0_other',\n",
       " 'std_scaled_odometer',\n",
       " 'short_model_-benz',\n",
       " 'short_model_1',\n",
       " 'short_model_124',\n",
       " 'short_model_128i',\n",
       " 'short_model_135i',\n",
       " 'short_model_1500',\n",
       " 'short_model_163869',\n",
       " 'short_model_1928',\n",
       " 'short_model_1951',\n",
       " 'short_model_1954',\n",
       " 'short_model_1960s',\n",
       " 'short_model_1966',\n",
       " 'short_model_1968',\n",
       " 'short_model_1972',\n",
       " 'short_model_1977',\n",
       " 'short_model_1978',\n",
       " 'short_model_198.5',\n",
       " 'short_model_1988',\n",
       " 'short_model_1994',\n",
       " 'short_model_1999',\n",
       " 'short_model_2',\n",
       " 'short_model_200',\n",
       " 'short_model_2000',\n",
       " 'short_model_2002',\n",
       " 'short_model_2006',\n",
       " 'short_model_2007',\n",
       " 'short_model_2008',\n",
       " 'short_model_2009',\n",
       " 'short_model_2012',\n",
       " 'short_model_2015',\n",
       " 'short_model_2016',\n",
       " 'short_model_2017',\n",
       " 'short_model_2018',\n",
       " 'short_model_210',\n",
       " 'short_model_240',\n",
       " 'short_model_2500',\n",
       " 'short_model_2500hd',\n",
       " 'short_model_280zx',\n",
       " 'short_model_3',\n",
       " 'short_model_3-series',\n",
       " 'short_model_3-window',\n",
       " 'short_model_3.2',\n",
       " 'short_model_300',\n",
       " 'short_model_300-series',\n",
       " 'short_model_300c',\n",
       " 'short_model_300s',\n",
       " 'short_model_300zx',\n",
       " 'short_model_3100',\n",
       " 'short_model_318i',\n",
       " 'short_model_320i',\n",
       " 'short_model_323i',\n",
       " 'short_model_325ci',\n",
       " 'short_model_325i',\n",
       " 'short_model_325is',\n",
       " 'short_model_325xi',\n",
       " 'short_model_328',\n",
       " 'short_model_328ci',\n",
       " 'short_model_328d',\n",
       " 'short_model_328i',\n",
       " 'short_model_328xi',\n",
       " 'short_model_330i',\n",
       " 'short_model_330xi',\n",
       " 'short_model_335i',\n",
       " 'short_model_335xi',\n",
       " 'short_model_350',\n",
       " 'short_model_3500',\n",
       " 'short_model_3500hd',\n",
       " 'short_model_350z',\n",
       " 'short_model_370z',\n",
       " 'short_model_380sl',\n",
       " 'short_model_3i',\n",
       " 'short_model_4',\n",
       " 'short_model_4-runner',\n",
       " 'short_model_428',\n",
       " 'short_model_430i',\n",
       " 'short_model_435i',\n",
       " 'short_model_440xi',\n",
       " 'short_model_4500',\n",
       " 'short_model_4runner',\n",
       " 'short_model_4x4',\n",
       " 'short_model_5',\n",
       " 'short_model_5-series',\n",
       " 'short_model_50',\n",
       " 'short_model_500',\n",
       " 'short_model_500c',\n",
       " 'short_model_500l',\n",
       " 'short_model_500x',\n",
       " 'short_model_525i',\n",
       " 'short_model_528i',\n",
       " 'short_model_528xi',\n",
       " 'short_model_530',\n",
       " 'short_model_530i',\n",
       " 'short_model_535i',\n",
       " 'short_model_535xi',\n",
       " 'short_model_540i',\n",
       " 'short_model_545i',\n",
       " 'short_model_5500',\n",
       " 'short_model_5500hd',\n",
       " 'short_model_550i',\n",
       " 'short_model_5th',\n",
       " 'short_model_6',\n",
       " 'short_model_640',\n",
       " 'short_model_645ci',\n",
       " 'short_model_650i',\n",
       " 'short_model_650xi',\n",
       " 'short_model_7',\n",
       " 'short_model_750',\n",
       " 'short_model_750i',\n",
       " 'short_model_750xi',\n",
       " 'short_model_86',\n",
       " 'short_model_911',\n",
       " 'short_model_914',\n",
       " 'short_model_928',\n",
       " 'short_model_944',\n",
       " 'short_model_ACURA*',\n",
       " 'short_model_ALL',\n",
       " 'short_model_AM',\n",
       " 'short_model_AMC',\n",
       " 'short_model_ASC',\n",
       " 'short_model_Acuarea',\n",
       " 'short_model_American',\n",
       " 'short_model_BUY',\n",
       " 'short_model_Bentley',\n",
       " 'short_model_Blue',\n",
       " 'short_model_Buicks',\n",
       " 'short_model_C',\n",
       " 'short_model_CHEVORLET',\n",
       " 'short_model_CLICK',\n",
       " 'short_model_Champion',\n",
       " 'short_model_Chevey',\n",
       " 'short_model_Chevorlet',\n",
       " 'short_model_Comanche',\n",
       " 'short_model_Comet',\n",
       " 'short_model_D7FH173552',\n",
       " 'short_model_DODGE1500',\n",
       " 'short_model_Diahatsu',\n",
       " 'short_model_E46',\n",
       " 'short_model_EASY',\n",
       " 'short_model_Eagle',\n",
       " 'short_model_Emergency',\n",
       " 'short_model_F-250',\n",
       " 'short_model_F250',\n",
       " 'short_model_FORD*',\n",
       " 'short_model_FORD/RANGER',\n",
       " 'short_model_FREIGHTLINER',\n",
       " 'short_model_FRRV',\n",
       " 'short_model_Flexible',\n",
       " 'short_model_FordE350',\n",
       " 'short_model_Freightliner',\n",
       " 'short_model_Frtlner',\n",
       " 'short_model_GCM',\n",
       " 'short_model_GEHL',\n",
       " 'short_model_GMC,',\n",
       " 'short_model_GMX',\n",
       " 'short_model_GRAND',\n",
       " 'short_model_GULF',\n",
       " 'short_model_Genesis',\n",
       " 'short_model_Gx',\n",
       " 'short_model_HINO',\n",
       " 'short_model_HUMMER',\n",
       " 'short_model_Hino',\n",
       " 'short_model_Hobda',\n",
       " 'short_model_Hot',\n",
       " 'short_model_Hummer',\n",
       " 'short_model_IC',\n",
       " 'short_model_INTERNATIONAL',\n",
       " 'short_model_International',\n",
       " 'short_model_Isizu',\n",
       " 'short_model_Isuzu',\n",
       " 'short_model_JM1BK32F871604924',\n",
       " 'short_model_Janesville',\n",
       " 'short_model_Jauguar',\n",
       " 'short_model_Jayco',\n",
       " 'short_model_Kaiser',\n",
       " 'short_model_Lotus',\n",
       " 'short_model_MASERATI',\n",
       " 'short_model_MERCUTY',\n",
       " 'short_model_MERDECES',\n",
       " 'short_model_MGB',\n",
       " 'short_model_MITUSBISHI',\n",
       " 'short_model_MV-1',\n",
       " 'short_model_Maserati',\n",
       " 'short_model_Minin',\n",
       " 'short_model_Nascar',\n",
       " 'short_model_OLDSMOBILE',\n",
       " 'short_model_PLYMOUTH',\n",
       " 'short_model_PROGRAMS',\n",
       " 'short_model_Peterbilt',\n",
       " 'short_model_Pierce',\n",
       " 'short_model_Plymouth',\n",
       " 'short_model_QX',\n",
       " 'short_model_S60',\n",
       " 'short_model_SCION',\n",
       " 'short_model_SL',\n",
       " 'short_model_Saab',\n",
       " 'short_model_Scion',\n",
       " 'short_model_Sea',\n",
       " 'short_model_Sterling',\n",
       " 'short_model_Studebaker',\n",
       " 'short_model_Suzuki',\n",
       " 'short_model_THOMAS',\n",
       " 'short_model_Thomas',\n",
       " 'short_model_Town',\n",
       " 'short_model_Triumph',\n",
       " 'short_model_Voltswagon',\n",
       " 'short_model_Xx',\n",
       " 'short_model_a-class',\n",
       " 'short_model_a3',\n",
       " 'short_model_a3,',\n",
       " 'short_model_a4',\n",
       " 'short_model_a5',\n",
       " 'short_model_a6',\n",
       " 'short_model_a7',\n",
       " 'short_model_a8',\n",
       " 'short_model_acadia',\n",
       " 'short_model_accent',\n",
       " 'short_model_accord',\n",
       " 'short_model_all',\n",
       " 'short_model_allante',\n",
       " 'short_model_allroad',\n",
       " 'short_model_altima',\n",
       " 'short_model_am',\n",
       " 'short_model_amc',\n",
       " 'short_model_arcadia',\n",
       " 'short_model_armada',\n",
       " 'short_model_arteon',\n",
       " 'short_model_ascent',\n",
       " 'short_model_aspen',\n",
       " 'short_model_astra',\n",
       " 'short_model_astro',\n",
       " 'short_model_atlas',\n",
       " 'short_model_ats',\n",
       " 'short_model_aura',\n",
       " 'short_model_autobiography',\n",
       " 'short_model_avalanche',\n",
       " 'short_model_avalon',\n",
       " 'short_model_avanger',\n",
       " 'short_model_avenger',\n",
       " 'short_model_aveo',\n",
       " 'short_model_aviator',\n",
       " 'short_model_azera',\n",
       " 'short_model_aztek',\n",
       " 'short_model_b-class',\n",
       " 'short_model_b-series',\n",
       " 'short_model_b2200',\n",
       " 'short_model_b2300',\n",
       " 'short_model_b2600i',\n",
       " 'short_model_baja',\n",
       " 'short_model_beetle',\n",
       " 'short_model_bel',\n",
       " 'short_model_belair',\n",
       " 'short_model_benz',\n",
       " 'short_model_blackwood',\n",
       " 'short_model_blazer',\n",
       " 'short_model_blue',\n",
       " 'short_model_bolt',\n",
       " 'short_model_bonanza',\n",
       " 'short_model_bonneville',\n",
       " 'short_model_boxster',\n",
       " 'short_model_bronco',\n",
       " 'short_model_brz',\n",
       " 'short_model_bug',\n",
       " 'short_model_bus',\n",
       " 'short_model_c',\n",
       " 'short_model_c-10',\n",
       " 'short_model_c-7500',\n",
       " 'short_model_c-class',\n",
       " 'short_model_c-hr',\n",
       " 'short_model_c-max',\n",
       " 'short_model_c/k',\n",
       " 'short_model_c10',\n",
       " 'short_model_c250',\n",
       " 'short_model_c280',\n",
       " 'short_model_c30',\n",
       " 'short_model_c300',\n",
       " 'short_model_c4500',\n",
       " 'short_model_c5500',\n",
       " 'short_model_c60',\n",
       " 'short_model_c6500',\n",
       " 'short_model_c70',\n",
       " 'short_model_c8500',\n",
       " 'short_model_cabellero',\n",
       " 'short_model_cabrio',\n",
       " 'short_model_caddilac',\n",
       " 'short_model_cadenza',\n",
       " 'short_model_caliber',\n",
       " 'short_model_camaro',\n",
       " 'short_model_camary',\n",
       " 'short_model_camero',\n",
       " 'short_model_camry',\n",
       " 'short_model_canyon',\n",
       " 'short_model_capri',\n",
       " 'short_model_caprice',\n",
       " 'short_model_captiva',\n",
       " 'short_model_caravan',\n",
       " 'short_model_caravan/grand',\n",
       " 'short_model_cargo',\n",
       " 'short_model_cascada',\n",
       " 'short_model_cavalier',\n",
       " 'short_model_cayenne',\n",
       " 'short_model_cayman',\n",
       " 'short_model_cc',\n",
       " 'short_model_cc300',\n",
       " 'short_model_cc4500',\n",
       " 'short_model_century',\n",
       " 'short_model_certified',\n",
       " 'short_model_challenger',\n",
       " 'short_model_charger',\n",
       " 'short_model_cherokee',\n",
       " 'short_model_chevelle',\n",
       " 'short_model_chevorlet',\n",
       " 'short_model_chryler',\n",
       " 'short_model_chysler',\n",
       " 'short_model_city',\n",
       " 'short_model_civic',\n",
       " 'short_model_cj-5',\n",
       " 'short_model_cj2a',\n",
       " 'short_model_cj5',\n",
       " 'short_model_cj7',\n",
       " 'short_model_cj8',\n",
       " 'short_model_cl-class',\n",
       " 'short_model_cla',\n",
       " 'short_model_cla-class',\n",
       " 'short_model_clarity',\n",
       " 'short_model_classic',\n",
       " 'short_model_classuc',\n",
       " 'short_model_clk',\n",
       " 'short_model_clk-class',\n",
       " 'short_model_clk350',\n",
       " 'short_model_cls-class',\n",
       " 'short_model_cls550',\n",
       " 'short_model_clubman',\n",
       " 'short_model_cmax',\n",
       " 'short_model_cobalt',\n",
       " 'short_model_colbalt',\n",
       " 'short_model_colorado',\n",
       " 'short_model_comet',\n",
       " 'short_model_commander',\n",
       " 'short_model_compass',\n",
       " 'short_model_concorde',\n",
       " 'short_model_conquest',\n",
       " 'short_model_continental',\n",
       " 'short_model_convertible',\n",
       " 'short_model_cooper',\n",
       " 'short_model_corolla',\n",
       " 'short_model_corsair',\n",
       " 'short_model_corvette',\n",
       " 'short_model_cougar',\n",
       " 'short_model_country',\n",
       " 'short_model_countryman',\n",
       " 'short_model_coupe',\n",
       " 'short_model_cr-v',\n",
       " 'short_model_crew',\n",
       " 'short_model_crossfire',\n",
       " 'short_model_crosstour',\n",
       " 'short_model_crosstrek',\n",
       " 'short_model_crown',\n",
       " 'short_model_cruze',\n",
       " 'short_model_crv',\n",
       " 'short_model_crz',\n",
       " 'short_model_ct',\n",
       " 'short_model_ct4',\n",
       " 'short_model_ct5',\n",
       " 'short_model_ct6',\n",
       " 'short_model_cts',\n",
       " 'short_model_cts-v',\n",
       " 'short_model_cts4',\n",
       " 'short_model_cube',\n",
       " 'short_model_cvr',\n",
       " 'short_model_cx-3',\n",
       " 'short_model_cx-5',\n",
       " 'short_model_cx-7',\n",
       " 'short_model_cx-9',\n",
       " 'short_model_cx7',\n",
       " 'short_model_cx9',\n",
       " 'short_model_d50',\n",
       " 'short_model_dakota',\n",
       " 'short_model_dart',\n",
       " 'short_model_davidson',\n",
       " 'short_model_dealer*',\n",
       " 'short_model_defender',\n",
       " 'short_model_deisel',\n",
       " 'short_model_deluxe',\n",
       " 'short_model_denali',\n",
       " 'short_model_deville',\n",
       " 'short_model_diesel',\n",
       " 'short_model_discovery',\n",
       " 'short_model_dts',\n",
       " 'short_model_dump',\n",
       " 'short_model_duramax',\n",
       " 'short_model_durango',\n",
       " 'short_model_durangon',\n",
       " 'short_model_e',\n",
       " 'short_model_e-150',\n",
       " 'short_model_e-250',\n",
       " 'short_model_e-350',\n",
       " 'short_model_e-450',\n",
       " 'short_model_e-class',\n",
       " 'short_model_e-golf',\n",
       " 'short_model_e-pace',\n",
       " 'short_model_e-series',\n",
       " 'short_model_e150',\n",
       " 'short_model_e250',\n",
       " 'short_model_e320',\n",
       " 'short_model_e350',\n",
       " 'short_model_e450',\n",
       " 'short_model_e46',\n",
       " 'short_model_e500',\n",
       " 'short_model_echo',\n",
       " 'short_model_eclipse',\n",
       " 'short_model_econoline',\n",
       " 'short_model_ecosport',\n",
       " 'short_model_edge',\n",
       " 'short_model_el',\n",
       " 'short_model_elantra',\n",
       " 'short_model_elcamino',\n",
       " 'short_model_eldorado',\n",
       " 'short_model_element',\n",
       " 'short_model_enclave',\n",
       " 'short_model_encore',\n",
       " 'short_model_endeavor',\n",
       " 'short_model_envision',\n",
       " 'short_model_envoy',\n",
       " 'short_model_eos',\n",
       " 'short_model_eqinox',\n",
       " 'short_model_equinox',\n",
       " 'short_model_es',\n",
       " 'short_model_es300',\n",
       " 'short_model_es330',\n",
       " 'short_model_es350',\n",
       " 'short_model_escalade',\n",
       " 'short_model_escape',\n",
       " 'short_model_escape-se,',\n",
       " 'short_model_escort',\n",
       " 'short_model_eurovan',\n",
       " 'short_model_evoque',\n",
       " 'short_model_excursion',\n",
       " 'short_model_expedition',\n",
       " 'short_model_explorer',\n",
       " 'short_model_express',\n",
       " 'short_model_f',\n",
       " 'short_model_f-100',\n",
       " 'short_model_f-150',\n",
       " 'short_model_f-250',\n",
       " 'short_model_f-250sd',\n",
       " 'short_model_f-350',\n",
       " 'short_model_f-350sd',\n",
       " 'short_model_f-450',\n",
       " 'short_model_f-450sd',\n",
       " 'short_model_f-550',\n",
       " 'short_model_f-650',\n",
       " 'short_model_f-750',\n",
       " 'short_model_f-pace',\n",
       " 'short_model_f-type',\n",
       " 'short_model_f1',\n",
       " 'short_model_f100',\n",
       " 'short_model_f150',\n",
       " 'short_model_f250',\n",
       " 'short_model_f350',\n",
       " 'short_model_f450',\n",
       " 'short_model_f450sd',\n",
       " 'short_model_f50',\n",
       " 'short_model_f550',\n",
       " 'short_model_f600',\n",
       " 'short_model_f650',\n",
       " 'short_model_f700',\n",
       " 'short_model_f750',\n",
       " 'short_model_falcon',\n",
       " 'short_model_fe',\n",
       " 'short_model_fiero',\n",
       " 'short_model_fiesta',\n",
       " 'short_model_firebird',\n",
       " 'short_model_fit',\n",
       " 'short_model_five',\n",
       " 'short_model_fj',\n",
       " 'short_model_fj40',\n",
       " 'short_model_fleetmaster',\n",
       " 'short_model_fleetwood',\n",
       " 'short_model_flex',\n",
       " 'short_model_focus',\n",
       " 'short_model_fords',\n",
       " 'short_model_forester',\n",
       " 'short_model_forte',\n",
       " 'short_model_forte5',\n",
       " 'short_model_foxbody',\n",
       " 'short_model_freestar',\n",
       " 'short_model_freestyle',\n",
       " 'short_model_freightliner',\n",
       " 'short_model_frontier',\n",
       " 'short_model_fusion',\n",
       " 'short_model_fuso',\n",
       " 'short_model_fx35',\n",
       " 'short_model_fx45',\n",
       " 'short_model_g',\n",
       " 'short_model_g-class',\n",
       " 'short_model_g.',\n",
       " 'short_model_g20',\n",
       " 'short_model_g30',\n",
       " 'short_model_g35',\n",
       " 'short_model_g35x',\n",
       " 'short_model_g37',\n",
       " 'short_model_g37s',\n",
       " 'short_model_g37x',\n",
       " 'short_model_g4500',\n",
       " 'short_model_g5',\n",
       " 'short_model_g6',\n",
       " 'short_model_g8',\n",
       " 'short_model_galant',\n",
       " 'short_model_genesis',\n",
       " 'short_model_ghia',\n",
       " 'short_model_gl',\n",
       " 'short_model_gl-class',\n",
       " 'short_model_gl450',\n",
       " 'short_model_gla',\n",
       " 'short_model_gla-class',\n",
       " 'short_model_gladiator',\n",
       " 'short_model_glc',\n",
       " 'short_model_glc-class',\n",
       " 'short_model_gle',\n",
       " 'short_model_gle-class',\n",
       " 'short_model_glk',\n",
       " 'short_model_glk-class',\n",
       " 'short_model_glk350',\n",
       " 'short_model_gls',\n",
       " 'short_model_gmc/chev',\n",
       " 'short_model_gmce',\n",
       " 'short_model_gmt-400',\n",
       " 'short_model_golf',\n",
       " 'short_model_gr',\n",
       " 'short_model_grand',\n",
       " 'short_model_grandville',\n",
       " 'short_model_grumman',\n",
       " 'short_model_gs',\n",
       " 'short_model_gs350',\n",
       " 'short_model_gs430',\n",
       " 'short_model_gt',\n",
       " 'short_model_gt-r',\n",
       " 'short_model_gti',\n",
       " 'short_model_gto',\n",
       " 'short_model_gx',\n",
       " 'short_model_gx460',\n",
       " 'short_model_gx470',\n",
       " 'short_model_hardbody',\n",
       " 'short_model_hardtop',\n",
       " 'short_model_hearse',\n",
       " 'short_model_hhr',\n",
       " 'short_model_hiace',\n",
       " 'short_model_high',\n",
       " 'short_model_highlander',\n",
       " 'short_model_hr-v',\n",
       " 'short_model_hse',\n",
       " 'short_model_hummer',\n",
       " 'short_model_hyndai',\n",
       " 'short_model_i-miev',\n",
       " 'short_model_i3',\n",
       " 'short_model_i30',\n",
       " 'short_model_i35',\n",
       " 'short_model_ilx',\n",
       " 'short_model_impala',\n",
       " 'short_model_impreza',\n",
       " 'short_model_insight',\n",
       " 'short_model_international',\n",
       " 'short_model_ion',\n",
       " 'short_model_ioniq',\n",
       " 'short_model_is',\n",
       " 'short_model_is250',\n",
       " 'short_model_is300',\n",
       " 'short_model_isf',\n",
       " 'short_model_isuzu',\n",
       " 'short_model_jeepster',\n",
       " 'short_model_jetta',\n",
       " 'short_model_jimmy',\n",
       " 'short_model_jouney',\n",
       " 'short_model_journey',\n",
       " 'short_model_juke',\n",
       " 'short_model_jx35',\n",
       " 'short_model_k10',\n",
       " 'short_model_k20',\n",
       " 'short_model_k30',\n",
       " 'short_model_k5',\n",
       " 'short_model_k900',\n",
       " 'short_model_kicks',\n",
       " 'short_model_kodiak',\n",
       " 'short_model_l',\n",
       " 'short_model_l300',\n",
       " 'short_model_lacrosse',\n",
       " 'short_model_lancer',\n",
       " 'short_model_land',\n",
       " 'short_model_landcruiser',\n",
       " 'short_model_leaf',\n",
       " 'short_model_legacy',\n",
       " 'short_model_legend',\n",
       " 'short_model_lemans',\n",
       " 'short_model_lesabre',\n",
       " 'short_model_liberty',\n",
       " 'short_model_lifted',\n",
       " 'short_model_lightning',\n",
       " 'short_model_limousine',\n",
       " 'short_model_long',\n",
       " 'short_model_lr2',\n",
       " 'short_model_lr3',\n",
       " 'short_model_lr4',\n",
       " 'short_model_ls',\n",
       " 'short_model_ltd',\n",
       " 'short_model_lucerne',\n",
       " 'short_model_lx',\n",
       " 'short_model_lx450',\n",
       " 'short_model_m',\n",
       " 'short_model_m-class',\n",
       " 'short_model_m3',\n",
       " 'short_model_m35',\n",
       " 'short_model_m35s',\n",
       " 'short_model_m5',\n",
       " 'short_model_macan',\n",
       " 'short_model_magnum',\n",
       " 'short_model_malibu',\n",
       " 'short_model_mallinia',\n",
       " 'short_model_marineer,premier',\n",
       " 'short_model_mariner',\n",
       " 'short_model_mark',\n",
       " 'short_model_maserati',\n",
       " 'short_model_matrix',\n",
       " 'short_model_maxima',\n",
       " 'short_model_maximum',\n",
       " 'short_model_mazda2',\n",
       " 'short_model_mazda3',\n",
       " 'short_model_mazda5',\n",
       " 'short_model_mazda6',\n",
       " 'short_model_mazda6i',\n",
       " 'short_model_md-x',\n",
       " 'short_model_mdx',\n",
       " 'short_model_mercades',\n",
       " 'short_model_mercedes-amg',\n",
       " 'short_model_metris',\n",
       " 'short_model_mg',\n",
       " 'short_model_miata',\n",
       " 'short_model_milan',\n",
       " 'short_model_mirage',\n",
       " 'short_model_mkc',\n",
       " 'short_model_mks',\n",
       " 'short_model_mkt',\n",
       " 'short_model_mkx',\n",
       " 'short_model_mkz',\n",
       " 'short_model_ml',\n",
       " 'short_model_ml350',\n",
       " 'short_model_ml500',\n",
       " 'short_model_model',\n",
       " 'short_model_monte',\n",
       " 'short_model_montero',\n",
       " 'short_model_mountaineer',\n",
       " 'short_model_mpv',\n",
       " 'short_model_mr2',\n",
       " 'short_model_murano',\n",
       " 'short_model_mustang',\n",
       " 'short_model_mx-5',\n",
       " 'short_model_nautilus',\n",
       " 'short_model_navigator',\n",
       " 'short_model_neon',\n",
       " 'short_model_new',\n",
       " 'short_model_newport',\n",
       " 'short_model_niro',\n",
       " 'short_model_nitro',\n",
       " 'short_model_nova',\n",
       " 'short_model_nv',\n",
       " 'short_model_nv1500',\n",
       " 'short_model_nv200',\n",
       " 'short_model_nv2500',\n",
       " 'short_model_nv2500hd',\n",
       " 'short_model_nx',\n",
       " 'short_model_nx300',\n",
       " 'short_model_oddyssey',\n",
       " 'short_model_odyssey',\n",
       " 'short_model_oldsmobile',\n",
       " 'short_model_optima',\n",
       " 'short_model_optimia',\n",
       " 'short_model_other',\n",
       " 'short_model_outback',\n",
       " 'short_model_outlander',\n",
       " 'short_model_outlook',\n",
       " 'short_model_paceman',\n",
       " 'short_model_pacifica',\n",
       " 'short_model_panamera',\n",
       " 'short_model_panel',\n",
       " 'short_model_park',\n",
       " 'short_model_passat',\n",
       " 'short_model_passport',\n",
       " 'short_model_pathfinder',\n",
       " 'short_model_patriot',\n",
       " 'short_model_phaeton',\n",
       " 'short_model_pick',\n",
       " 'short_model_pickup',\n",
       " 'short_model_pilot',\n",
       " 'short_model_plymouth',\n",
       " 'short_model_pontaic',\n",
       " 'short_model_prelude',\n",
       " 'short_model_prius',\n",
       " 'short_model_prizm',\n",
       " 'short_model_promaster',\n",
       " 'short_model_protege',\n",
       " 'short_model_pt',\n",
       " 'short_model_putback',\n",
       " 'short_model_q3',\n",
       " 'short_model_q5',\n",
       " 'short_model_q50',\n",
       " 'short_model_q60',\n",
       " 'short_model_q7',\n",
       " 'short_model_q70',\n",
       " 'short_model_quattro',\n",
       " 'short_model_quest',\n",
       " 'short_model_qx50',\n",
       " 'short_model_qx56',\n",
       " 'short_model_qx60',\n",
       " 'short_model_qx70',\n",
       " 'short_model_qx80',\n",
       " 'short_model_r-class',\n",
       " 'short_model_r32',\n",
       " 'short_model_rabbit',\n",
       " 'short_model_rainier',\n",
       " 'short_model_ram1500',\n",
       " 'short_model_ram2500',\n",
       " 'short_model_ramcharger',\n",
       " 'short_model_range',\n",
       " 'short_model_ranger',\n",
       " 'short_model_rat',\n",
       " 'short_model_rav',\n",
       " 'short_model_rav4',\n",
       " 'short_model_rc',\n",
       " 'short_model_rdx',\n",
       " 'short_model_reatta',\n",
       " 'short_model_rebel',\n",
       " 'short_model_regal',\n",
       " 'short_model_rendezvous',\n",
       " 'short_model_renegade',\n",
       " 'short_model_replica',\n",
       " 'short_model_ridgeline',\n",
       " 'short_model_rio',\n",
       " 'short_model_rivera',\n",
       " 'short_model_riviera',\n",
       " 'short_model_rl',\n",
       " 'short_model_rlx',\n",
       " 'short_model_roadmaster',\n",
       " 'short_model_roadster',\n",
       " 'short_model_rogue',\n",
       " 'short_model_romeo',\n",
       " 'short_model_rondo',\n",
       " 'short_model_rouge',\n",
       " 'short_model_routan',\n",
       " 'short_model_rs',\n",
       " 'short_model_rsx',\n",
       " 'short_model_rx',\n",
       " 'short_model_rx-8',\n",
       " 'short_model_rx300',\n",
       " 'short_model_rx330',\n",
       " 'short_model_rx350',\n",
       " 'short_model_rx400h',\n",
       " 'short_model_rx7',\n",
       " 'short_model_rx8',\n",
       " 'short_model_s',\n",
       " 'short_model_s-10',\n",
       " 'short_model_s-class',\n",
       " 'short_model_s/w',\n",
       " 'short_model_s10',\n",
       " 'short_model_s2000',\n",
       " 'short_model_s3',\n",
       " 'short_model_s320',\n",
       " 'short_model_s4',\n",
       " 'short_model_s40',\n",
       " 'short_model_s430',\n",
       " 'short_model_s5',\n",
       " 'short_model_s500',\n",
       " 'short_model_s6',\n",
       " 'short_model_s60',\n",
       " 'short_model_s7',\n",
       " 'short_model_s70',\n",
       " 'short_model_s8',\n",
       " 'short_model_s90',\n",
       " 'short_model_saab',\n",
       " 'short_model_sable',\n",
       " 'short_model_santa',\n",
       " 'short_model_sante',\n",
       " 'short_model_savana',\n",
       " 'short_model_sc',\n",
       " 'short_model_sc2',\n",
       " 'short_model_sc300',\n",
       " 'short_model_school',\n",
       " 'short_model_scion',\n",
       " 'short_model_sebring',\n",
       " 'short_model_sedan',\n",
       " 'short_model_sedona',\n",
       " 'short_model_seirra',\n",
       " 'short_model_sentra',\n",
       " 'short_model_sequioa',\n",
       " 'short_model_sequoia',\n",
       " 'short_model_seville',\n",
       " 'short_model_shelby',\n",
       " 'short_model_sienna',\n",
       " 'short_model_sierra',\n",
       " 'short_model_sierra1500',\n",
       " 'short_model_silverado',\n",
       " 'short_model_sky',\n",
       " 'short_model_skylark',\n",
       " 'short_model_sl-class',\n",
       " 'short_model_sl2',\n",
       " 'short_model_sl500',\n",
       " 'short_model_sl55',\n",
       " 'short_model_sl550',\n",
       " 'short_model_slc',\n",
       " 'short_model_sle',\n",
       " 'short_model_slk',\n",
       " 'short_model_slk-class',\n",
       " 'short_model_slt',\n",
       " 'short_model_smart',\n",
       " 'short_model_solara',\n",
       " 'short_model_solstice',\n",
       " 'short_model_sonata',\n",
       " 'short_model_sonic',\n",
       " 'short_model_sonoma',\n",
       " 'short_model_sorento',\n",
       " 'short_model_sorrento',\n",
       " 'short_model_soul',\n",
       " 'short_model_soul+',\n",
       " 'short_model_spark',\n",
       " 'short_model_spectra',\n",
       " 'short_model_sport',\n",
       " 'short_model_sportage',\n",
       " 'short_model_sprinter',\n",
       " 'short_model_srx',\n",
       " 'short_model_srx-v6',\n",
       " 'short_model_srx4',\n",
       " 'short_model_srx~awesome',\n",
       " 'short_model_ss',\n",
       " 'short_model_ssr',\n",
       " 'short_model_starcraft',\n",
       " 'short_model_step-van',\n",
       " 'short_model_stinger',\n",
       " 'short_model_stratus',\n",
       " 'short_model_sts',\n",
       " 'short_model_studebaker',\n",
       " 'short_model_suburban',\n",
       " 'short_model_super',\n",
       " 'short_model_supra',\n",
       " 'short_model_suv',\n",
       " 'short_model_suzuki',\n",
       " 'short_model_svx',\n",
       " 'short_model_t',\n",
       " 'short_model_t-350',\n",
       " 'short_model_t-bucket',\n",
       " 'short_model_tacoma',\n",
       " 'short_model_tahoe',\n",
       " 'short_model_tarsus',\n",
       " 'short_model_taurus',\n",
       " 'short_model_tc5500',\n",
       " 'short_model_telluride',\n",
       " 'short_model_tercel',\n",
       " 'short_model_terrain',\n",
       " 'short_model_thing',\n",
       " 'short_model_thomas',\n",
       " 'short_model_thrift',\n",
       " 'short_model_thunderbird',\n",
       " 'short_model_tiguan',\n",
       " 'short_model_titan',\n",
       " 'short_model_tl',\n",
       " 'short_model_tlx',\n",
       " 'short_model_torrent',\n",
       " 'short_model_touareg',\n",
       " 'short_model_town',\n",
       " 'short_model_tracker',\n",
       " 'short_model_tractor',\n",
       " 'short_model_trailblazer',\n",
       " 'short_model_trans',\n",
       " 'short_model_transit',\n",
       " 'short_model_traverse',\n",
       " 'short_model_trax',\n",
       " 'short_model_tribeca',\n",
       " 'short_model_tribute',\n",
       " 'short_model_triumph',\n",
       " 'short_model_truck',\n",
       " 'short_model_tsx',\n",
       " 'short_model_tt',\n",
       " 'short_model_tucson',\n",
       " 'short_model_tudor',\n",
       " 'short_model_tundra',\n",
       " 'short_model_uplander',\n",
       " 'short_model_utility',\n",
       " 'short_model_ux',\n",
       " 'short_model_v50',\n",
       " 'short_model_v6',\n",
       " 'short_model_v60',\n",
       " 'short_model_v90',\n",
       " 'short_model_van',\n",
       " 'short_model_vanagon',\n",
       " 'short_model_vandura',\n",
       " 'short_model_velar',\n",
       " 'short_model_veloster',\n",
       " 'short_model_venture',\n",
       " 'short_model_venza',\n",
       " 'short_model_veracruz',\n",
       " 'short_model_verano',\n",
       " 'short_model_versa',\n",
       " 'short_model_vibe',\n",
       " 'short_model_villager',\n",
       " 'short_model_vnl',\n",
       " 'short_model_volt',\n",
       " 'short_model_voyager',\n",
       " 'short_model_vtx1300c',\n",
       " 'short_model_vue',\n",
       " 'short_model_w350',\n",
       " 'short_model_willys',\n",
       " 'short_model_windstar',\n",
       " 'short_model_wrangler',\n",
       " 'short_model_wrx',\n",
       " 'short_model_x-3',\n",
       " 'short_model_x-type',\n",
       " 'short_model_x1',\n",
       " 'short_model_x2',\n",
       " 'short_model_x3',\n",
       " 'short_model_x4',\n",
       " 'short_model_x5',\n",
       " 'short_model_x6',\n",
       " 'short_model_xc',\n",
       " 'short_model_xc40',\n",
       " 'short_model_xc60',\n",
       " 'short_model_xc70',\n",
       " 'short_model_xc90',\n",
       " 'short_model_xe',\n",
       " 'short_model_xf',\n",
       " 'short_model_xj',\n",
       " 'short_model_xj-series',\n",
       " 'short_model_xj8',\n",
       " 'short_model_xk8',\n",
       " 'short_model_xt4',\n",
       " 'short_model_xt5',\n",
       " 'short_model_xt6',\n",
       " 'short_model_xterra',\n",
       " 'short_model_xts',\n",
       " 'short_model_xv',\n",
       " 'short_model_yaris',\n",
       " 'short_model_yukon',\n",
       " 'short_model_z',\n",
       " 'short_model_z3',\n",
       " 'short_model_z4',\n",
       " 'short_model_zephyr',\n",
       " 'short_model_zx2',\n",
       " 'transmission_automatic',\n",
       " 'transmission_manual',\n",
       " 'transmission_other',\n",
       " 'region_SF bay area',\n",
       " 'region_abilene',\n",
       " 'region_akron / canton',\n",
       " 'region_albany',\n",
       " 'region_albuquerque',\n",
       " 'region_altoona-johnstown',\n",
       " 'region_amarillo',\n",
       " 'region_ames',\n",
       " 'region_anchorage / mat-su',\n",
       " 'region_ann arbor',\n",
       " 'region_annapolis',\n",
       " 'region_appleton-oshkosh-FDL',\n",
       " 'region_asheville',\n",
       " 'region_ashtabula',\n",
       " 'region_athens',\n",
       " 'region_atlanta',\n",
       " 'region_auburn',\n",
       " 'region_augusta',\n",
       " 'region_austin',\n",
       " 'region_bakersfield',\n",
       " 'region_baltimore',\n",
       " 'region_baton rouge',\n",
       " 'region_battle creek',\n",
       " 'region_beaumont / port arthur',\n",
       " 'region_bellingham',\n",
       " 'region_bemidji',\n",
       " 'region_bend',\n",
       " 'region_billings',\n",
       " 'region_binghamton',\n",
       " 'region_birmingham',\n",
       " 'region_bismarck',\n",
       " 'region_bloomington',\n",
       " 'region_bloomington-normal',\n",
       " 'region_boise',\n",
       " 'region_boone',\n",
       " 'region_boston',\n",
       " 'region_boulder',\n",
       " 'region_bowling green',\n",
       " 'region_bozeman',\n",
       " 'region_brainerd',\n",
       " 'region_brownsville',\n",
       " 'region_brunswick',\n",
       " 'region_buffalo',\n",
       " ...]"
      ]
     },
     "execution_count": 4,
     "metadata": {},
     "output_type": "execute_result"
    }
   ],
   "source": [
    "features_list = list(train.drop(['price'], axis=1))\n",
    "features_list\n"
   ]
  },
  {
   "cell_type": "code",
   "execution_count": 5,
   "metadata": {
    "execution": {
     "iopub.execute_input": "2023-09-25T14:29:42.770498Z",
     "iopub.status.busy": "2023-09-25T14:29:42.770295Z",
     "iopub.status.idle": "2023-09-25T14:29:42.773691Z",
     "shell.execute_reply": "2023-09-25T14:29:42.773276Z",
     "shell.execute_reply.started": "2023-09-25T14:29:42.770478Z"
    },
    "tags": []
   },
   "outputs": [
    {
     "name": "stdout",
     "output_type": "stream",
     "text": [
      "Нулевой коэф manufacturer_ferrari=0.0\n"
     ]
    }
   ],
   "source": [
    "for col, i in zip(features_list, lr.coef_):\n",
    "    if i == 0.0:\n",
    "        print(f'Нулевой коэф {col}={i}')"
   ]
  },
  {
   "cell_type": "code",
   "execution_count": 6,
   "metadata": {
    "execution": {
     "iopub.execute_input": "2023-09-25T14:29:42.774833Z",
     "iopub.status.busy": "2023-09-25T14:29:42.774656Z",
     "iopub.status.idle": "2023-09-25T14:30:10.547193Z",
     "shell.execute_reply": "2023-09-25T14:30:10.546683Z",
     "shell.execute_reply.started": "2023-09-25T14:29:42.774815Z"
    },
    "tags": []
   },
   "outputs": [
    {
     "data": {
      "text/plain": [
       "4600.341115918074"
      ]
     },
     "execution_count": 6,
     "metadata": {},
     "output_type": "execute_result"
    }
   ],
   "source": [
    "df_prepared = df.drop(columns = ['odometer/price_std','price_category','manufacturer_ferrari'])\n",
    "train,test = train_test_split(df_prepared,test_size = 0.3, random_state=42)\n",
    "lr = LinearRegression()\n",
    "lr.fit(train.drop(['price'], axis=1), train.price)\n",
    "pred = lr.predict(test.drop(['price'], axis=1))\n",
    "mean_absolute_error(test.price, pred)"
   ]
  },
  {
   "cell_type": "markdown",
   "metadata": {
    "id": "n3d55h5IQZoC"
   },
   "source": [
    "**Задача 1. Логистическая регрессия**\n",
    "\n",
    "Теперь в рамках тех же данных попробуйте предсказать `price_category` с помощью алгоритма логистической регрессии. Предварительно из датафрейма удалите переменные, в которых косвенно содержится информация о целевой переменной (`odometer/price_std`, `price`). \n",
    "\n",
    "Для обученной модели нужно:\n",
    "\n",
    "- рассчитать и вывести метрику качества (accuracy) на тренировочной выборке;\n",
    "- сделать предикт на тестовых данных и положить его в переменную `logreg_pred`;\n",
    "- рассчитать и вывести accuracy и confusion_matrix на тестовой выборке.\n",
    "\n",
    "\n",
    "Задание засчитывается, если: \n",
    "- accuracy на тренировочной выборке > 87%;\n",
    "- accuracy на тестовой выборке > 75.5%.\n",
    "\n",
    "Для улучшения метрики можно преобразовывать входные данные, тюнить параметры логистической регрессии."
   ]
  },
  {
   "cell_type": "code",
   "execution_count": 7,
   "metadata": {
    "execution": {
     "iopub.execute_input": "2023-09-25T15:07:56.906154Z",
     "iopub.status.busy": "2023-09-25T15:07:56.905857Z",
     "iopub.status.idle": "2023-09-25T15:07:57.009916Z",
     "shell.execute_reply": "2023-09-25T15:07:57.009388Z",
     "shell.execute_reply.started": "2023-09-25T15:07:56.906129Z"
    },
    "tags": []
   },
   "outputs": [],
   "source": [
    "df_logr = df.drop(['price', 'odometer/price_std','id'], axis=1)"
   ]
  },
  {
   "cell_type": "code",
   "execution_count": 8,
   "metadata": {
    "execution": {
     "iopub.execute_input": "2023-09-25T15:07:57.383509Z",
     "iopub.status.busy": "2023-09-25T15:07:57.383212Z",
     "iopub.status.idle": "2023-09-25T15:07:57.574965Z",
     "shell.execute_reply": "2023-09-25T15:07:57.574410Z",
     "shell.execute_reply.started": "2023-09-25T15:07:57.383486Z"
    },
    "id": "tZpWbWaMootx",
    "tags": []
   },
   "outputs": [],
   "source": [
    "# Ваш код подготовки данных здесь. Допишите инициализацию входных фичей и целевую переменную\n",
    "x = df_logr.drop(['price_category'], axis=1)\n",
    "y = df_logr.price_category\n",
    "\n",
    "x_train, x_test, y_train, y_test = train_test_split(x, y, test_size=0.3, random_state=42)"
   ]
  },
  {
   "cell_type": "code",
   "execution_count": 9,
   "metadata": {
    "execution": {
     "iopub.execute_input": "2023-09-25T15:07:57.949119Z",
     "iopub.status.busy": "2023-09-25T15:07:57.948836Z",
     "iopub.status.idle": "2023-09-25T15:08:47.103889Z",
     "shell.execute_reply": "2023-09-25T15:08:47.102559Z",
     "shell.execute_reply.started": "2023-09-25T15:07:57.949092Z"
    },
    "id": "XQL-04-XpD_n",
    "tags": []
   },
   "outputs": [
    {
     "data": {
      "text/html": [
       "<style>#sk-container-id-1 {color: black;background-color: white;}#sk-container-id-1 pre{padding: 0;}#sk-container-id-1 div.sk-toggleable {background-color: white;}#sk-container-id-1 label.sk-toggleable__label {cursor: pointer;display: block;width: 100%;margin-bottom: 0;padding: 0.3em;box-sizing: border-box;text-align: center;}#sk-container-id-1 label.sk-toggleable__label-arrow:before {content: \"▸\";float: left;margin-right: 0.25em;color: #696969;}#sk-container-id-1 label.sk-toggleable__label-arrow:hover:before {color: black;}#sk-container-id-1 div.sk-estimator:hover label.sk-toggleable__label-arrow:before {color: black;}#sk-container-id-1 div.sk-toggleable__content {max-height: 0;max-width: 0;overflow: hidden;text-align: left;background-color: #f0f8ff;}#sk-container-id-1 div.sk-toggleable__content pre {margin: 0.2em;color: black;border-radius: 0.25em;background-color: #f0f8ff;}#sk-container-id-1 input.sk-toggleable__control:checked~div.sk-toggleable__content {max-height: 200px;max-width: 100%;overflow: auto;}#sk-container-id-1 input.sk-toggleable__control:checked~label.sk-toggleable__label-arrow:before {content: \"▾\";}#sk-container-id-1 div.sk-estimator input.sk-toggleable__control:checked~label.sk-toggleable__label {background-color: #d4ebff;}#sk-container-id-1 div.sk-label input.sk-toggleable__control:checked~label.sk-toggleable__label {background-color: #d4ebff;}#sk-container-id-1 input.sk-hidden--visually {border: 0;clip: rect(1px 1px 1px 1px);clip: rect(1px, 1px, 1px, 1px);height: 1px;margin: -1px;overflow: hidden;padding: 0;position: absolute;width: 1px;}#sk-container-id-1 div.sk-estimator {font-family: monospace;background-color: #f0f8ff;border: 1px dotted black;border-radius: 0.25em;box-sizing: border-box;margin-bottom: 0.5em;}#sk-container-id-1 div.sk-estimator:hover {background-color: #d4ebff;}#sk-container-id-1 div.sk-parallel-item::after {content: \"\";width: 100%;border-bottom: 1px solid gray;flex-grow: 1;}#sk-container-id-1 div.sk-label:hover label.sk-toggleable__label {background-color: #d4ebff;}#sk-container-id-1 div.sk-serial::before {content: \"\";position: absolute;border-left: 1px solid gray;box-sizing: border-box;top: 0;bottom: 0;left: 50%;z-index: 0;}#sk-container-id-1 div.sk-serial {display: flex;flex-direction: column;align-items: center;background-color: white;padding-right: 0.2em;padding-left: 0.2em;position: relative;}#sk-container-id-1 div.sk-item {position: relative;z-index: 1;}#sk-container-id-1 div.sk-parallel {display: flex;align-items: stretch;justify-content: center;background-color: white;position: relative;}#sk-container-id-1 div.sk-item::before, #sk-container-id-1 div.sk-parallel-item::before {content: \"\";position: absolute;border-left: 1px solid gray;box-sizing: border-box;top: 0;bottom: 0;left: 50%;z-index: -1;}#sk-container-id-1 div.sk-parallel-item {display: flex;flex-direction: column;z-index: 1;position: relative;background-color: white;}#sk-container-id-1 div.sk-parallel-item:first-child::after {align-self: flex-end;width: 50%;}#sk-container-id-1 div.sk-parallel-item:last-child::after {align-self: flex-start;width: 50%;}#sk-container-id-1 div.sk-parallel-item:only-child::after {width: 0;}#sk-container-id-1 div.sk-dashed-wrapped {border: 1px dashed gray;margin: 0 0.4em 0.5em 0.4em;box-sizing: border-box;padding-bottom: 0.4em;background-color: white;}#sk-container-id-1 div.sk-label label {font-family: monospace;font-weight: bold;display: inline-block;line-height: 1.2em;}#sk-container-id-1 div.sk-label-container {text-align: center;}#sk-container-id-1 div.sk-container {/* jupyter's `normalize.less` sets `[hidden] { display: none; }` but bootstrap.min.css set `[hidden] { display: none !important; }` so we also need the `!important` here to be able to override the default hidden behavior on the sphinx rendered scikit-learn.org. See: https://github.com/scikit-learn/scikit-learn/issues/21755 */display: inline-block !important;position: relative;}#sk-container-id-1 div.sk-text-repr-fallback {display: none;}</style><div id=\"sk-container-id-1\" class=\"sk-top-container\"><div class=\"sk-text-repr-fallback\"><pre>LogisticRegression(max_iter=1000)</pre><b>In a Jupyter environment, please rerun this cell to show the HTML representation or trust the notebook. <br />On GitHub, the HTML representation is unable to render, please try loading this page with nbviewer.org.</b></div><div class=\"sk-container\" hidden><div class=\"sk-item\"><div class=\"sk-estimator sk-toggleable\"><input class=\"sk-toggleable__control sk-hidden--visually\" id=\"sk-estimator-id-1\" type=\"checkbox\" checked><label for=\"sk-estimator-id-1\" class=\"sk-toggleable__label sk-toggleable__label-arrow\">LogisticRegression</label><div class=\"sk-toggleable__content\"><pre>LogisticRegression(max_iter=1000)</pre></div></div></div></div></div>"
      ],
      "text/plain": [
       "LogisticRegression(max_iter=1000)"
      ]
     },
     "execution_count": 9,
     "metadata": {},
     "output_type": "execute_result"
    }
   ],
   "source": [
    "# Ваш код обучения моделей здесь\n",
    "logreg = LogisticRegression(max_iter=1000)\n",
    "logreg.fit(x_train,y_train)\n"
   ]
  },
  {
   "cell_type": "code",
   "execution_count": 10,
   "metadata": {
    "execution": {
     "iopub.execute_input": "2023-09-25T15:08:47.111293Z",
     "iopub.status.busy": "2023-09-25T15:08:47.110459Z",
     "iopub.status.idle": "2023-09-25T15:08:47.505651Z",
     "shell.execute_reply": "2023-09-25T15:08:47.504962Z",
     "shell.execute_reply.started": "2023-09-25T15:08:47.111264Z"
    },
    "tags": []
   },
   "outputs": [
    {
     "data": {
      "text/plain": [
       "0.8550423288281598"
      ]
     },
     "execution_count": 10,
     "metadata": {},
     "output_type": "execute_result"
    }
   ],
   "source": [
    "preg = logreg.predict(x_train)\n",
    "accuracy_score(y_train,preg)"
   ]
  },
  {
   "cell_type": "code",
   "execution_count": 11,
   "metadata": {
    "execution": {
     "iopub.execute_input": "2023-09-25T15:08:47.506900Z",
     "iopub.status.busy": "2023-09-25T15:08:47.506628Z",
     "iopub.status.idle": "2023-09-25T15:08:47.595357Z",
     "shell.execute_reply": "2023-09-25T15:08:47.594344Z",
     "shell.execute_reply.started": "2023-09-25T15:08:47.506878Z"
    },
    "tags": []
   },
   "outputs": [
    {
     "data": {
      "text/plain": [
       "0.7571032571032571"
      ]
     },
     "execution_count": 11,
     "metadata": {},
     "output_type": "execute_result"
    }
   ],
   "source": [
    "log_preg = logreg.predict(x_test)\n",
    "accuracy_score(y_test,log_preg)"
   ]
  },
  {
   "cell_type": "code",
   "execution_count": 12,
   "metadata": {
    "execution": {
     "iopub.execute_input": "2023-09-25T15:08:47.598305Z",
     "iopub.status.busy": "2023-09-25T15:08:47.597840Z",
     "iopub.status.idle": "2023-09-25T15:10:26.094666Z",
     "shell.execute_reply": "2023-09-25T15:10:26.093617Z",
     "shell.execute_reply.started": "2023-09-25T15:08:47.598261Z"
    },
    "tags": []
   },
   "outputs": [
    {
     "data": {
      "text/html": [
       "<style>#sk-container-id-2 {color: black;background-color: white;}#sk-container-id-2 pre{padding: 0;}#sk-container-id-2 div.sk-toggleable {background-color: white;}#sk-container-id-2 label.sk-toggleable__label {cursor: pointer;display: block;width: 100%;margin-bottom: 0;padding: 0.3em;box-sizing: border-box;text-align: center;}#sk-container-id-2 label.sk-toggleable__label-arrow:before {content: \"▸\";float: left;margin-right: 0.25em;color: #696969;}#sk-container-id-2 label.sk-toggleable__label-arrow:hover:before {color: black;}#sk-container-id-2 div.sk-estimator:hover label.sk-toggleable__label-arrow:before {color: black;}#sk-container-id-2 div.sk-toggleable__content {max-height: 0;max-width: 0;overflow: hidden;text-align: left;background-color: #f0f8ff;}#sk-container-id-2 div.sk-toggleable__content pre {margin: 0.2em;color: black;border-radius: 0.25em;background-color: #f0f8ff;}#sk-container-id-2 input.sk-toggleable__control:checked~div.sk-toggleable__content {max-height: 200px;max-width: 100%;overflow: auto;}#sk-container-id-2 input.sk-toggleable__control:checked~label.sk-toggleable__label-arrow:before {content: \"▾\";}#sk-container-id-2 div.sk-estimator input.sk-toggleable__control:checked~label.sk-toggleable__label {background-color: #d4ebff;}#sk-container-id-2 div.sk-label input.sk-toggleable__control:checked~label.sk-toggleable__label {background-color: #d4ebff;}#sk-container-id-2 input.sk-hidden--visually {border: 0;clip: rect(1px 1px 1px 1px);clip: rect(1px, 1px, 1px, 1px);height: 1px;margin: -1px;overflow: hidden;padding: 0;position: absolute;width: 1px;}#sk-container-id-2 div.sk-estimator {font-family: monospace;background-color: #f0f8ff;border: 1px dotted black;border-radius: 0.25em;box-sizing: border-box;margin-bottom: 0.5em;}#sk-container-id-2 div.sk-estimator:hover {background-color: #d4ebff;}#sk-container-id-2 div.sk-parallel-item::after {content: \"\";width: 100%;border-bottom: 1px solid gray;flex-grow: 1;}#sk-container-id-2 div.sk-label:hover label.sk-toggleable__label {background-color: #d4ebff;}#sk-container-id-2 div.sk-serial::before {content: \"\";position: absolute;border-left: 1px solid gray;box-sizing: border-box;top: 0;bottom: 0;left: 50%;z-index: 0;}#sk-container-id-2 div.sk-serial {display: flex;flex-direction: column;align-items: center;background-color: white;padding-right: 0.2em;padding-left: 0.2em;position: relative;}#sk-container-id-2 div.sk-item {position: relative;z-index: 1;}#sk-container-id-2 div.sk-parallel {display: flex;align-items: stretch;justify-content: center;background-color: white;position: relative;}#sk-container-id-2 div.sk-item::before, #sk-container-id-2 div.sk-parallel-item::before {content: \"\";position: absolute;border-left: 1px solid gray;box-sizing: border-box;top: 0;bottom: 0;left: 50%;z-index: -1;}#sk-container-id-2 div.sk-parallel-item {display: flex;flex-direction: column;z-index: 1;position: relative;background-color: white;}#sk-container-id-2 div.sk-parallel-item:first-child::after {align-self: flex-end;width: 50%;}#sk-container-id-2 div.sk-parallel-item:last-child::after {align-self: flex-start;width: 50%;}#sk-container-id-2 div.sk-parallel-item:only-child::after {width: 0;}#sk-container-id-2 div.sk-dashed-wrapped {border: 1px dashed gray;margin: 0 0.4em 0.5em 0.4em;box-sizing: border-box;padding-bottom: 0.4em;background-color: white;}#sk-container-id-2 div.sk-label label {font-family: monospace;font-weight: bold;display: inline-block;line-height: 1.2em;}#sk-container-id-2 div.sk-label-container {text-align: center;}#sk-container-id-2 div.sk-container {/* jupyter's `normalize.less` sets `[hidden] { display: none; }` but bootstrap.min.css set `[hidden] { display: none !important; }` so we also need the `!important` here to be able to override the default hidden behavior on the sphinx rendered scikit-learn.org. See: https://github.com/scikit-learn/scikit-learn/issues/21755 */display: inline-block !important;position: relative;}#sk-container-id-2 div.sk-text-repr-fallback {display: none;}</style><div id=\"sk-container-id-2\" class=\"sk-top-container\"><div class=\"sk-text-repr-fallback\"><pre>LogisticRegression(C=10, max_iter=1000)</pre><b>In a Jupyter environment, please rerun this cell to show the HTML representation or trust the notebook. <br />On GitHub, the HTML representation is unable to render, please try loading this page with nbviewer.org.</b></div><div class=\"sk-container\" hidden><div class=\"sk-item\"><div class=\"sk-estimator sk-toggleable\"><input class=\"sk-toggleable__control sk-hidden--visually\" id=\"sk-estimator-id-2\" type=\"checkbox\" checked><label for=\"sk-estimator-id-2\" class=\"sk-toggleable__label sk-toggleable__label-arrow\">LogisticRegression</label><div class=\"sk-toggleable__content\"><pre>LogisticRegression(C=10, max_iter=1000)</pre></div></div></div></div></div>"
      ],
      "text/plain": [
       "LogisticRegression(C=10, max_iter=1000)"
      ]
     },
     "execution_count": 12,
     "metadata": {},
     "output_type": "execute_result"
    }
   ],
   "source": [
    "logreg_tune = LogisticRegression(max_iter=1000,C=10)\n",
    "logreg_tune.fit(x_train,y_train)\n"
   ]
  },
  {
   "cell_type": "code",
   "execution_count": 13,
   "metadata": {
    "execution": {
     "iopub.execute_input": "2023-09-25T15:10:26.097008Z",
     "iopub.status.busy": "2023-09-25T15:10:26.096642Z",
     "iopub.status.idle": "2023-09-25T15:10:26.386930Z",
     "shell.execute_reply": "2023-09-25T15:10:26.386440Z",
     "shell.execute_reply.started": "2023-09-25T15:10:26.096972Z"
    },
    "tags": []
   },
   "outputs": [
    {
     "data": {
      "text/plain": [
       "0.893361057478093"
      ]
     },
     "execution_count": 13,
     "metadata": {},
     "output_type": "execute_result"
    }
   ],
   "source": [
    "preg_tune = logreg_tune.predict(x_train)\n",
    "accuracy_score(y_train,preg_tune)"
   ]
  },
  {
   "cell_type": "code",
   "execution_count": 14,
   "metadata": {
    "execution": {
     "iopub.execute_input": "2023-09-25T15:10:26.387951Z",
     "iopub.status.busy": "2023-09-25T15:10:26.387731Z",
     "iopub.status.idle": "2023-09-25T15:10:26.569581Z",
     "shell.execute_reply": "2023-09-25T15:10:26.569114Z",
     "shell.execute_reply.started": "2023-09-25T15:10:26.387931Z"
    },
    "tags": []
   },
   "outputs": [
    {
     "data": {
      "text/plain": [
       "0.7633402633402634"
      ]
     },
     "execution_count": 14,
     "metadata": {},
     "output_type": "execute_result"
    }
   ],
   "source": [
    "log_preg_tune = logreg_tune.predict(x_test)\n",
    "accuracy_score(y_test,log_preg_tune)"
   ]
  },
  {
   "cell_type": "markdown",
   "metadata": {
    "id": "sPYGPr0ssX1l"
   },
   "source": [
    "**Задача 2. Многослойный персептрон**\n",
    "\n",
    "Решите задачу, поставленную в предыдущем задании, применив модель многослойного персептрона. Добейтесь лучших значений точности на тренировочной и тестовой выборках, чем на логистической регрессии, с помощью данного алгоритма. \n",
    "\n",
    "Значимым увеличением точности в данном задании будем считать увеличение больше, чем на 0.01 по метрике accuracy."
   ]
  },
  {
   "cell_type": "code",
   "execution_count": 15,
   "metadata": {
    "execution": {
     "iopub.execute_input": "2023-09-25T14:51:51.810096Z",
     "iopub.status.busy": "2023-09-25T14:51:51.809820Z",
     "iopub.status.idle": "2023-09-25T14:51:52.074226Z",
     "shell.execute_reply": "2023-09-25T14:51:52.073799Z",
     "shell.execute_reply.started": "2023-09-25T14:51:51.810074Z"
    },
    "tags": []
   },
   "outputs": [],
   "source": [
    "df_logr = df.drop(['price', 'odometer/price_std','id'], axis=1)\n",
    "x = df_logr.drop(['price_category'], axis=1)\n",
    "y = df_logr.price_category\n",
    "\n",
    "x_train, x_test, y_train, y_test = train_test_split(x, y, test_size=0.3)"
   ]
  },
  {
   "cell_type": "code",
   "execution_count": 89,
   "metadata": {
    "execution": {
     "iopub.execute_input": "2023-09-25T14:51:55.104065Z",
     "iopub.status.busy": "2023-09-25T14:51:55.103728Z",
     "iopub.status.idle": "2023-09-25T15:05:05.914771Z",
     "shell.execute_reply": "2023-09-25T15:05:05.914147Z",
     "shell.execute_reply.started": "2023-09-25T14:51:55.104043Z"
    },
    "id": "1CWqF0Pl44IW",
    "tags": []
   },
   "outputs": [
    {
     "name": "stderr",
     "output_type": "stream",
     "text": [
      "D:\\Ana\\lib\\site-packages\\sklearn\\neural_network\\_multilayer_perceptron.py:684: ConvergenceWarning: Stochastic Optimizer: Maximum iterations (50) reached and the optimization hasn't converged yet.\n",
      "  warnings.warn(\n"
     ]
    },
    {
     "data": {
      "text/html": [
       "<style>#sk-container-id-31 {color: black;background-color: white;}#sk-container-id-31 pre{padding: 0;}#sk-container-id-31 div.sk-toggleable {background-color: white;}#sk-container-id-31 label.sk-toggleable__label {cursor: pointer;display: block;width: 100%;margin-bottom: 0;padding: 0.3em;box-sizing: border-box;text-align: center;}#sk-container-id-31 label.sk-toggleable__label-arrow:before {content: \"▸\";float: left;margin-right: 0.25em;color: #696969;}#sk-container-id-31 label.sk-toggleable__label-arrow:hover:before {color: black;}#sk-container-id-31 div.sk-estimator:hover label.sk-toggleable__label-arrow:before {color: black;}#sk-container-id-31 div.sk-toggleable__content {max-height: 0;max-width: 0;overflow: hidden;text-align: left;background-color: #f0f8ff;}#sk-container-id-31 div.sk-toggleable__content pre {margin: 0.2em;color: black;border-radius: 0.25em;background-color: #f0f8ff;}#sk-container-id-31 input.sk-toggleable__control:checked~div.sk-toggleable__content {max-height: 200px;max-width: 100%;overflow: auto;}#sk-container-id-31 input.sk-toggleable__control:checked~label.sk-toggleable__label-arrow:before {content: \"▾\";}#sk-container-id-31 div.sk-estimator input.sk-toggleable__control:checked~label.sk-toggleable__label {background-color: #d4ebff;}#sk-container-id-31 div.sk-label input.sk-toggleable__control:checked~label.sk-toggleable__label {background-color: #d4ebff;}#sk-container-id-31 input.sk-hidden--visually {border: 0;clip: rect(1px 1px 1px 1px);clip: rect(1px, 1px, 1px, 1px);height: 1px;margin: -1px;overflow: hidden;padding: 0;position: absolute;width: 1px;}#sk-container-id-31 div.sk-estimator {font-family: monospace;background-color: #f0f8ff;border: 1px dotted black;border-radius: 0.25em;box-sizing: border-box;margin-bottom: 0.5em;}#sk-container-id-31 div.sk-estimator:hover {background-color: #d4ebff;}#sk-container-id-31 div.sk-parallel-item::after {content: \"\";width: 100%;border-bottom: 1px solid gray;flex-grow: 1;}#sk-container-id-31 div.sk-label:hover label.sk-toggleable__label {background-color: #d4ebff;}#sk-container-id-31 div.sk-serial::before {content: \"\";position: absolute;border-left: 1px solid gray;box-sizing: border-box;top: 0;bottom: 0;left: 50%;z-index: 0;}#sk-container-id-31 div.sk-serial {display: flex;flex-direction: column;align-items: center;background-color: white;padding-right: 0.2em;padding-left: 0.2em;position: relative;}#sk-container-id-31 div.sk-item {position: relative;z-index: 1;}#sk-container-id-31 div.sk-parallel {display: flex;align-items: stretch;justify-content: center;background-color: white;position: relative;}#sk-container-id-31 div.sk-item::before, #sk-container-id-31 div.sk-parallel-item::before {content: \"\";position: absolute;border-left: 1px solid gray;box-sizing: border-box;top: 0;bottom: 0;left: 50%;z-index: -1;}#sk-container-id-31 div.sk-parallel-item {display: flex;flex-direction: column;z-index: 1;position: relative;background-color: white;}#sk-container-id-31 div.sk-parallel-item:first-child::after {align-self: flex-end;width: 50%;}#sk-container-id-31 div.sk-parallel-item:last-child::after {align-self: flex-start;width: 50%;}#sk-container-id-31 div.sk-parallel-item:only-child::after {width: 0;}#sk-container-id-31 div.sk-dashed-wrapped {border: 1px dashed gray;margin: 0 0.4em 0.5em 0.4em;box-sizing: border-box;padding-bottom: 0.4em;background-color: white;}#sk-container-id-31 div.sk-label label {font-family: monospace;font-weight: bold;display: inline-block;line-height: 1.2em;}#sk-container-id-31 div.sk-label-container {text-align: center;}#sk-container-id-31 div.sk-container {/* jupyter's `normalize.less` sets `[hidden] { display: none; }` but bootstrap.min.css set `[hidden] { display: none !important; }` so we also need the `!important` here to be able to override the default hidden behavior on the sphinx rendered scikit-learn.org. See: https://github.com/scikit-learn/scikit-learn/issues/21755 */display: inline-block !important;position: relative;}#sk-container-id-31 div.sk-text-repr-fallback {display: none;}</style><div id=\"sk-container-id-31\" class=\"sk-top-container\"><div class=\"sk-text-repr-fallback\"><pre>MLPClassifier(hidden_layer_sizes=20, max_iter=50, random_state=30)</pre><b>In a Jupyter environment, please rerun this cell to show the HTML representation or trust the notebook. <br />On GitHub, the HTML representation is unable to render, please try loading this page with nbviewer.org.</b></div><div class=\"sk-container\" hidden><div class=\"sk-item\"><div class=\"sk-estimator sk-toggleable\"><input class=\"sk-toggleable__control sk-hidden--visually\" id=\"sk-estimator-id-31\" type=\"checkbox\" checked><label for=\"sk-estimator-id-31\" class=\"sk-toggleable__label sk-toggleable__label-arrow\">MLPClassifier</label><div class=\"sk-toggleable__content\"><pre>MLPClassifier(hidden_layer_sizes=20, max_iter=50, random_state=30)</pre></div></div></div></div></div>"
      ],
      "text/plain": [
       "MLPClassifier(hidden_layer_sizes=20, max_iter=50, random_state=30)"
      ]
     },
     "execution_count": 89,
     "metadata": {},
     "output_type": "execute_result"
    }
   ],
   "source": [
    "# Ваш код здесь\n",
    "mlp = MLPClassifier(random_state=30, max_iter=50, solver='adam',alpha=0.0001,hidden_layer_sizes=20)\n",
    "mlp.fit(x_train,y_train)"
   ]
  },
  {
   "cell_type": "code",
   "execution_count": 42,
   "metadata": {},
   "outputs": [
    {
     "data": {
      "text/html": [
       "<style>#sk-container-id-10 {color: black;background-color: white;}#sk-container-id-10 pre{padding: 0;}#sk-container-id-10 div.sk-toggleable {background-color: white;}#sk-container-id-10 label.sk-toggleable__label {cursor: pointer;display: block;width: 100%;margin-bottom: 0;padding: 0.3em;box-sizing: border-box;text-align: center;}#sk-container-id-10 label.sk-toggleable__label-arrow:before {content: \"▸\";float: left;margin-right: 0.25em;color: #696969;}#sk-container-id-10 label.sk-toggleable__label-arrow:hover:before {color: black;}#sk-container-id-10 div.sk-estimator:hover label.sk-toggleable__label-arrow:before {color: black;}#sk-container-id-10 div.sk-toggleable__content {max-height: 0;max-width: 0;overflow: hidden;text-align: left;background-color: #f0f8ff;}#sk-container-id-10 div.sk-toggleable__content pre {margin: 0.2em;color: black;border-radius: 0.25em;background-color: #f0f8ff;}#sk-container-id-10 input.sk-toggleable__control:checked~div.sk-toggleable__content {max-height: 200px;max-width: 100%;overflow: auto;}#sk-container-id-10 input.sk-toggleable__control:checked~label.sk-toggleable__label-arrow:before {content: \"▾\";}#sk-container-id-10 div.sk-estimator input.sk-toggleable__control:checked~label.sk-toggleable__label {background-color: #d4ebff;}#sk-container-id-10 div.sk-label input.sk-toggleable__control:checked~label.sk-toggleable__label {background-color: #d4ebff;}#sk-container-id-10 input.sk-hidden--visually {border: 0;clip: rect(1px 1px 1px 1px);clip: rect(1px, 1px, 1px, 1px);height: 1px;margin: -1px;overflow: hidden;padding: 0;position: absolute;width: 1px;}#sk-container-id-10 div.sk-estimator {font-family: monospace;background-color: #f0f8ff;border: 1px dotted black;border-radius: 0.25em;box-sizing: border-box;margin-bottom: 0.5em;}#sk-container-id-10 div.sk-estimator:hover {background-color: #d4ebff;}#sk-container-id-10 div.sk-parallel-item::after {content: \"\";width: 100%;border-bottom: 1px solid gray;flex-grow: 1;}#sk-container-id-10 div.sk-label:hover label.sk-toggleable__label {background-color: #d4ebff;}#sk-container-id-10 div.sk-serial::before {content: \"\";position: absolute;border-left: 1px solid gray;box-sizing: border-box;top: 0;bottom: 0;left: 50%;z-index: 0;}#sk-container-id-10 div.sk-serial {display: flex;flex-direction: column;align-items: center;background-color: white;padding-right: 0.2em;padding-left: 0.2em;position: relative;}#sk-container-id-10 div.sk-item {position: relative;z-index: 1;}#sk-container-id-10 div.sk-parallel {display: flex;align-items: stretch;justify-content: center;background-color: white;position: relative;}#sk-container-id-10 div.sk-item::before, #sk-container-id-10 div.sk-parallel-item::before {content: \"\";position: absolute;border-left: 1px solid gray;box-sizing: border-box;top: 0;bottom: 0;left: 50%;z-index: -1;}#sk-container-id-10 div.sk-parallel-item {display: flex;flex-direction: column;z-index: 1;position: relative;background-color: white;}#sk-container-id-10 div.sk-parallel-item:first-child::after {align-self: flex-end;width: 50%;}#sk-container-id-10 div.sk-parallel-item:last-child::after {align-self: flex-start;width: 50%;}#sk-container-id-10 div.sk-parallel-item:only-child::after {width: 0;}#sk-container-id-10 div.sk-dashed-wrapped {border: 1px dashed gray;margin: 0 0.4em 0.5em 0.4em;box-sizing: border-box;padding-bottom: 0.4em;background-color: white;}#sk-container-id-10 div.sk-label label {font-family: monospace;font-weight: bold;display: inline-block;line-height: 1.2em;}#sk-container-id-10 div.sk-label-container {text-align: center;}#sk-container-id-10 div.sk-container {/* jupyter's `normalize.less` sets `[hidden] { display: none; }` but bootstrap.min.css set `[hidden] { display: none !important; }` so we also need the `!important` here to be able to override the default hidden behavior on the sphinx rendered scikit-learn.org. See: https://github.com/scikit-learn/scikit-learn/issues/21755 */display: inline-block !important;position: relative;}#sk-container-id-10 div.sk-text-repr-fallback {display: none;}</style><div id=\"sk-container-id-10\" class=\"sk-top-container\"><div class=\"sk-text-repr-fallback\"><pre>GridSearchCV(estimator=MLPClassifier(), n_jobs=-1,\n",
       "             param_grid={&#x27;hidden_layer_sizes&#x27;: array([10, 11, 12, 13, 14]),\n",
       "                         &#x27;max_iter&#x27;: [1000, 1900, 2000], &#x27;solver&#x27;: [&#x27;lbfgs&#x27;]})</pre><b>In a Jupyter environment, please rerun this cell to show the HTML representation or trust the notebook. <br />On GitHub, the HTML representation is unable to render, please try loading this page with nbviewer.org.</b></div><div class=\"sk-container\" hidden><div class=\"sk-item sk-dashed-wrapped\"><div class=\"sk-label-container\"><div class=\"sk-label sk-toggleable\"><input class=\"sk-toggleable__control sk-hidden--visually\" id=\"sk-estimator-id-10\" type=\"checkbox\" ><label for=\"sk-estimator-id-10\" class=\"sk-toggleable__label sk-toggleable__label-arrow\">GridSearchCV</label><div class=\"sk-toggleable__content\"><pre>GridSearchCV(estimator=MLPClassifier(), n_jobs=-1,\n",
       "             param_grid={&#x27;hidden_layer_sizes&#x27;: array([10, 11, 12, 13, 14]),\n",
       "                         &#x27;max_iter&#x27;: [1000, 1900, 2000], &#x27;solver&#x27;: [&#x27;lbfgs&#x27;]})</pre></div></div></div><div class=\"sk-parallel\"><div class=\"sk-parallel-item\"><div class=\"sk-item\"><div class=\"sk-label-container\"><div class=\"sk-label sk-toggleable\"><input class=\"sk-toggleable__control sk-hidden--visually\" id=\"sk-estimator-id-11\" type=\"checkbox\" ><label for=\"sk-estimator-id-11\" class=\"sk-toggleable__label sk-toggleable__label-arrow\">estimator: MLPClassifier</label><div class=\"sk-toggleable__content\"><pre>MLPClassifier()</pre></div></div></div><div class=\"sk-serial\"><div class=\"sk-item\"><div class=\"sk-estimator sk-toggleable\"><input class=\"sk-toggleable__control sk-hidden--visually\" id=\"sk-estimator-id-12\" type=\"checkbox\" ><label for=\"sk-estimator-id-12\" class=\"sk-toggleable__label sk-toggleable__label-arrow\">MLPClassifier</label><div class=\"sk-toggleable__content\"><pre>MLPClassifier()</pre></div></div></div></div></div></div></div></div></div></div>"
      ],
      "text/plain": [
       "GridSearchCV(estimator=MLPClassifier(), n_jobs=-1,\n",
       "             param_grid={'hidden_layer_sizes': array([10, 11, 12, 13, 14]),\n",
       "                         'max_iter': [1000, 1900, 2000], 'solver': ['lbfgs']})"
      ]
     },
     "execution_count": 42,
     "metadata": {},
     "output_type": "execute_result"
    }
   ],
   "source": [
    "parameters = {'solver': ['lbfgs'], 'max_iter': [1000,1900,2000 ], 'hidden_layer_sizes':np.arange(10, 15)}\n",
    "mlp_clf = GridSearchCV(MLPClassifier(), parameters, n_jobs=-1)\n",
    "mlp_clf.fit(x_train, y_train)\n"
   ]
  },
  {
   "cell_type": "code",
   "execution_count": 43,
   "metadata": {},
   "outputs": [
    {
     "data": {
      "text/plain": [
       "{'hidden_layer_sizes': 13, 'max_iter': 2000, 'solver': 'lbfgs'}"
      ]
     },
     "execution_count": 43,
     "metadata": {},
     "output_type": "execute_result"
    }
   ],
   "source": [
    "best_params_mlp = mlp_clf.best_params_\n",
    "best_params_mlp"
   ]
  },
  {
   "cell_type": "code",
   "execution_count": 90,
   "metadata": {
    "execution": {
     "iopub.execute_input": "2023-09-25T15:05:05.916546Z",
     "iopub.status.busy": "2023-09-25T15:05:05.916296Z",
     "iopub.status.idle": "2023-09-25T15:05:06.392509Z",
     "shell.execute_reply": "2023-09-25T15:05:06.391982Z",
     "shell.execute_reply.started": "2023-09-25T15:05:05.916524Z"
    },
    "tags": []
   },
   "outputs": [
    {
     "data": {
      "text/plain": [
       "0.7706167706167706"
      ]
     },
     "execution_count": 90,
     "metadata": {},
     "output_type": "execute_result"
    }
   ],
   "source": [
    "mlp_pred= mlp.predict(x_test)\n",
    "accuracy_score(y_test, mlp_pred)"
   ]
  },
  {
   "cell_type": "code",
   "execution_count": 91,
   "metadata": {
    "execution": {
     "iopub.execute_input": "2023-09-25T15:05:06.393813Z",
     "iopub.status.busy": "2023-09-25T15:05:06.393554Z",
     "iopub.status.idle": "2023-09-25T15:05:06.981049Z",
     "shell.execute_reply": "2023-09-25T15:05:06.980639Z",
     "shell.execute_reply.started": "2023-09-25T15:05:06.393792Z"
    },
    "tags": []
   },
   "outputs": [
    {
     "data": {
      "text/plain": [
       "0.9322738749443041"
      ]
     },
     "execution_count": 91,
     "metadata": {},
     "output_type": "execute_result"
    }
   ],
   "source": [
    "mlp_pred2 = mlp.predict(x_train)\n",
    "accuracy_score(y_train,mlp_pred2)"
   ]
  },
  {
   "cell_type": "markdown",
   "metadata": {
    "id": "6ru5oLsGBOLv"
   },
   "source": [
    "**Задача 3. Сравнение с древовидными моделями**\n",
    "\n",
    "Обучите модель случайного леса на тех же данных для предсказания `price_category`. Сравните качество с моделью логистической регрессии и многослойного персептрона. Словами опишите, какая из моделей в каких случаях работает лучше по результатам на тестовой выборке, и обоснуйте свой выбор."
   ]
  },
  {
   "cell_type": "code",
   "execution_count": 19,
   "metadata": {
    "execution": {
     "iopub.execute_input": "2023-09-25T14:36:04.643055Z",
     "iopub.status.busy": "2023-09-25T14:36:04.642747Z",
     "iopub.status.idle": "2023-09-25T14:36:04.646475Z",
     "shell.execute_reply": "2023-09-25T14:36:04.645928Z",
     "shell.execute_reply.started": "2023-09-25T14:36:04.643031Z"
    },
    "id": "gYFQzRHM41Dg",
    "tags": []
   },
   "outputs": [],
   "source": [
    "# Ваш код здесь\n",
    "from sklearn.ensemble import RandomForestClassifier"
   ]
  },
  {
   "cell_type": "code",
   "execution_count": 20,
   "metadata": {
    "execution": {
     "iopub.execute_input": "2023-09-25T14:42:02.974445Z",
     "iopub.status.busy": "2023-09-25T14:42:02.974087Z",
     "iopub.status.idle": "2023-09-25T14:42:07.368060Z",
     "shell.execute_reply": "2023-09-25T14:42:07.367516Z",
     "shell.execute_reply.started": "2023-09-25T14:42:02.974423Z"
    },
    "tags": []
   },
   "outputs": [],
   "source": [
    "df_logr = df.drop(['price', 'odometer/price_std','id'], axis=1)\n",
    "x = df_logr.drop(['price_category'], axis=1)\n",
    "y = df_logr.price_category\n",
    "\n",
    "x_train, x_test, y_train, y_test = train_test_split(x, y, test_size=0.3,random_state=42)"
   ]
  },
  {
   "cell_type": "code",
   "execution_count": 21,
   "metadata": {
    "execution": {
     "iopub.execute_input": "2023-09-25T15:06:00.470019Z",
     "iopub.status.busy": "2023-09-25T15:06:00.469437Z",
     "iopub.status.idle": "2023-09-25T15:06:10.769584Z",
     "shell.execute_reply": "2023-09-25T15:06:10.769045Z",
     "shell.execute_reply.started": "2023-09-25T15:06:00.469994Z"
    },
    "tags": []
   },
   "outputs": [
    {
     "data": {
      "text/html": [
       "<style>#sk-container-id-4 {color: black;background-color: white;}#sk-container-id-4 pre{padding: 0;}#sk-container-id-4 div.sk-toggleable {background-color: white;}#sk-container-id-4 label.sk-toggleable__label {cursor: pointer;display: block;width: 100%;margin-bottom: 0;padding: 0.3em;box-sizing: border-box;text-align: center;}#sk-container-id-4 label.sk-toggleable__label-arrow:before {content: \"▸\";float: left;margin-right: 0.25em;color: #696969;}#sk-container-id-4 label.sk-toggleable__label-arrow:hover:before {color: black;}#sk-container-id-4 div.sk-estimator:hover label.sk-toggleable__label-arrow:before {color: black;}#sk-container-id-4 div.sk-toggleable__content {max-height: 0;max-width: 0;overflow: hidden;text-align: left;background-color: #f0f8ff;}#sk-container-id-4 div.sk-toggleable__content pre {margin: 0.2em;color: black;border-radius: 0.25em;background-color: #f0f8ff;}#sk-container-id-4 input.sk-toggleable__control:checked~div.sk-toggleable__content {max-height: 200px;max-width: 100%;overflow: auto;}#sk-container-id-4 input.sk-toggleable__control:checked~label.sk-toggleable__label-arrow:before {content: \"▾\";}#sk-container-id-4 div.sk-estimator input.sk-toggleable__control:checked~label.sk-toggleable__label {background-color: #d4ebff;}#sk-container-id-4 div.sk-label input.sk-toggleable__control:checked~label.sk-toggleable__label {background-color: #d4ebff;}#sk-container-id-4 input.sk-hidden--visually {border: 0;clip: rect(1px 1px 1px 1px);clip: rect(1px, 1px, 1px, 1px);height: 1px;margin: -1px;overflow: hidden;padding: 0;position: absolute;width: 1px;}#sk-container-id-4 div.sk-estimator {font-family: monospace;background-color: #f0f8ff;border: 1px dotted black;border-radius: 0.25em;box-sizing: border-box;margin-bottom: 0.5em;}#sk-container-id-4 div.sk-estimator:hover {background-color: #d4ebff;}#sk-container-id-4 div.sk-parallel-item::after {content: \"\";width: 100%;border-bottom: 1px solid gray;flex-grow: 1;}#sk-container-id-4 div.sk-label:hover label.sk-toggleable__label {background-color: #d4ebff;}#sk-container-id-4 div.sk-serial::before {content: \"\";position: absolute;border-left: 1px solid gray;box-sizing: border-box;top: 0;bottom: 0;left: 50%;z-index: 0;}#sk-container-id-4 div.sk-serial {display: flex;flex-direction: column;align-items: center;background-color: white;padding-right: 0.2em;padding-left: 0.2em;position: relative;}#sk-container-id-4 div.sk-item {position: relative;z-index: 1;}#sk-container-id-4 div.sk-parallel {display: flex;align-items: stretch;justify-content: center;background-color: white;position: relative;}#sk-container-id-4 div.sk-item::before, #sk-container-id-4 div.sk-parallel-item::before {content: \"\";position: absolute;border-left: 1px solid gray;box-sizing: border-box;top: 0;bottom: 0;left: 50%;z-index: -1;}#sk-container-id-4 div.sk-parallel-item {display: flex;flex-direction: column;z-index: 1;position: relative;background-color: white;}#sk-container-id-4 div.sk-parallel-item:first-child::after {align-self: flex-end;width: 50%;}#sk-container-id-4 div.sk-parallel-item:last-child::after {align-self: flex-start;width: 50%;}#sk-container-id-4 div.sk-parallel-item:only-child::after {width: 0;}#sk-container-id-4 div.sk-dashed-wrapped {border: 1px dashed gray;margin: 0 0.4em 0.5em 0.4em;box-sizing: border-box;padding-bottom: 0.4em;background-color: white;}#sk-container-id-4 div.sk-label label {font-family: monospace;font-weight: bold;display: inline-block;line-height: 1.2em;}#sk-container-id-4 div.sk-label-container {text-align: center;}#sk-container-id-4 div.sk-container {/* jupyter's `normalize.less` sets `[hidden] { display: none; }` but bootstrap.min.css set `[hidden] { display: none !important; }` so we also need the `!important` here to be able to override the default hidden behavior on the sphinx rendered scikit-learn.org. See: https://github.com/scikit-learn/scikit-learn/issues/21755 */display: inline-block !important;position: relative;}#sk-container-id-4 div.sk-text-repr-fallback {display: none;}</style><div id=\"sk-container-id-4\" class=\"sk-top-container\"><div class=\"sk-text-repr-fallback\"><pre>RandomForestClassifier(max_features=&#x27;log2&#x27;, n_estimators=300)</pre><b>In a Jupyter environment, please rerun this cell to show the HTML representation or trust the notebook. <br />On GitHub, the HTML representation is unable to render, please try loading this page with nbviewer.org.</b></div><div class=\"sk-container\" hidden><div class=\"sk-item\"><div class=\"sk-estimator sk-toggleable\"><input class=\"sk-toggleable__control sk-hidden--visually\" id=\"sk-estimator-id-4\" type=\"checkbox\" checked><label for=\"sk-estimator-id-4\" class=\"sk-toggleable__label sk-toggleable__label-arrow\">RandomForestClassifier</label><div class=\"sk-toggleable__content\"><pre>RandomForestClassifier(max_features=&#x27;log2&#x27;, n_estimators=300)</pre></div></div></div></div></div>"
      ],
      "text/plain": [
       "RandomForestClassifier(max_features='log2', n_estimators=300)"
      ]
     },
     "execution_count": 21,
     "metadata": {},
     "output_type": "execute_result"
    }
   ],
   "source": [
    "rf_clf = RandomForestClassifier(max_features='log2', min_samples_leaf=1, n_estimators=300)\n",
    "rf_clf.fit(x_train,y_train)"
   ]
  },
  {
   "cell_type": "code",
   "execution_count": 165,
   "metadata": {
    "execution": {
     "iopub.execute_input": "2023-09-25T14:42:48.878524Z",
     "iopub.status.busy": "2023-09-25T14:42:48.878206Z",
     "iopub.status.idle": "2023-09-25T14:42:48.882125Z",
     "shell.execute_reply": "2023-09-25T14:42:48.881574Z",
     "shell.execute_reply.started": "2023-09-25T14:42:48.878499Z"
    }
   },
   "outputs": [],
   "source": [
    "param_grid = {\n",
    "    'n_estimators': list(range(100,501,100)),\n",
    "    'max_features': ['sqrt', 'log2'],\n",
    "    'min_samples_leaf': list(range(1,10))\n",
    "}    "
   ]
  },
  {
   "cell_type": "code",
   "execution_count": 166,
   "metadata": {
    "execution": {
     "iopub.execute_input": "2023-09-25T14:42:49.552540Z",
     "iopub.status.busy": "2023-09-25T14:42:49.552232Z",
     "iopub.status.idle": "2023-09-25T14:42:49.555911Z",
     "shell.execute_reply": "2023-09-25T14:42:49.555402Z",
     "shell.execute_reply.started": "2023-09-25T14:42:49.552516Z"
    }
   },
   "outputs": [],
   "source": [
    "grid_search_rf_old= GridSearchCV(\n",
    "    estimator = rf_clf,\n",
    "    param_grid=param_grid,\n",
    "    scoring='accuracy',\n",
    "    verbose=1,\n",
    "    n_jobs=-1\n",
    ")"
   ]
  },
  {
   "cell_type": "code",
   "execution_count": 167,
   "metadata": {
    "execution": {
     "iopub.execute_input": "2023-09-25T14:42:50.449001Z",
     "iopub.status.busy": "2023-09-25T14:42:50.448733Z",
     "iopub.status.idle": "2023-09-25T14:46:26.571103Z",
     "shell.execute_reply": "2023-09-25T14:46:26.570485Z",
     "shell.execute_reply.started": "2023-09-25T14:42:50.448979Z"
    }
   },
   "outputs": [
    {
     "name": "stdout",
     "output_type": "stream",
     "text": [
      "Fitting 5 folds for each of 90 candidates, totalling 450 fits\n"
     ]
    },
    {
     "data": {
      "text/plain": [
       "GridSearchCV(estimator=RandomForestClassifier(), n_jobs=-1,\n",
       "             param_grid={'max_features': ['sqrt', 'log2'],\n",
       "                         'min_samples_leaf': [1, 2, 3, 4, 5, 6, 7, 8, 9],\n",
       "                         'n_estimators': [100, 200, 300, 400, 500]},\n",
       "             scoring='accuracy', verbose=1)"
      ]
     },
     "execution_count": 167,
     "metadata": {},
     "output_type": "execute_result"
    }
   ],
   "source": [
    "grid_search_rf_old.fit(x_train, y_train)"
   ]
  },
  {
   "cell_type": "code",
   "execution_count": 168,
   "metadata": {
    "execution": {
     "iopub.execute_input": "2023-09-25T14:46:26.572908Z",
     "iopub.status.busy": "2023-09-25T14:46:26.572555Z",
     "iopub.status.idle": "2023-09-25T14:46:26.577006Z",
     "shell.execute_reply": "2023-09-25T14:46:26.576629Z",
     "shell.execute_reply.started": "2023-09-25T14:46:26.572884Z"
    }
   },
   "outputs": [
    {
     "data": {
      "text/plain": [
       "{'max_features': 'log2', 'min_samples_leaf': 1, 'n_estimators': 300}"
      ]
     },
     "execution_count": 168,
     "metadata": {},
     "output_type": "execute_result"
    }
   ],
   "source": [
    "best_params = grid_search_rf_old.best_params_\n",
    "best_params"
   ]
  },
  {
   "cell_type": "code",
   "execution_count": 22,
   "metadata": {
    "execution": {
     "iopub.execute_input": "2023-09-25T14:49:53.515165Z",
     "iopub.status.busy": "2023-09-25T14:49:53.514929Z",
     "iopub.status.idle": "2023-09-25T14:49:55.002661Z",
     "shell.execute_reply": "2023-09-25T14:49:55.002257Z",
     "shell.execute_reply.started": "2023-09-25T14:49:53.515145Z"
    },
    "tags": []
   },
   "outputs": [
    {
     "name": "stdout",
     "output_type": "stream",
     "text": [
      "0.7598752598752598\n",
      "1.0\n"
     ]
    }
   ],
   "source": [
    "predicted_test_rf = rf_clf.predict(x_test)\n",
    "predicted_train_rf = rf_clf.predict(x_train)\n",
    "print(accuracy_score(y_test,predicted_test_rf))\n",
    "print(accuracy_score(y_train,predicted_train_rf))"
   ]
  },
  {
   "cell_type": "markdown",
   "metadata": {
    "id": "-DrgXqjv2Rgk"
   },
   "source": [
    "**Задача 4. Стратегия голосования**\n",
    "\n",
    "Реализуйте стратегию голосования для предсказания целевой переменной.\n",
    "Голосование в задаче классификации — это когда несколько моделей выдают свои предикты, и финальным выбирается тот предикт, который предсказали большинство моделей.\n",
    "\n",
    "Для реализации этой стратегии проделайте следующее:\n",
    "\n",
    "- сохраните предсказания каждой из моделей (случайный лес, многослойный персептрон, логистическая регрессия) для тестовой выборки в датафрейм `pred_df`;\n",
    "- в четвертую колонку `target` положите тот класс, который предсказало большинство классификаторов. Например, если в строке были значения `high, medium, medium`, в `target` нужно положить `medium`.\n",
    "\n",
    "     Если в строке три разных класса — `high, medium, low`, — придумайте свою стратегию по выбору значения. Самая простая стратегия: выбрать рандомно одно значение из трёх.\n",
    "\n",
    "- посчитайте точность предсказания с помощью голосования. Выведите значения метрик accuracy и confusion_matrix.\n",
    "\n",
    "\n",
    "Добейтесь значения точности > 78% "
   ]
  },
  {
   "cell_type": "code",
   "execution_count": 93,
   "metadata": {
    "execution": {
     "iopub.execute_input": "2023-09-25T15:07:09.578688Z",
     "iopub.status.busy": "2023-09-25T15:07:09.578381Z",
     "iopub.status.idle": "2023-09-25T15:07:09.588009Z",
     "shell.execute_reply": "2023-09-25T15:07:09.587564Z",
     "shell.execute_reply.started": "2023-09-25T15:07:09.578663Z"
    },
    "id": "KKTpNxaK5UhX",
    "tags": []
   },
   "outputs": [
    {
     "data": {
      "text/html": [
       "<div>\n",
       "<style scoped>\n",
       "    .dataframe tbody tr th:only-of-type {\n",
       "        vertical-align: middle;\n",
       "    }\n",
       "\n",
       "    .dataframe tbody tr th {\n",
       "        vertical-align: top;\n",
       "    }\n",
       "\n",
       "    .dataframe thead th {\n",
       "        text-align: right;\n",
       "    }\n",
       "</style>\n",
       "<table border=\"1\" class=\"dataframe\">\n",
       "  <thead>\n",
       "    <tr style=\"text-align: right;\">\n",
       "      <th></th>\n",
       "      <th>RandomForest</th>\n",
       "      <th>MultilayerPerceptron</th>\n",
       "      <th>LogisticPerpession</th>\n",
       "    </tr>\n",
       "  </thead>\n",
       "  <tbody>\n",
       "    <tr>\n",
       "      <th>0</th>\n",
       "      <td>high</td>\n",
       "      <td>high</td>\n",
       "      <td>high</td>\n",
       "    </tr>\n",
       "    <tr>\n",
       "      <th>1</th>\n",
       "      <td>medium</td>\n",
       "      <td>medium</td>\n",
       "      <td>medium</td>\n",
       "    </tr>\n",
       "    <tr>\n",
       "      <th>2</th>\n",
       "      <td>low</td>\n",
       "      <td>low</td>\n",
       "      <td>low</td>\n",
       "    </tr>\n",
       "    <tr>\n",
       "      <th>3</th>\n",
       "      <td>low</td>\n",
       "      <td>low</td>\n",
       "      <td>low</td>\n",
       "    </tr>\n",
       "    <tr>\n",
       "      <th>4</th>\n",
       "      <td>high</td>\n",
       "      <td>high</td>\n",
       "      <td>high</td>\n",
       "    </tr>\n",
       "    <tr>\n",
       "      <th>...</th>\n",
       "      <td>...</td>\n",
       "      <td>...</td>\n",
       "      <td>...</td>\n",
       "    </tr>\n",
       "    <tr>\n",
       "      <th>2881</th>\n",
       "      <td>medium</td>\n",
       "      <td>medium</td>\n",
       "      <td>medium</td>\n",
       "    </tr>\n",
       "    <tr>\n",
       "      <th>2882</th>\n",
       "      <td>low</td>\n",
       "      <td>low</td>\n",
       "      <td>low</td>\n",
       "    </tr>\n",
       "    <tr>\n",
       "      <th>2883</th>\n",
       "      <td>low</td>\n",
       "      <td>low</td>\n",
       "      <td>low</td>\n",
       "    </tr>\n",
       "    <tr>\n",
       "      <th>2884</th>\n",
       "      <td>medium</td>\n",
       "      <td>medium</td>\n",
       "      <td>medium</td>\n",
       "    </tr>\n",
       "    <tr>\n",
       "      <th>2885</th>\n",
       "      <td>low</td>\n",
       "      <td>low</td>\n",
       "      <td>low</td>\n",
       "    </tr>\n",
       "  </tbody>\n",
       "</table>\n",
       "<p>2886 rows × 3 columns</p>\n",
       "</div>"
      ],
      "text/plain": [
       "     RandomForest MultilayerPerceptron LogisticPerpession\n",
       "0            high                 high               high\n",
       "1          medium               medium             medium\n",
       "2             low                  low                low\n",
       "3             low                  low                low\n",
       "4            high                 high               high\n",
       "...           ...                  ...                ...\n",
       "2881       medium               medium             medium\n",
       "2882          low                  low                low\n",
       "2883          low                  low                low\n",
       "2884       medium               medium             medium\n",
       "2885          low                  low                low\n",
       "\n",
       "[2886 rows x 3 columns]"
      ]
     },
     "execution_count": 93,
     "metadata": {},
     "output_type": "execute_result"
    }
   ],
   "source": [
    "# Ваш код здесь\n",
    "pred_df = pd.DataFrame({'RandomForest':predicted_test_rf,'MultilayerPerceptron':mlp_pred,'LogisticPerpession':log_preg_tune})\n",
    "pred_df"
   ]
  },
  {
   "cell_type": "code",
   "execution_count": 94,
   "metadata": {
    "execution": {
     "iopub.execute_input": "2023-09-25T15:07:15.607506Z",
     "iopub.status.busy": "2023-09-25T15:07:15.607250Z",
     "iopub.status.idle": "2023-09-25T15:07:15.886219Z",
     "shell.execute_reply": "2023-09-25T15:07:15.885851Z",
     "shell.execute_reply.started": "2023-09-25T15:07:15.607487Z"
    },
    "scrolled": true,
    "tags": []
   },
   "outputs": [
    {
     "data": {
      "text/html": [
       "<div>\n",
       "<style scoped>\n",
       "    .dataframe tbody tr th:only-of-type {\n",
       "        vertical-align: middle;\n",
       "    }\n",
       "\n",
       "    .dataframe tbody tr th {\n",
       "        vertical-align: top;\n",
       "    }\n",
       "\n",
       "    .dataframe thead th {\n",
       "        text-align: right;\n",
       "    }\n",
       "</style>\n",
       "<table border=\"1\" class=\"dataframe\">\n",
       "  <thead>\n",
       "    <tr style=\"text-align: right;\">\n",
       "      <th></th>\n",
       "      <th>RandomForest</th>\n",
       "      <th>MultilayerPerceptron</th>\n",
       "      <th>LogisticPerpession</th>\n",
       "      <th>target</th>\n",
       "    </tr>\n",
       "  </thead>\n",
       "  <tbody>\n",
       "    <tr>\n",
       "      <th>0</th>\n",
       "      <td>high</td>\n",
       "      <td>high</td>\n",
       "      <td>high</td>\n",
       "      <td>high</td>\n",
       "    </tr>\n",
       "    <tr>\n",
       "      <th>1</th>\n",
       "      <td>medium</td>\n",
       "      <td>medium</td>\n",
       "      <td>medium</td>\n",
       "      <td>medium</td>\n",
       "    </tr>\n",
       "    <tr>\n",
       "      <th>2</th>\n",
       "      <td>low</td>\n",
       "      <td>low</td>\n",
       "      <td>low</td>\n",
       "      <td>low</td>\n",
       "    </tr>\n",
       "    <tr>\n",
       "      <th>3</th>\n",
       "      <td>low</td>\n",
       "      <td>low</td>\n",
       "      <td>low</td>\n",
       "      <td>low</td>\n",
       "    </tr>\n",
       "    <tr>\n",
       "      <th>4</th>\n",
       "      <td>high</td>\n",
       "      <td>high</td>\n",
       "      <td>high</td>\n",
       "      <td>high</td>\n",
       "    </tr>\n",
       "    <tr>\n",
       "      <th>...</th>\n",
       "      <td>...</td>\n",
       "      <td>...</td>\n",
       "      <td>...</td>\n",
       "      <td>...</td>\n",
       "    </tr>\n",
       "    <tr>\n",
       "      <th>2881</th>\n",
       "      <td>medium</td>\n",
       "      <td>medium</td>\n",
       "      <td>medium</td>\n",
       "      <td>medium</td>\n",
       "    </tr>\n",
       "    <tr>\n",
       "      <th>2882</th>\n",
       "      <td>low</td>\n",
       "      <td>low</td>\n",
       "      <td>low</td>\n",
       "      <td>low</td>\n",
       "    </tr>\n",
       "    <tr>\n",
       "      <th>2883</th>\n",
       "      <td>low</td>\n",
       "      <td>low</td>\n",
       "      <td>low</td>\n",
       "      <td>low</td>\n",
       "    </tr>\n",
       "    <tr>\n",
       "      <th>2884</th>\n",
       "      <td>medium</td>\n",
       "      <td>medium</td>\n",
       "      <td>medium</td>\n",
       "      <td>medium</td>\n",
       "    </tr>\n",
       "    <tr>\n",
       "      <th>2885</th>\n",
       "      <td>low</td>\n",
       "      <td>low</td>\n",
       "      <td>low</td>\n",
       "      <td>low</td>\n",
       "    </tr>\n",
       "  </tbody>\n",
       "</table>\n",
       "<p>2886 rows × 4 columns</p>\n",
       "</div>"
      ],
      "text/plain": [
       "     RandomForest MultilayerPerceptron LogisticPerpession  target\n",
       "0            high                 high               high    high\n",
       "1          medium               medium             medium  medium\n",
       "2             low                  low                low     low\n",
       "3             low                  low                low     low\n",
       "4            high                 high               high    high\n",
       "...           ...                  ...                ...     ...\n",
       "2881       medium               medium             medium  medium\n",
       "2882          low                  low                low     low\n",
       "2883          low                  low                low     low\n",
       "2884       medium               medium             medium  medium\n",
       "2885          low                  low                low     low\n",
       "\n",
       "[2886 rows x 4 columns]"
      ]
     },
     "execution_count": 94,
     "metadata": {},
     "output_type": "execute_result"
    }
   ],
   "source": [
    "pred_df['target'] = pred_df.apply(lambda x: x.mode()[0],axis=1)\n",
    "pred_df"
   ]
  },
  {
   "cell_type": "code",
   "execution_count": 96,
   "metadata": {},
   "outputs": [],
   "source": [
    "df_logr = df.drop(['price', 'odometer/price_std','id'], axis=1)\n",
    "x = df_logr.drop(['price_category'], axis=1)\n",
    "y = df_logr.price_category\n",
    "\n",
    "x_train, x_test, y_train, y_test = train_test_split(x, y, test_size=0.3,random_state=42)"
   ]
  },
  {
   "cell_type": "code",
   "execution_count": 95,
   "metadata": {
    "execution": {
     "iopub.execute_input": "2023-09-25T15:10:26.571088Z",
     "iopub.status.busy": "2023-09-25T15:10:26.570851Z",
     "iopub.status.idle": "2023-09-25T15:10:26.578195Z",
     "shell.execute_reply": "2023-09-25T15:10:26.577783Z",
     "shell.execute_reply.started": "2023-09-25T15:10:26.571066Z"
    },
    "tags": []
   },
   "outputs": [
    {
     "data": {
      "text/plain": [
       "0.7737352737352737"
      ]
     },
     "execution_count": 95,
     "metadata": {},
     "output_type": "execute_result"
    }
   ],
   "source": [
    "accuracy_score(y_test,pred_df['target'])"
   ]
  },
  {
   "cell_type": "code",
   "execution_count": 27,
   "metadata": {
    "execution": {
     "iopub.execute_input": "2023-09-25T14:39:03.185765Z",
     "iopub.status.busy": "2023-09-25T14:39:03.185503Z",
     "iopub.status.idle": "2023-09-25T14:39:03.198550Z",
     "shell.execute_reply": "2023-09-25T14:39:03.198131Z",
     "shell.execute_reply.started": "2023-09-25T14:39:03.185744Z"
    }
   },
   "outputs": [
    {
     "data": {
      "text/plain": [
       "array([[849,  30, 118],\n",
       "       [ 70, 770, 113],\n",
       "       [221, 163, 552]], dtype=int64)"
      ]
     },
     "execution_count": 27,
     "metadata": {},
     "output_type": "execute_result"
    }
   ],
   "source": [
    "confusion_matrix(y_test,pred_df.target)"
   ]
  },
  {
   "cell_type": "markdown",
   "metadata": {
    "id": "FmuF3_05i2AD"
   },
   "source": [
    "**Примечание:**\n",
    "\n",
    "В этом домашнем задании в задаче номер 1 и далее перед вами встал выбор: включать ли в обучение колонку `id`. При удалении данной колонки во время обучении логистической регрессии качество заметно улучшается.\n",
    "\n",
    "Вообще обучать любую модель (будь то логистическая или линейная регрессия, или древовидный алгоритм) на данных айдишников не считается хорошей практикой. Как правило, между `id` и целевой переменной не должно быть никаких взаимосвязей. Включая колонку `id` в качества атрибута в обучение, вы стараетесь \"заточить\" результаты своей модели под айдишники записей. Таким образом модель обучится на некотором наборе \"частных случаев\", и, возможно, не обратит внимание на общие зависимости.   "
   ]
  },
  {
   "cell_type": "code",
   "execution_count": null,
   "metadata": {
    "id": "47FEptPukDSs"
   },
   "outputs": [],
   "source": []
  }
 ],
 "metadata": {
  "colab": {
   "collapsed_sections": [],
   "name": "Домашняя работа.ipynb",
   "provenance": []
  },
  "kernelspec": {
   "display_name": "Python 3 (ipykernel)",
   "language": "python",
   "name": "python3"
  },
  "language_info": {
   "codemirror_mode": {
    "name": "ipython",
    "version": 3
   },
   "file_extension": ".py",
   "mimetype": "text/x-python",
   "name": "python",
   "nbconvert_exporter": "python",
   "pygments_lexer": "ipython3",
   "version": "3.10.9"
  }
 },
 "nbformat": 4,
 "nbformat_minor": 4
}
