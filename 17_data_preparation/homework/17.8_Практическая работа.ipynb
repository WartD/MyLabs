{
 "cells": [
  {
   "cell_type": "markdown",
   "id": "d155b010",
   "metadata": {
    "id": "d155b010"
   },
   "source": [
    "# Data Preparation. Практическая работа"
   ]
  },
  {
   "cell_type": "markdown",
   "id": "d30db0d4",
   "metadata": {
    "id": "d30db0d4"
   },
   "source": [
    "## Цели практической работы\n",
    "1. Потренироваться определять типы переменных в датасете, целевую переменную из постановки задачи, распределение переменных.\n",
    "2. Познакомиться с задачей, предстоящей на этапе моделирования.\n",
    "3. Начать исследовать данные для этапа моделирования.\n",
    "\n"
   ]
  },
  {
   "cell_type": "markdown",
   "id": "306ac2de",
   "metadata": {
    "id": "306ac2de"
   },
   "source": [
    "## Что входит в практическую работу\n",
    "1. Загрузить датасет и ознакомиться с ним.\n",
    "2. Исследовать переменные датасета.\n",
    "3. Определить типы переменных в датасете.\n",
    "4. Определить целевую переменную в данных и распределение переменных.\n",
    "\n",
    "\n"
   ]
  },
  {
   "cell_type": "markdown",
   "id": "9994d02b",
   "metadata": {
    "id": "9994d02b"
   },
   "source": [
    "## Что оценивается\n",
    "- Программа выдаёт верный ответ на заданном наборе данных.\n",
    "- Описаны причины выбранного решения, если требуется.\n",
    "- Код читабелен: переменным даны осмысленные названия, отступы и правила расстановки пробелов соблюдены.\n",
    "- Репозиторий проекта содержит осмысленные коммиты, содержащие конкретные реализованные фичи, ветки названы согласно назначению, лишние файлы не хранятся в репозитории.\n",
    "- В репозитории проекта соблюдена иерархия директорий согласно списку модулей и содержащихся в них уроках.\n",
    "- Репозиторий проекта содержит файлы с данными, полученными в результате выполнения практической работы.\n"
   ]
  },
  {
   "cell_type": "markdown",
   "id": "1aec0d81",
   "metadata": {
    "id": "1aec0d81"
   },
   "source": [
    "## Как отправить работу на проверку\n",
    "Сдайте практическую работу этого модуля через систему контроля версий Git сервиса Skillbox GitLab. После загрузки работы на проверку напишите об этом в личном кабинете своему проверяющему преподавателю.\n"
   ]
  },
  {
   "cell_type": "markdown",
   "id": "7bf82afb",
   "metadata": {
    "ExecuteTime": {
     "end_time": "2022-01-11T22:44:08.573461Z",
     "start_time": "2022-01-11T22:44:08.527557Z"
    },
    "id": "7bf82afb"
   },
   "source": [
    "## Задача\n",
    "\n",
    "Начиная с этого урока вы начнёте исследовать и готовить данные для этапа моделирования.\n",
    "\n",
    "Вам предстоит работать с небольшой выборкой из коллекции подержанных автомобилей, выставленных на продажу в Соединённых Штатах, представленной в файле `data/vehicles_dataset.csv`. На этих данных вы построите первую модель классификации, определяющую категорию цены подержанного автомобиля в зависимости от характеристик транспортного средства.\n",
    "В этой практической работе вы загрузите датасет и начнёте его исследование.\n",
    "\n",
    "\n",
    "## Описание датасета:\n",
    "- `id`: идентификатор записи;\n",
    "- `url`: URL записи о продаже;\n",
    "- `region`: регион;\n",
    "- `region_url`: URL региона;\n",
    "- `price`: стоимость;\n",
    "- `year`: год выпуска;\n",
    "- `manufacturer`: производитель;\n",
    "- `model`: модель;\n",
    "- `condition`: состояние;\n",
    "- `cylinders`: количество цилиндров;\n",
    "- `fuel`: тип топлива;\n",
    "- `odometer`: количество пройденных миль;\n",
    "- `title_status`: статус;\n",
    "- `transmission`: коробка передач;\n",
    "- `VIN`: идентификационный номер;\n",
    "- `drive`: тип привода;\n",
    "- `size`: размер;\n",
    "- `type`: кузов;\n",
    "- `paint_color`: цвет;\n",
    "- `image_url`: URL изображения;\n",
    "- `description`: указанное описание;\n",
    "- `county`: страна;\n",
    "- `state`: штат;\n",
    "- `lat`: широта;\n",
    "- `long`: долгота;\n",
    "- `posting_date`: дата размещения объявления о продаже;\n",
    "- `price_category`: категория цены.\n"
   ]
  },
  {
   "cell_type": "code",
   "execution_count": 8,
   "id": "66f36a2e",
   "metadata": {
    "id": "66f36a2e"
   },
   "outputs": [
    {
     "name": "stdout",
     "output_type": "stream",
     "text": [
      "Requirement already satisfied: pandas in d:\\ana\\lib\\site-packages (1.5.3)\n",
      "Requirement already satisfied: pytz>=2020.1 in d:\\ana\\lib\\site-packages (from pandas) (2022.7)\n",
      "Requirement already satisfied: python-dateutil>=2.8.1 in d:\\ana\\lib\\site-packages (from pandas) (2.8.2)\n",
      "Requirement already satisfied: numpy>=1.21.0 in d:\\ana\\lib\\site-packages (from pandas) (1.23.5)\n",
      "Requirement already satisfied: six>=1.5 in d:\\ana\\lib\\site-packages (from python-dateutil>=2.8.1->pandas) (1.16.0)\n"
     ]
    }
   ],
   "source": [
    "# Импортируйте необходимые библиотеки\n",
    "!pip install pandas\n",
    "import pandas as pd"
   ]
  },
  {
   "cell_type": "markdown",
   "id": "abd6f091",
   "metadata": {
    "id": "abd6f091"
   },
   "source": [
    "### Задача 1. Загрузка датасета и ознакомление с ним\n",
    "**Что нужно сделать**\n",
    "\n",
    "Для начала требуется загрузить датасет и ознакомиться с его характеристиками.\n",
    "\n",
    "1. Загрузите датасет из `data/vehicles_dataset.csv` и выведите его.\n"
   ]
  },
  {
   "cell_type": "code",
   "execution_count": 68,
   "id": "65aafba1",
   "metadata": {
    "id": "65aafba1"
   },
   "outputs": [
    {
     "data": {
      "text/html": [
       "<div>\n",
       "<style scoped>\n",
       "    .dataframe tbody tr th:only-of-type {\n",
       "        vertical-align: middle;\n",
       "    }\n",
       "\n",
       "    .dataframe tbody tr th {\n",
       "        vertical-align: top;\n",
       "    }\n",
       "\n",
       "    .dataframe thead th {\n",
       "        text-align: right;\n",
       "    }\n",
       "</style>\n",
       "<table border=\"1\" class=\"dataframe\">\n",
       "  <thead>\n",
       "    <tr style=\"text-align: right;\">\n",
       "      <th></th>\n",
       "      <th>url</th>\n",
       "      <th>region</th>\n",
       "      <th>region_url</th>\n",
       "      <th>price</th>\n",
       "      <th>year</th>\n",
       "      <th>manufacturer</th>\n",
       "      <th>model</th>\n",
       "      <th>condition</th>\n",
       "      <th>cylinders</th>\n",
       "      <th>fuel</th>\n",
       "      <th>...</th>\n",
       "      <th>type</th>\n",
       "      <th>paint_color</th>\n",
       "      <th>image_url</th>\n",
       "      <th>description</th>\n",
       "      <th>county</th>\n",
       "      <th>state</th>\n",
       "      <th>lat</th>\n",
       "      <th>long</th>\n",
       "      <th>posting_date</th>\n",
       "      <th>price_category</th>\n",
       "    </tr>\n",
       "    <tr>\n",
       "      <th>id</th>\n",
       "      <th></th>\n",
       "      <th></th>\n",
       "      <th></th>\n",
       "      <th></th>\n",
       "      <th></th>\n",
       "      <th></th>\n",
       "      <th></th>\n",
       "      <th></th>\n",
       "      <th></th>\n",
       "      <th></th>\n",
       "      <th></th>\n",
       "      <th></th>\n",
       "      <th></th>\n",
       "      <th></th>\n",
       "      <th></th>\n",
       "      <th></th>\n",
       "      <th></th>\n",
       "      <th></th>\n",
       "      <th></th>\n",
       "      <th></th>\n",
       "      <th></th>\n",
       "    </tr>\n",
       "  </thead>\n",
       "  <tbody>\n",
       "    <tr>\n",
       "      <th>7308295377</th>\n",
       "      <td>https://chattanooga.craigslist.org/ctd/d/chatt...</td>\n",
       "      <td>chattanooga</td>\n",
       "      <td>https://chattanooga.craigslist.org</td>\n",
       "      <td>54990</td>\n",
       "      <td>2020.0</td>\n",
       "      <td>ram</td>\n",
       "      <td>2500 crew cab big horn</td>\n",
       "      <td>good</td>\n",
       "      <td>NaN</td>\n",
       "      <td>diesel</td>\n",
       "      <td>...</td>\n",
       "      <td>pickup</td>\n",
       "      <td>silver</td>\n",
       "      <td>https://images.craigslist.org/00N0N_1xMPvfxRAI...</td>\n",
       "      <td>Carvana is the safer way to buy a car During t...</td>\n",
       "      <td>NaN</td>\n",
       "      <td>tn</td>\n",
       "      <td>35.060000</td>\n",
       "      <td>-85.250000</td>\n",
       "      <td>2021-04-17T12:30:50-0400</td>\n",
       "      <td>high</td>\n",
       "    </tr>\n",
       "    <tr>\n",
       "      <th>7316380095</th>\n",
       "      <td>https://newjersey.craigslist.org/ctd/d/carlsta...</td>\n",
       "      <td>north jersey</td>\n",
       "      <td>https://newjersey.craigslist.org</td>\n",
       "      <td>16942</td>\n",
       "      <td>2016.0</td>\n",
       "      <td>ford</td>\n",
       "      <td>explorer 4wd 4dr xlt</td>\n",
       "      <td>NaN</td>\n",
       "      <td>6 cylinders</td>\n",
       "      <td>NaN</td>\n",
       "      <td>...</td>\n",
       "      <td>SUV</td>\n",
       "      <td>black</td>\n",
       "      <td>https://images.craigslist.org/00x0x_26jl9F0cnL...</td>\n",
       "      <td>***Call Us for more information at: 201-635-14...</td>\n",
       "      <td>NaN</td>\n",
       "      <td>nj</td>\n",
       "      <td>40.821805</td>\n",
       "      <td>-74.061962</td>\n",
       "      <td>2021-05-03T15:40:21-0400</td>\n",
       "      <td>medium</td>\n",
       "    </tr>\n",
       "    <tr>\n",
       "      <th>7313733749</th>\n",
       "      <td>https://reno.craigslist.org/ctd/d/atlanta-2017...</td>\n",
       "      <td>reno / tahoe</td>\n",
       "      <td>https://reno.craigslist.org</td>\n",
       "      <td>35590</td>\n",
       "      <td>2017.0</td>\n",
       "      <td>volkswagen</td>\n",
       "      <td>golf r hatchback</td>\n",
       "      <td>good</td>\n",
       "      <td>NaN</td>\n",
       "      <td>gas</td>\n",
       "      <td>...</td>\n",
       "      <td>sedan</td>\n",
       "      <td>NaN</td>\n",
       "      <td>https://images.craigslist.org/00y0y_eeZjWeiSfb...</td>\n",
       "      <td>Carvana is the safer way to buy a car During t...</td>\n",
       "      <td>NaN</td>\n",
       "      <td>ca</td>\n",
       "      <td>33.779214</td>\n",
       "      <td>-84.411811</td>\n",
       "      <td>2021-04-28T03:52:20-0700</td>\n",
       "      <td>high</td>\n",
       "    </tr>\n",
       "    <tr>\n",
       "      <th>7308210929</th>\n",
       "      <td>https://fayetteville.craigslist.org/ctd/d/rale...</td>\n",
       "      <td>fayetteville</td>\n",
       "      <td>https://fayetteville.craigslist.org</td>\n",
       "      <td>14500</td>\n",
       "      <td>2013.0</td>\n",
       "      <td>toyota</td>\n",
       "      <td>rav4</td>\n",
       "      <td>NaN</td>\n",
       "      <td>NaN</td>\n",
       "      <td>gas</td>\n",
       "      <td>...</td>\n",
       "      <td>wagon</td>\n",
       "      <td>white</td>\n",
       "      <td>https://images.craigslist.org/00606_iGe5iXidib...</td>\n",
       "      <td>2013 Toyota RAV4 XLE 4dr SUV     Offered by: R...</td>\n",
       "      <td>NaN</td>\n",
       "      <td>nc</td>\n",
       "      <td>35.715954</td>\n",
       "      <td>-78.655304</td>\n",
       "      <td>2021-04-17T10:08:57-0400</td>\n",
       "      <td>medium</td>\n",
       "    </tr>\n",
       "    <tr>\n",
       "      <th>7316474668</th>\n",
       "      <td>https://newyork.craigslist.org/lgi/cto/d/baldw...</td>\n",
       "      <td>new york city</td>\n",
       "      <td>https://newyork.craigslist.org</td>\n",
       "      <td>21800</td>\n",
       "      <td>2021.0</td>\n",
       "      <td>nissan</td>\n",
       "      <td>altima</td>\n",
       "      <td>new</td>\n",
       "      <td>4 cylinders</td>\n",
       "      <td>gas</td>\n",
       "      <td>...</td>\n",
       "      <td>NaN</td>\n",
       "      <td>NaN</td>\n",
       "      <td>https://images.craigslist.org/00V0V_3pSOiPZ3Sd...</td>\n",
       "      <td>2021 Nissan Altima Sv with Only 8 K Miles Titl...</td>\n",
       "      <td>NaN</td>\n",
       "      <td>ny</td>\n",
       "      <td>40.654800</td>\n",
       "      <td>-73.609700</td>\n",
       "      <td>2021-05-03T18:32:06-0400</td>\n",
       "      <td>medium</td>\n",
       "    </tr>\n",
       "    <tr>\n",
       "      <th>...</th>\n",
       "      <td>...</td>\n",
       "      <td>...</td>\n",
       "      <td>...</td>\n",
       "      <td>...</td>\n",
       "      <td>...</td>\n",
       "      <td>...</td>\n",
       "      <td>...</td>\n",
       "      <td>...</td>\n",
       "      <td>...</td>\n",
       "      <td>...</td>\n",
       "      <td>...</td>\n",
       "      <td>...</td>\n",
       "      <td>...</td>\n",
       "      <td>...</td>\n",
       "      <td>...</td>\n",
       "      <td>...</td>\n",
       "      <td>...</td>\n",
       "      <td>...</td>\n",
       "      <td>...</td>\n",
       "      <td>...</td>\n",
       "      <td>...</td>\n",
       "    </tr>\n",
       "    <tr>\n",
       "      <th>7304876387</th>\n",
       "      <td>https://chautauqua.craigslist.org/ctd/d/falcon...</td>\n",
       "      <td>chautauqua</td>\n",
       "      <td>https://chautauqua.craigslist.org</td>\n",
       "      <td>4495</td>\n",
       "      <td>2002.0</td>\n",
       "      <td>toyota</td>\n",
       "      <td>rav4</td>\n",
       "      <td>good</td>\n",
       "      <td>4 cylinders</td>\n",
       "      <td>gas</td>\n",
       "      <td>...</td>\n",
       "      <td>SUV</td>\n",
       "      <td>white</td>\n",
       "      <td>https://images.craigslist.org/00n0n_aaEBqmzz5Z...</td>\n",
       "      <td>Transmission:Automatic Exterior Color:WHITE In...</td>\n",
       "      <td>NaN</td>\n",
       "      <td>ny</td>\n",
       "      <td>42.123900</td>\n",
       "      <td>-79.189500</td>\n",
       "      <td>2021-04-10T16:33:57-0400</td>\n",
       "      <td>low</td>\n",
       "    </tr>\n",
       "    <tr>\n",
       "      <th>7316152972</th>\n",
       "      <td>https://binghamton.craigslist.org/ctd/d/roches...</td>\n",
       "      <td>binghamton</td>\n",
       "      <td>https://binghamton.craigslist.org</td>\n",
       "      <td>14495</td>\n",
       "      <td>2008.0</td>\n",
       "      <td>jeep</td>\n",
       "      <td>wrangler</td>\n",
       "      <td>good</td>\n",
       "      <td>6 cylinders</td>\n",
       "      <td>gas</td>\n",
       "      <td>...</td>\n",
       "      <td>SUV</td>\n",
       "      <td>grey</td>\n",
       "      <td>https://images.craigslist.org/00000_9ZNVdXaiei...</td>\n",
       "      <td>2008 Jeep Wrangler X  Offered by: R&amp;L Auto -- ...</td>\n",
       "      <td>NaN</td>\n",
       "      <td>ny</td>\n",
       "      <td>43.216990</td>\n",
       "      <td>-77.755610</td>\n",
       "      <td>2021-05-03T09:36:30-0400</td>\n",
       "      <td>medium</td>\n",
       "    </tr>\n",
       "    <tr>\n",
       "      <th>7310993818</th>\n",
       "      <td>https://salem.craigslist.org/ctd/d/salem-2011-...</td>\n",
       "      <td>salem</td>\n",
       "      <td>https://salem.craigslist.org</td>\n",
       "      <td>8995</td>\n",
       "      <td>2011.0</td>\n",
       "      <td>audi</td>\n",
       "      <td>a3 2.0t premium plus pzev</td>\n",
       "      <td>NaN</td>\n",
       "      <td>4 cylinders</td>\n",
       "      <td>gas</td>\n",
       "      <td>...</td>\n",
       "      <td>wagon</td>\n",
       "      <td>black</td>\n",
       "      <td>https://images.craigslist.org/00X0X_k5JiZDDyqM...</td>\n",
       "      <td>2011 Audi A3 2.0T Premium Plus PZEV Wagon2011 ...</td>\n",
       "      <td>NaN</td>\n",
       "      <td>or</td>\n",
       "      <td>44.925908</td>\n",
       "      <td>-122.982753</td>\n",
       "      <td>2021-04-22T12:14:01-0700</td>\n",
       "      <td>low</td>\n",
       "    </tr>\n",
       "    <tr>\n",
       "      <th>7306637427</th>\n",
       "      <td>https://madison.craigslist.org/ctd/d/madison-2...</td>\n",
       "      <td>madison</td>\n",
       "      <td>https://madison.craigslist.org</td>\n",
       "      <td>31900</td>\n",
       "      <td>2015.0</td>\n",
       "      <td>porsche</td>\n",
       "      <td>cayenne</td>\n",
       "      <td>good</td>\n",
       "      <td>6 cylinders</td>\n",
       "      <td>hybrid</td>\n",
       "      <td>...</td>\n",
       "      <td>wagon</td>\n",
       "      <td>brown</td>\n",
       "      <td>https://images.craigslist.org/00O0O_gBihGEQxYT...</td>\n",
       "      <td>2015 Porsche Cayenne AWD 4dr S E-Hybrid - $31,...</td>\n",
       "      <td>NaN</td>\n",
       "      <td>wi</td>\n",
       "      <td>43.029559</td>\n",
       "      <td>-89.397796</td>\n",
       "      <td>2021-04-14T09:14:42-0500</td>\n",
       "      <td>high</td>\n",
       "    </tr>\n",
       "    <tr>\n",
       "      <th>7311960763</th>\n",
       "      <td>https://norfolk.craigslist.org/ctd/d/chesapeak...</td>\n",
       "      <td>norfolk / hampton roads</td>\n",
       "      <td>https://norfolk.craigslist.org</td>\n",
       "      <td>31990</td>\n",
       "      <td>2017.0</td>\n",
       "      <td>ram</td>\n",
       "      <td>1500 crew cab big horn</td>\n",
       "      <td>good</td>\n",
       "      <td>8 cylinders</td>\n",
       "      <td>gas</td>\n",
       "      <td>...</td>\n",
       "      <td>pickup</td>\n",
       "      <td>white</td>\n",
       "      <td>https://images.craigslist.org/00c0c_4rTlvLXy36...</td>\n",
       "      <td>Carvana is the safer way to buy a car During t...</td>\n",
       "      <td>NaN</td>\n",
       "      <td>va</td>\n",
       "      <td>36.670000</td>\n",
       "      <td>-76.300000</td>\n",
       "      <td>2021-04-24T13:50:49-0400</td>\n",
       "      <td>high</td>\n",
       "    </tr>\n",
       "  </tbody>\n",
       "</table>\n",
       "<p>10050 rows × 26 columns</p>\n",
       "</div>"
      ],
      "text/plain": [
       "                                                          url  \\\n",
       "id                                                              \n",
       "7308295377  https://chattanooga.craigslist.org/ctd/d/chatt...   \n",
       "7316380095  https://newjersey.craigslist.org/ctd/d/carlsta...   \n",
       "7313733749  https://reno.craigslist.org/ctd/d/atlanta-2017...   \n",
       "7308210929  https://fayetteville.craigslist.org/ctd/d/rale...   \n",
       "7316474668  https://newyork.craigslist.org/lgi/cto/d/baldw...   \n",
       "...                                                       ...   \n",
       "7304876387  https://chautauqua.craigslist.org/ctd/d/falcon...   \n",
       "7316152972  https://binghamton.craigslist.org/ctd/d/roches...   \n",
       "7310993818  https://salem.craigslist.org/ctd/d/salem-2011-...   \n",
       "7306637427  https://madison.craigslist.org/ctd/d/madison-2...   \n",
       "7311960763  https://norfolk.craigslist.org/ctd/d/chesapeak...   \n",
       "\n",
       "                             region                           region_url  \\\n",
       "id                                                                         \n",
       "7308295377              chattanooga   https://chattanooga.craigslist.org   \n",
       "7316380095             north jersey     https://newjersey.craigslist.org   \n",
       "7313733749             reno / tahoe          https://reno.craigslist.org   \n",
       "7308210929             fayetteville  https://fayetteville.craigslist.org   \n",
       "7316474668            new york city       https://newyork.craigslist.org   \n",
       "...                             ...                                  ...   \n",
       "7304876387               chautauqua    https://chautauqua.craigslist.org   \n",
       "7316152972               binghamton    https://binghamton.craigslist.org   \n",
       "7310993818                    salem         https://salem.craigslist.org   \n",
       "7306637427                  madison       https://madison.craigslist.org   \n",
       "7311960763  norfolk / hampton roads       https://norfolk.craigslist.org   \n",
       "\n",
       "            price    year manufacturer                      model condition  \\\n",
       "id                                                                            \n",
       "7308295377  54990  2020.0          ram     2500 crew cab big horn      good   \n",
       "7316380095  16942  2016.0         ford       explorer 4wd 4dr xlt       NaN   \n",
       "7313733749  35590  2017.0   volkswagen           golf r hatchback      good   \n",
       "7308210929  14500  2013.0       toyota                       rav4       NaN   \n",
       "7316474668  21800  2021.0       nissan                     altima       new   \n",
       "...           ...     ...          ...                        ...       ...   \n",
       "7304876387   4495  2002.0       toyota                       rav4      good   \n",
       "7316152972  14495  2008.0         jeep                   wrangler      good   \n",
       "7310993818   8995  2011.0         audi  a3 2.0t premium plus pzev       NaN   \n",
       "7306637427  31900  2015.0      porsche                    cayenne      good   \n",
       "7311960763  31990  2017.0          ram     1500 crew cab big horn      good   \n",
       "\n",
       "              cylinders    fuel  ...    type paint_color  \\\n",
       "id                               ...                       \n",
       "7308295377          NaN  diesel  ...  pickup      silver   \n",
       "7316380095  6 cylinders     NaN  ...     SUV       black   \n",
       "7313733749          NaN     gas  ...   sedan         NaN   \n",
       "7308210929          NaN     gas  ...   wagon       white   \n",
       "7316474668  4 cylinders     gas  ...     NaN         NaN   \n",
       "...                 ...     ...  ...     ...         ...   \n",
       "7304876387  4 cylinders     gas  ...     SUV       white   \n",
       "7316152972  6 cylinders     gas  ...     SUV        grey   \n",
       "7310993818  4 cylinders     gas  ...   wagon       black   \n",
       "7306637427  6 cylinders  hybrid  ...   wagon       brown   \n",
       "7311960763  8 cylinders     gas  ...  pickup       white   \n",
       "\n",
       "                                                    image_url  \\\n",
       "id                                                              \n",
       "7308295377  https://images.craigslist.org/00N0N_1xMPvfxRAI...   \n",
       "7316380095  https://images.craigslist.org/00x0x_26jl9F0cnL...   \n",
       "7313733749  https://images.craigslist.org/00y0y_eeZjWeiSfb...   \n",
       "7308210929  https://images.craigslist.org/00606_iGe5iXidib...   \n",
       "7316474668  https://images.craigslist.org/00V0V_3pSOiPZ3Sd...   \n",
       "...                                                       ...   \n",
       "7304876387  https://images.craigslist.org/00n0n_aaEBqmzz5Z...   \n",
       "7316152972  https://images.craigslist.org/00000_9ZNVdXaiei...   \n",
       "7310993818  https://images.craigslist.org/00X0X_k5JiZDDyqM...   \n",
       "7306637427  https://images.craigslist.org/00O0O_gBihGEQxYT...   \n",
       "7311960763  https://images.craigslist.org/00c0c_4rTlvLXy36...   \n",
       "\n",
       "                                                  description county state  \\\n",
       "id                                                                           \n",
       "7308295377  Carvana is the safer way to buy a car During t...    NaN    tn   \n",
       "7316380095  ***Call Us for more information at: 201-635-14...    NaN    nj   \n",
       "7313733749  Carvana is the safer way to buy a car During t...    NaN    ca   \n",
       "7308210929  2013 Toyota RAV4 XLE 4dr SUV     Offered by: R...    NaN    nc   \n",
       "7316474668  2021 Nissan Altima Sv with Only 8 K Miles Titl...    NaN    ny   \n",
       "...                                                       ...    ...   ...   \n",
       "7304876387  Transmission:Automatic Exterior Color:WHITE In...    NaN    ny   \n",
       "7316152972  2008 Jeep Wrangler X  Offered by: R&L Auto -- ...    NaN    ny   \n",
       "7310993818  2011 Audi A3 2.0T Premium Plus PZEV Wagon2011 ...    NaN    or   \n",
       "7306637427  2015 Porsche Cayenne AWD 4dr S E-Hybrid - $31,...    NaN    wi   \n",
       "7311960763  Carvana is the safer way to buy a car During t...    NaN    va   \n",
       "\n",
       "                  lat        long              posting_date price_category  \n",
       "id                                                                          \n",
       "7308295377  35.060000  -85.250000  2021-04-17T12:30:50-0400           high  \n",
       "7316380095  40.821805  -74.061962  2021-05-03T15:40:21-0400         medium  \n",
       "7313733749  33.779214  -84.411811  2021-04-28T03:52:20-0700           high  \n",
       "7308210929  35.715954  -78.655304  2021-04-17T10:08:57-0400         medium  \n",
       "7316474668  40.654800  -73.609700  2021-05-03T18:32:06-0400         medium  \n",
       "...               ...         ...                       ...            ...  \n",
       "7304876387  42.123900  -79.189500  2021-04-10T16:33:57-0400            low  \n",
       "7316152972  43.216990  -77.755610  2021-05-03T09:36:30-0400         medium  \n",
       "7310993818  44.925908 -122.982753  2021-04-22T12:14:01-0700            low  \n",
       "7306637427  43.029559  -89.397796  2021-04-14T09:14:42-0500           high  \n",
       "7311960763  36.670000  -76.300000  2021-04-24T13:50:49-0400           high  \n",
       "\n",
       "[10050 rows x 26 columns]"
      ]
     },
     "execution_count": 68,
     "metadata": {},
     "output_type": "execute_result"
    }
   ],
   "source": [
    "# Ваш код здесь\n",
    "df = pd.read_csv('vehicles_dataset.csv', sep = ',', index_col = 'id')\n",
    "df"
   ]
  },
  {
   "cell_type": "markdown",
   "id": "35446af7",
   "metadata": {
    "id": "35446af7"
   },
   "source": [
    "2. Выведите размер датасета.\n"
   ]
  },
  {
   "cell_type": "code",
   "execution_count": 23,
   "id": "67b4bf56",
   "metadata": {
    "id": "67b4bf56"
   },
   "outputs": [
    {
     "name": "stdout",
     "output_type": "stream",
     "text": [
      "261300 (10050, 26)\n"
     ]
    }
   ],
   "source": [
    "# Ваш код здесь\n",
    "print(df.size, df.shape)"
   ]
  },
  {
   "cell_type": "markdown",
   "id": "35e95da9",
   "metadata": {
    "id": "35e95da9"
   },
   "source": [
    "3. Выведите список колонок датасета."
   ]
  },
  {
   "cell_type": "code",
   "execution_count": 25,
   "id": "b0f7042e",
   "metadata": {
    "ExecuteTime": {
     "end_time": "2022-01-13T22:35:42.388526Z",
     "start_time": "2022-01-13T22:35:42.330940Z"
    },
    "id": "b0f7042e"
   },
   "outputs": [
    {
     "data": {
      "text/plain": [
       "Index(['url', 'region', 'region_url', 'price', 'year', 'manufacturer', 'model',\n",
       "       'condition', 'cylinders', 'fuel', 'odometer', 'title_status',\n",
       "       'transmission', 'VIN', 'drive', 'size', 'type', 'paint_color',\n",
       "       'image_url', 'description', 'county', 'state', 'lat', 'long',\n",
       "       'posting_date', 'price_category'],\n",
       "      dtype='object')"
      ]
     },
     "execution_count": 25,
     "metadata": {},
     "output_type": "execute_result"
    }
   ],
   "source": [
    "# Ваш код здесь\n",
    "df.columns"
   ]
  },
  {
   "cell_type": "markdown",
   "id": "ad304fe2",
   "metadata": {
    "id": "ad304fe2"
   },
   "source": [
    "4. Выведите описательные статистики для всего датасета (обязательно укажите верный параметр для этого)."
   ]
  },
  {
   "cell_type": "code",
   "execution_count": 66,
   "id": "86739e4c",
   "metadata": {
    "id": "277c5a24"
   },
   "outputs": [
    {
     "name": "stdout",
     "output_type": "stream",
     "text": [
      "Среднее по году 2011\n",
      "Средняя цена 20684.29 $\n",
      "Колл-во автомобилей 10050\n",
      "Медиана цены 15749.5 $\n"
     ]
    }
   ],
   "source": [
    "# Ваш код здесь\n",
    "print('Среднее по году', round(df.year.mean()))\n",
    "print('Средняя цена', round(df.price.mean(),2),'$')\n",
    "print('Колл-во автомобилей', len(df))\n",
    "print('Медиана цены', round(df.price.median(),2),'$')"
   ]
  },
  {
   "cell_type": "markdown",
   "id": "6bd31b3f",
   "metadata": {
    "id": "6bd31b3f"
   },
   "source": [
    "### Задача 3. Определение типов переменных в датасете\n",
    "**Что нужно сделать**\n",
    "\n",
    "После ознакомления с характеристиками заполните в таблице, к какому типу относятся некоторые переменные. Для этого на пересечении названия переменной и типа переменной проставьте «X».\n",
    "\n",
    "\n",
    "|  Переменная    | Дискретная | Непрерывная | Качественная |\n",
    "|----------------|------------|-------------|--------------|\n",
    "| id             | X          |             |              |\n",
    "| region         |            |     X       |              |\n",
    "| year           | X          |             |              |\n",
    "| manufacturer   |            |             | X            |\n",
    "| condition      |            |             | X            |\n",
    "| fuel           |            |             | X            |\n",
    "| odometer       |            |     X       |              |\n",
    "| title_status   |            |             | X            |\n",
    "| transmission   |            |             | X            |\n",
    "| VIN            |            |             | X            |\n",
    "| drive          |            |             | X            |\n",
    "| paint_color    |            |             | X            |\n",
    "| state          |            |             | X            |\n",
    "| price_category |            |             | X            |\n"
   ]
  },
  {
   "cell_type": "markdown",
   "id": "ZZSmo9bwiNeP",
   "metadata": {
    "id": "ZZSmo9bwiNeP"
   },
   "source": [
    "### Задача 4. Определение целевой переменной в данных и распределения переменных\n",
    "**Что нужно сделать**\n",
    "\n",
    "1. Исходя из поставленной задачи определите, в какой колонке находится целевая переменная.\n",
    "\n",
    "\n",
    "\n",
    "**Ответ:** price"
   ]
  },
  {
   "cell_type": "markdown",
   "id": "usHGGkBpkzUi",
   "metadata": {
    "id": "usHGGkBpkzUi"
   },
   "source": [
    "2. Выведите для каждого значения целевой переменной его долю вхождения в выборку.\n"
   ]
  },
  {
   "cell_type": "code",
   "execution_count": 109,
   "id": "q7hPwXQllXkY",
   "metadata": {
    "id": "q7hPwXQllXkY"
   },
   "outputs": [
    {
     "data": {
      "text/plain": [
       "high      3514\n",
       "medium    3294\n",
       "low       3242\n",
       "Name: price_category, dtype: int64"
      ]
     },
     "execution_count": 109,
     "metadata": {},
     "output_type": "execute_result"
    }
   ],
   "source": [
    "# Ваш код здесь\n",
    "df.price_category.value_counts()"
   ]
  },
  {
   "cell_type": "markdown",
   "id": "TLPoUkHBmw__",
   "metadata": {
    "id": "TLPoUkHBmw__"
   },
   "source": [
    "3. Ещё раз посмотрите на долю или количество вхождений каждого значения целевой переменной в выборку и напишите, какое это распределение. Определить, как распределены значения целевой переменной, в данном случае можно и без графика. \n",
    "\n",
    "**Ответ:** значения распределены равномерно для каждой категории, +- одинаковое колл-во автомобилей для каждой категории"
   ]
  }
 ],
 "metadata": {
  "colab": {
   "collapsed_sections": [],
   "name": "17.8_Практическая работа.ipynb",
   "provenance": []
  },
  "kernelspec": {
   "display_name": "Python 3 (ipykernel)",
   "language": "python",
   "name": "python3"
  },
  "language_info": {
   "codemirror_mode": {
    "name": "ipython",
    "version": 3
   },
   "file_extension": ".py",
   "mimetype": "text/x-python",
   "name": "python",
   "nbconvert_exporter": "python",
   "pygments_lexer": "ipython3",
   "version": "3.10.9"
  },
  "toc": {
   "base_numbering": 1,
   "nav_menu": {},
   "number_sections": true,
   "sideBar": true,
   "skip_h1_title": false,
   "title_cell": "Table of Contents",
   "title_sidebar": "Contents",
   "toc_cell": false,
   "toc_position": {},
   "toc_section_display": true,
   "toc_window_display": false
  }
 },
 "nbformat": 4,
 "nbformat_minor": 5
}
